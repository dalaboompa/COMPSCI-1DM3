{
 "cells": [
  {
   "cell_type": "markdown",
   "id": "c7b3918c",
   "metadata": {
    "deletable": false,
    "editable": false,
    "nbgrader": {
     "cell_type": "markdown",
     "checksum": "9952bfbba724f49a66b5e53e5706ab85",
     "grade": false,
     "grade_id": "cell-4058974afaa026c8",
     "locked": true,
     "schema_version": 3,
     "solution": false,
     "task": false
    }
   },
   "source": [
    "# 2022 WINTER 1DM3: Assignment 1\n",
    "\n",
    "* Instructor: Bin Guo\n",
    "* Marking: Adam Mak, Hamrish Saravanakumar, Simone Ocvirk (maka9,\n",
    "saravah, ocvirks)\n",
    "* This assignment cover section 1.1 and 1.3. "
   ]
  },
  {
   "cell_type": "markdown",
   "id": "834bca33",
   "metadata": {
    "deletable": false,
    "editable": false,
    "nbgrader": {
     "cell_type": "markdown",
     "checksum": "3da2674e4863ac200958204d516ffd78",
     "grade": false,
     "grade_id": "cell-82abb1a77062f44c",
     "locked": true,
     "schema_version": 3,
     "solution": false,
     "task": false
    }
   },
   "source": [
    "* You are encouraged to work together in __group__ (at most 3 students in each group, please ask TA if you do not know how to build your own group), but your solutions cannot be exactly the same as each other. But, your solution can be similar within your own group. You have to finish the assignment independently with your own writting language. \n",
    "\n",
    "* The assignment is __due__ on Sunday January 23th at 11:59pm. \n",
    "\n",
    "* Your answer should give full detailed explainations. \n",
    "\n",
    "* The assignment will be marked out of 100. The practice questions are explained in tutorials and not counted as marks. \n",
    "\n",
    "* If you complete the assignment correctly by using __LaTex__, you will get 10 marks as bonus (the total marks up to the maximum 100 marks). "
   ]
  },
  {
   "cell_type": "markdown",
   "id": "65c0e6ef",
   "metadata": {
    "deletable": false,
    "editable": false,
    "nbgrader": {
     "cell_type": "markdown",
     "checksum": "21ee2bb4138f564d3f4e71a5055ac616",
     "grade": false,
     "grade_id": "cell-54397e91b72a9e07",
     "locked": true,
     "schema_version": 3,
     "solution": false,
     "task": false
    }
   },
   "source": [
    "$p \\rightarrow q, p \\leftrightarrow q, \\neg q, p \\land q, p \\lor q, p\\oplus q$"
   ]
  },
  {
   "cell_type": "markdown",
   "id": "bb0a636f",
   "metadata": {
    "deletable": false,
    "editable": false,
    "nbgrader": {
     "cell_type": "markdown",
     "checksum": "793c83f12e4625ebce36091ad9513af2",
     "grade": false,
     "grade_id": "cell-3560cb29eddf4ef6",
     "locked": true,
     "schema_version": 3,
     "solution": false,
     "task": false
    }
   },
   "source": [
    "## Practice Question 1 (Section 1.1, 12), not marked\n",
    "Let `p`, `q`, and `r` be the propositions\n",
    "* `p` : You have the flu.\n",
    "* `q` : You miss the final examination.\n",
    "* `r` : You pass the course.\n",
    "\n",
    "Express each of these propositions as an English sentence.\n",
    "\n",
    "a) p → q    \n",
    "b) ¬q ↔ r   \n",
    "c) q → ¬r   \n",
    "d) p ∨ q ∨ r   \n",
    "e) (p → ¬r) ∨ (q → ¬r)   \n",
    "f) (p ∧ q) ∨ (¬q ∧ r)\n"
   ]
  },
  {
   "cell_type": "markdown",
   "id": "f19d089b",
   "metadata": {
    "deletable": false,
    "nbgrader": {
     "cell_type": "markdown",
     "checksum": "4c98d0ee5a5eafddd7b9422c0dbb58cb",
     "grade": true,
     "grade_id": "cell-c839e2d5e6d4c470",
     "locked": false,
     "points": 0,
     "schema_version": 3,
     "solution": true,
     "task": false
    }
   },
   "source": [
    "YOUR ANSWER HERE"
   ]
  },
  {
   "cell_type": "markdown",
   "id": "4f837d3b",
   "metadata": {
    "deletable": false,
    "editable": false,
    "nbgrader": {
     "cell_type": "markdown",
     "checksum": "e94f912ff5f10fdd68d7cf9c2263b1ea",
     "grade": false,
     "grade_id": "cell-aa38708877987f6d",
     "locked": true,
     "schema_version": 3,
     "solution": false,
     "task": false
    }
   },
   "source": [
    "## Practice Question 2 (Section 1.1, 13), not marked\n",
    "Let `p` and `q` be the propositions: \n",
    "* `p`: It is below freezing. \n",
    "* `q`: It is snowing. \n",
    "\n",
    "Write these propositions using `p` and `q` and logical connectives (including negations).   \n",
    "a. It is below freezing and snowing.     \n",
    "b. It is below freezing but not snowing.    \n",
    "c. It is not below freezing and it is not snowing.    \n",
    "d. It is either snowing or below freezing (or both).    \n",
    "e. If it is below freezing, it is also snowing.    \n",
    "f. Either it is below freezing or it is snowing, but it is not snowing if it is below freezing.   \n",
    "g. That it is below freezing is necessary and sufficient for it to be snowing. \n",
    "\n",
    "(Hint):    \n",
    "when sth(p) is sufficient for sth(q) then $p \\rightarrow q$     \n",
    "when q is necessary for p then $p \\rightarrow q$"
   ]
  },
  {
   "cell_type": "markdown",
   "id": "465be854",
   "metadata": {
    "deletable": false,
    "nbgrader": {
     "cell_type": "markdown",
     "checksum": "74eefa316218cf6d726a9cf5e9ba3397",
     "grade": true,
     "grade_id": "cell-540bb1242fcad161",
     "locked": false,
     "points": 0,
     "schema_version": 3,
     "solution": true,
     "task": false
    }
   },
   "source": [
    "YOUR ANSWER HERE"
   ]
  },
  {
   "cell_type": "markdown",
   "id": "b612e111",
   "metadata": {
    "deletable": false,
    "editable": false,
    "nbgrader": {
     "cell_type": "markdown",
     "checksum": "8f363ffb60d34eab718179e36fe68a41",
     "grade": false,
     "grade_id": "cell-211e8298e418f008",
     "locked": true,
     "schema_version": 3,
     "solution": false,
     "task": false
    }
   },
   "source": [
    "## Practice Question 3 (Section 1.1, 31), not marked\n",
    "\n",
    "Construct a truth table for each of these compound propositions.\n",
    "\n",
    "a. p ∧ ¬p              \n",
    "b. p ∨ ¬p           \n",
    "c. p → ¬p         \n",
    "d. (p ∨ ¬q) → q    \n",
    "e. $p \\rightarrow \\neg q$   \n",
    "f. $\\neg p \\leftrightarrow q$    \n",
    "g. $(p \\rightarrow q) \\lor (\\neg p \\rightarrow q)$  "
   ]
  },
  {
   "cell_type": "markdown",
   "id": "79bbca5f",
   "metadata": {
    "deletable": false,
    "nbgrader": {
     "cell_type": "markdown",
     "checksum": "8d4329341c67bc651fa048efa3f0a184",
     "grade": true,
     "grade_id": "cell-f138e470fffbd0c9",
     "locked": false,
     "points": 0,
     "schema_version": 3,
     "solution": true,
     "task": false
    }
   },
   "source": [
    "YOUR ANSWER HERE"
   ]
  },
  {
   "cell_type": "markdown",
   "id": "c3e44e99",
   "metadata": {
    "deletable": false,
    "editable": false,
    "nbgrader": {
     "cell_type": "markdown",
     "checksum": "03f6541b980c0ebaa660c843262d9760",
     "grade": false,
     "grade_id": "cell-1de8a349bc368c34",
     "locked": true,
     "schema_version": 3,
     "solution": false,
     "task": false
    }
   },
   "source": [
    "## Practice Question 4 (Section 1.3, 6), not marked\n",
    "\n",
    "Use a truth table to verify the first De Morgan law\n",
    "\n",
    "¬(p ∧ q) ≡ ¬p ∨ ¬q.\n"
   ]
  },
  {
   "cell_type": "markdown",
   "id": "b42866bf",
   "metadata": {
    "deletable": false,
    "nbgrader": {
     "cell_type": "markdown",
     "checksum": "664f9cd8b6a1320959d9b76f975e6e10",
     "grade": true,
     "grade_id": "cell-7abce8b44a869aa8",
     "locked": false,
     "points": 0,
     "schema_version": 3,
     "solution": true,
     "task": false
    }
   },
   "source": [
    "YOUR ANSWER HERE"
   ]
  },
  {
   "cell_type": "markdown",
   "id": "b6a52fd6",
   "metadata": {
    "deletable": false,
    "editable": false,
    "nbgrader": {
     "cell_type": "markdown",
     "checksum": "345f4ae26096e5fd9294a43ff87a92cb",
     "grade": false,
     "grade_id": "cell-fbc29fd8dd07ba0b",
     "locked": true,
     "schema_version": 3,
     "solution": false,
     "task": false
    }
   },
   "source": [
    "## Practice Question 5 (Section 1.3, 15), not marked\n",
    "\n",
    "Determine whether$ (\\neg q \\land (p \\rightarrow q)) \\rightarrow \\neg p$ is a tautology."
   ]
  },
  {
   "cell_type": "markdown",
   "id": "9ad6aefa",
   "metadata": {
    "deletable": false,
    "nbgrader": {
     "cell_type": "markdown",
     "checksum": "a22d6a36b696733b443caefd05536071",
     "grade": true,
     "grade_id": "cell-d1667f8a684a372e",
     "locked": false,
     "points": 0,
     "schema_version": 3,
     "solution": true,
     "task": false
    }
   },
   "source": [
    "YOUR ANSWER HERE"
   ]
  },
  {
   "cell_type": "markdown",
   "id": "82ddd93a",
   "metadata": {
    "deletable": false,
    "editable": false,
    "nbgrader": {
     "cell_type": "markdown",
     "checksum": "6329e88fc34f01023fc81cd26425a8db",
     "grade": false,
     "grade_id": "cell-f39f47f3faf5b097",
     "locked": true,
     "schema_version": 3,
     "solution": false,
     "task": false
    }
   },
   "source": [
    "## Practice Question 6 (Section 1.3, 21), Not Marked\n",
    "\n",
    "Show that $\\neg(p \\leftrightarrow q)$ and $p \\leftrightarrow \\neg q$ are logically equivalent.\n",
    "\n"
   ]
  },
  {
   "cell_type": "markdown",
   "id": "61f7343a",
   "metadata": {
    "deletable": false,
    "nbgrader": {
     "cell_type": "markdown",
     "checksum": "07817edf1d4c3f272d88946bf768907f",
     "grade": true,
     "grade_id": "cell-db3415e622fcdf49",
     "locked": false,
     "points": 0,
     "schema_version": 3,
     "solution": true,
     "task": false
    }
   },
   "source": [
    "YOUR ANSWER HERE"
   ]
  },
  {
   "cell_type": "markdown",
   "id": "1e01d433",
   "metadata": {
    "deletable": false,
    "editable": false,
    "nbgrader": {
     "cell_type": "markdown",
     "checksum": "8f3e04bea127e5ef1414536286ad9ffc",
     "grade": false,
     "grade_id": "cell-ab378198bd487cba",
     "locked": true,
     "schema_version": 3,
     "solution": false,
     "task": false
    }
   },
   "source": [
    "---------------------------------------------------------------"
   ]
  },
  {
   "cell_type": "markdown",
   "id": "d64da8f9",
   "metadata": {
    "deletable": false,
    "editable": false,
    "nbgrader": {
     "cell_type": "markdown",
     "checksum": "f576b636e29fe01b2cdc8957ddf2f0ea",
     "grade": false,
     "grade_id": "cell-4e40b85c13f1cf60",
     "locked": true,
     "schema_version": 3,
     "solution": false,
     "task": false
    },
    "tags": []
   },
   "source": [
    "## Question 1  [18 marks]\n",
    "\n",
    "Let `p`, `q`, and `r` be the propositions\n",
    "* `p` : You get an 100% on the final exam.\n",
    "* `q` : You do every exercise question.\n",
    "* `r` : You get an 100% in the class.\n",
    "\n",
    "Write these propositions using `p`, `q`, and `r` and logical\n",
    "connectives (including negations).\n",
    "\n",
    "a) You get 100% in the class, but you do not do every exercise question.    \n",
    "b) You get 100% on the final, you do every exercise question, and you get 100% in the class.    \n",
    "c) To get 100% in the class, it is necessary for you to get 100% on the final.    \n",
    "d) You get 100% on the final, but you don’t do every exercise question; nevertheless, you get 100% in the class.    \n",
    "e) Getting 100% on the final and doing every exercise question is sufficient for getting 100% in the class.    \n",
    "f ) You will get 100% in the class if and only if you either do every exercise question or you get 100% on the final. "
   ]
  },
  {
   "cell_type": "markdown",
   "id": "194125db",
   "metadata": {
    "deletable": false,
    "nbgrader": {
     "cell_type": "markdown",
     "checksum": "5406e1c8565d68a524fbdb6903b30076",
     "grade": true,
     "grade_id": "cell-8bbc230cd003a829",
     "locked": false,
     "points": 18,
     "schema_version": 3,
     "solution": true,
     "task": false
    }
   },
   "source": [
    "#### Solutions\n",
    "\n",
    "a) $ p \\wedge \\neg q $\n",
    "\n",
    "b) $ p \\wedge q \\wedge r $\n",
    "\n",
    "c) $ p \\Rightarrow r $\n",
    "\n",
    "d) $ p \\wedge \\neg q \\wedge r $\n",
    "\n",
    "e) $ p \\wedge q \\Rightarrow r $\n",
    "\n",
    "f) $ r \\iff q \\vee p $"
   ]
  },
  {
   "cell_type": "markdown",
   "id": "5a83ae9f",
   "metadata": {
    "deletable": false,
    "editable": false,
    "nbgrader": {
     "cell_type": "markdown",
     "checksum": "e4e06b20dab3df3a5f6fd5fb676785af",
     "grade": false,
     "grade_id": "cell-1966149b257c6cce",
     "locked": true,
     "schema_version": 3,
     "solution": false,
     "task": false
    }
   },
   "source": [
    "## Question 2  [18 marks]\n",
    "\n",
    "Determine whether these biconditionals are true or false.\n",
    "\n",
    "a) 1 + 1 = 4 if and only if people can fly.    \n",
    "b) 1 + 1 = 2 if and only if 1 + 1 = 3.    \n",
    "c) 1 > 2 if and only if 2 > 1.   \n",
    "d) 1 + 2 = 3 if and only if 2 + 3 = 5."
   ]
  },
  {
   "cell_type": "markdown",
   "id": "af6fc555",
   "metadata": {
    "deletable": false,
    "nbgrader": {
     "cell_type": "markdown",
     "checksum": "7fe66bc86d64b09c138da1fd71365ea1",
     "grade": true,
     "grade_id": "cell-58a9688f0a9d7f72",
     "locked": false,
     "points": 18,
     "schema_version": 3,
     "solution": true,
     "task": false
    }
   },
   "source": [
    "#### Solutions\n",
    "\n",
    "a) True. We must show that both implications are True; i.e. to verify that \"1 + 1 = 4 $\\Rightarrow$ people can fly\" is True and \"people can fly $\\Rightarrow$ 1 + 1 = 4\" is True. Since 1 + 1 = 4 is False, the implication \"1 + 1 = 4 $\\Rightarrow$ people can fly\" is True. Since the proposition that people can fly is False, the implication \"people can fly $\\Rightarrow$ 1 + 1 = 4\" is True. Thus, we have shown that the bicondition that 1 + 1 = 4 $\\iff$ people can fly is True. \n",
    "\n",
    "b) False. Let $ p $ denote the statement that 1 + 1 = 2 and $ q $ denote the statement that 1 + 1 = 3. We want to show that $ p \\iff q $ is False. Since $ p $ is True and $ q $ is False, $ p \\Rightarrow q $ is False and $ q \\Rightarrow p$ is True. Thus, it follows that the bicondition $ p \\iff q $ is False. \n",
    "\n",
    "c) False. Let $ p $ denote the statement that 1 > 2 and $ q $ denote the statement that 2 > 1. We want to show that $ p \\iff q $ is False. Since $ p $ is False and $ q $ is True, we know that $ p \\Rightarrow q $ is True and $ q \\Rightarrow p $ is False. Since not both implications are True, it follows that $ p \\iff q $ is False. \n",
    "\n",
    "d) True. Let $ p $ denote the statement that 1 +2 = 3 and $ q $ denote the statement that 2 + 3 = 5. We want to show that $ p \\iff q $ is True. Sicne both $ p $ and $ q $ are True, the implcations $ p \\Rightarrow q $ and $ q \\Rightarrow p $ are True. Thus, we have shown that $ p \\iff q $ is True since both implications are True. "
   ]
  },
  {
   "cell_type": "markdown",
   "id": "08a85162",
   "metadata": {
    "deletable": false,
    "editable": false,
    "nbgrader": {
     "cell_type": "markdown",
     "checksum": "cc56066272fb242681c23a92476be8d8",
     "grade": false,
     "grade_id": "cell-91bc79dbd238f345",
     "locked": true,
     "schema_version": 3,
     "solution": false,
     "task": false
    }
   },
   "source": [
    "## Question 3 [16 marks]\n",
    "\n",
    "For each of these sentences, determine whether an inclusive or, or an exclusive or, is intended. Explain your answer.\n",
    "\n",
    "a) Experiences with Python or C is required.    \n",
    "b) A combo includes fries or onion rings.    \n",
    "c) To enter the country you need a passport or a voter registration card.    \n",
    "d) Faculty members publish papers or are terminated."
   ]
  },
  {
   "cell_type": "markdown",
   "id": "f7a5248a",
   "metadata": {
    "deletable": false,
    "nbgrader": {
     "cell_type": "markdown",
     "checksum": "60df508764c510584260b44263fb2d7a",
     "grade": true,
     "grade_id": "cell-e1d067b51f2fe37b",
     "locked": false,
     "points": 16,
     "schema_version": 3,
     "solution": true,
     "task": false
    }
   },
   "source": [
    "#### Solutions\n",
    "\n",
    "a) Inclusive OR since one can have experiences with both Python and C. \n",
    "\n",
    "b) Exclusive OR since one must make a decision between fries and onion rings but not both. \n",
    "\n",
    "c) Inclusive OR since one can hold both passport and voter registration card to enter the country. \n",
    "\n",
    "d) Exclusive OR since faculty members either publish papers or are terminated. "
   ]
  },
  {
   "cell_type": "markdown",
   "id": "ed56b64e",
   "metadata": {
    "deletable": false,
    "editable": false,
    "nbgrader": {
     "cell_type": "markdown",
     "checksum": "3ce4a1b2fefc2bc6374f48ca113b6e7c",
     "grade": false,
     "grade_id": "cell-836b7a878c1a56d8",
     "locked": true,
     "schema_version": 3,
     "solution": false,
     "task": false
    }
   },
   "source": [
    "## Question 4 [16 marks]\n",
    "\n",
    "Write each of these statements in the form `if p, then q` in English. \n",
    "\n",
    "a) It is necessary to wash the customer’s car to be paid for the service.    \n",
    "b) Winds from the south imply a spring thaw.    \n",
    "c) A sufficient condition for the warranty to be good is that you bought the product less than two years ago.    \n",
    "d) Willy always gets caught when he cheats.    \n",
    "e) You can access the gym only if you pay a membership fee.    \n",
    "f) Getting elected follows from impressing the right people.    \n",
    "g) Carol gets carsick whenever she is in a car."
   ]
  },
  {
   "cell_type": "markdown",
   "id": "f28555b0",
   "metadata": {
    "deletable": false,
    "nbgrader": {
     "cell_type": "markdown",
     "checksum": "1ed701b56e819778c6b0f1df83cca62e",
     "grade": true,
     "grade_id": "cell-843fb74b1be35b78",
     "locked": false,
     "points": 16,
     "schema_version": 3,
     "solution": true,
     "task": false
    }
   },
   "source": [
    "#### Solutions\n",
    "\n",
    "a) If one wash the customers's car, then one is paid for the service. \n",
    "\n",
    "b) If wind is from the south, then the spring thaws. \n",
    "\n",
    "c) If you bought thr product less than two years ago, then the warranty is good. \n",
    "\n",
    "d) If Willy cheats, then he always get caught.\n",
    "\n",
    "e) If you can access the gym, then you pay a membership fee.\n",
    "\n",
    "f) If you impress the right people, then you get elected. \n",
    "\n",
    "g) If Carol is in a car, then she gets carsick. "
   ]
  },
  {
   "cell_type": "markdown",
   "id": "27bb88e2",
   "metadata": {
    "deletable": false,
    "editable": false,
    "nbgrader": {
     "cell_type": "markdown",
     "checksum": "090fe390f7ad167f620c2f698204e6f7",
     "grade": false,
     "grade_id": "cell-6066e8f354d5dc2a",
     "locked": true,
     "schema_version": 3,
     "solution": false,
     "task": false
    }
   },
   "source": [
    "## Question 5 [12 marks]\n",
    "\n",
    "Let `p` and `q` be propositions.    \n",
    "    \n",
    "Construct a truth table for the following compound propositions.\n",
    "\n",
    "a) p ⊕ p    \n",
    "b) p ⊕ ¬p    \n",
    "c) p ⊕ ¬q    \n",
    "d) ¬p ⊕ ¬q   \n",
    "e) (p ⊕ q) ∧ (p ⊕ ¬q)    \n",
    "f) (p ⊕ q) ∨ (p ⊕ ¬q)"
   ]
  },
  {
   "cell_type": "markdown",
   "id": "aeb6a045",
   "metadata": {
    "deletable": false,
    "nbgrader": {
     "cell_type": "markdown",
     "checksum": "e4444743d593e5d07240ba89a38f38e3",
     "grade": true,
     "grade_id": "cell-295f2dbc6726788b",
     "locked": false,
     "points": 12,
     "schema_version": 3,
     "solution": true,
     "task": false
    }
   },
   "source": [
    "#### Solutions\n",
    "\n",
    "a) \n",
    "\n",
    "|$$p$$|$$p \\oplus p$$|\n",
    "|:---:|:------------:|\n",
    "|  T  |       F      |\n",
    "|  F  |       F      |\n",
    "\n",
    "b) \n",
    "\n",
    "|$$p$$|$$\\neg p$$|$$p \\oplus \\neg p$$|\n",
    "|:---:|:--------:|:-----------------:|\n",
    "|  T  |     F    |          T        |\n",
    "|  F  |     T    |          T        |\n",
    "|  T  |     F    |          T        |\n",
    "|  F  |     T    |          T        |\n",
    "\n",
    "c) \n",
    "\n",
    "|$$p$$|$$q$$|$$\\neg q$$|$$p \\oplus \\neg q$$|\n",
    "|:---:|:---:|:--------:|:-----------------:|\n",
    "|  T  |  T  |     F    |          T        |\n",
    "|  F  |  T  |     F    |          F        |\n",
    "|  T  |  F  |     T    |          T        |\n",
    "|  F  |  F  |     T    |          F        |\n",
    "\n",
    "d) \n",
    "\n",
    "| $$p$$ | $$q$$ | $$\\neg p$$ | $$\\neg q$$ | $$\\neg p \\oplus \\neg q$$ |\n",
    "|:-----:|:-----:|:----------:|:----------:|:------------------------:|\n",
    "|   T   |   T   |      F     |      F     |             F            |\n",
    "|   F   |   T   |      T     |      F     |             T            |\n",
    "|   T   |   F   |      F     |      T     |             T            |\n",
    "|   F   |   F   |      T     |      T     |             F            |\n",
    "\n",
    "e) \n",
    "\n",
    "| $$p$$ | $$q$$ | $$\\neg p$$ | $$\\neg q$$ | $$p \\oplus q$$ | $$p \\oplus \\neg q$$ | $$(p \\oplus q) \\wedge (p \\oplus \\neg q)$$ |\n",
    "|:-----:|:-----:|:----------:|:----------:|:--------------:|:-------------------:|:-----------------------------------------:|\n",
    "|   T   |   T   |      F     |      F     |        F       |          T          |                     F                     |\n",
    "|   F   |   T   |      T     |      F     |        T       |          F          |                     F                     |\n",
    "|   T   |   F   |      F     |      T     |        T       |          F          |                     F                     |\n",
    "|   F   |   F   |      T     |      T     |        F       |          T          |                     F                     |\n",
    "\n",
    "f) \n",
    "\n",
    "| $$p$$ | $$q$$ | $$\\neg p$$ | $$\\neg q$$ | $$p \\oplus q$$ | $$p \\oplus \\neg q$$ | $$(p \\oplus q) \\vee (p \\oplus \\neg q)$$ |\n",
    "|:-----:|:-----:|:----------:|:----------:|:--------------:|:-------------------:|:---------------------------------------:|\n",
    "|   T   |   T   |      F     |      F     |        F       |          T          |                    T                    |\n",
    "|   F   |   T   |      T     |      F     |        T       |          F          |                    T                    |\n",
    "|   T   |   F   |      F     |      T     |        T       |          F          |                    T                    |\n",
    "|   F   |   F   |      T     |      T     |        F       |          T          |                    T                    |"
   ]
  },
  {
   "cell_type": "markdown",
   "id": "6ad8bd56",
   "metadata": {
    "deletable": false,
    "editable": false,
    "nbgrader": {
     "cell_type": "markdown",
     "checksum": "0dcad0c18f6592f243ddd6adaf9265f6",
     "grade": false,
     "grade_id": "cell-d37d2024741e85ce",
     "locked": true,
     "schema_version": 3,
     "solution": false,
     "task": false
    }
   },
   "source": [
    "## Question 6  [20 marks]\n",
    "\n",
    "Let `p`, `q`, and `r` be propositions.\n",
    "\n",
    "Verify the associative laws using truth tables.\n",
    "    \n",
    "a) (p ∧ q) ∧ r ≡ p ∧ (q ∧ r)    \n",
    "b) (p ∨ q) ∨ r ≡ p ∨ (q ∨ r)"
   ]
  },
  {
   "cell_type": "markdown",
   "id": "13c4774d",
   "metadata": {
    "deletable": false,
    "nbgrader": {
     "cell_type": "markdown",
     "checksum": "ca6f171b06d83cecdc7748eabdb70698",
     "grade": true,
     "grade_id": "cell-0862c730499db32d",
     "locked": false,
     "points": 20,
     "schema_version": 3,
     "solution": true,
     "task": false
    }
   },
   "source": [
    "#### Solutions\n",
    "\n",
    "a) \n",
    "\n",
    "| $$p$$ | $$q$$ | $$r$$ | $$p \\wedge q$$ | $$(p \\wedge q) \\wedge r$$ |\n",
    "|:-----:|:-----:|:-----:|:--------------:|:-------------------------:|\n",
    "|   T   |   T   |   T   |        T       |             T             |\n",
    "|   T   |   T   |   F   |        T       |             F             |\n",
    "|   T   |   F   |   T   |        F       |             F             |\n",
    "|   T   |   F   |   F   |        F       |             F             |\n",
    "|   F   |   F   |   F   |        F       |             F             |\n",
    "|   F   |   T   |   F   |        F       |             F             |\n",
    "|   F   |   F   |   T   |        F       |             F             |\n",
    "|   F   |   F   |   F   |        F       |             F             |\n",
    "\n",
    "| $$p$$ | $$q$$ | $$r$$ | $$q \\wedge r$$ | $$(p \\wedge q) \\wedge r$$ |\n",
    "|:-----:|:-----:|:-----:|:--------------:|:-------------------------:|\n",
    "|   T   |   T   |   T   |        T       |             T             |\n",
    "|   T   |   T   |   F   |        F       |             F             |\n",
    "|   T   |   F   |   T   |        F       |             F             |\n",
    "|   T   |   F   |   F   |        F       |             F             |\n",
    "|   F   |   F   |   F   |        F       |             F             |\n",
    "|   F   |   T   |   F   |        F       |             F             |\n",
    "|   F   |   F   |   T   |        F       |             F             |\n",
    "|   F   |   F   |   F   |        F       |             F             |\n",
    "\n",
    "Hence, we have shown that $(p \\wedge q) \\wedge r$ is logically equivalent to $p \\wedge (q \\wedge r)$ since they have the same truth table. \n",
    "\n",
    "b) \n",
    "\n",
    "| $$p$$ | $$q$$ | $$r$$ | $$p \\vee q$$ | $$(p \\vee q) \\vee r$$ |\n",
    "|:-----:|:-----:|:-----:|:------------:|:---------------------:|\n",
    "|   T   |   T   |   T   |       T      |           T           |\n",
    "|   T   |   T   |   F   |       T      |           T           |\n",
    "|   T   |   F   |   T   |       T      |           T           |\n",
    "|   T   |   F   |   F   |       T      |           T           |\n",
    "|   F   |   F   |   F   |       F      |           F           |\n",
    "|   F   |   T   |   F   |       T      |           T           |\n",
    "|   F   |   F   |   T   |       F      |           T           |\n",
    "|   F   |   F   |   F   |       F      |           F           |\n",
    "\n",
    "| $$p$$ | $$q$$ | $$r$$ | $$q \\vee r$$ | $$p \\vee (q \\vee r)$$ |\n",
    "|:-----:|:-----:|:-----:|:------------:|:---------------------:|\n",
    "|   T   |   T   |   T   |       T      |           T           |\n",
    "|   T   |   T   |   F   |       T      |           T           |\n",
    "|   T   |   F   |   T   |       T      |           T           |\n",
    "|   T   |   F   |   F   |       F      |           T           |\n",
    "|   F   |   F   |   F   |       F      |           F           |\n",
    "|   F   |   T   |   F   |       T      |           T           |\n",
    "|   F   |   F   |   T   |       T      |           T           |\n",
    "|   F   |   F   |   F   |       F      |           F           |\n",
    "\n",
    "Hence, we have shown that $(p \\vee q) \\vee r$ is logically equivalent to $p \\vee (q \\vee r)$ since they have the same truth table. "
   ]
  },
  {
   "cell_type": "code",
   "execution_count": null,
   "id": "4653f846-2d15-4fec-ad22-31b75f52b0a3",
   "metadata": {},
   "outputs": [],
   "source": []
  }
 ],
 "metadata": {
  "kernelspec": {
   "display_name": "Python 3 (ipykernel)",
   "language": "python",
   "name": "python3"
  },
  "language_info": {
   "codemirror_mode": {
    "name": "ipython",
    "version": 3
   },
   "file_extension": ".py",
   "mimetype": "text/x-python",
   "name": "python",
   "nbconvert_exporter": "python",
   "pygments_lexer": "ipython3",
   "version": "3.10.0"
  }
 },
 "nbformat": 4,
 "nbformat_minor": 5
}
