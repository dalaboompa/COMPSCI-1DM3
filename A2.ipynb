{
 "cells": [
  {
   "cell_type": "markdown",
   "id": "c7b3918c",
   "metadata": {
    "deletable": false,
    "editable": false,
    "nbgrader": {
     "cell_type": "markdown",
     "checksum": "c2a7a1c8204d768bf5cfed59fa73bd9d",
     "grade": false,
     "grade_id": "cell-4058974afaa026c8",
     "locked": true,
     "schema_version": 3,
     "solution": false,
     "task": false
    }
   },
   "source": [
    "# 2022 WINTER 1DM3: Assignment 2 \n",
    "## Cover Section 1.3, 1.4, 1.5\n",
    "\n",
    "* Instructor: Bin Guo\n",
    "* Marking: Adam Mak, Hamrish Saravanakumar, Simone Ocvirk (maka9,\n",
    "saravah, ocvirks)"
   ]
  },
  {
   "cell_type": "markdown",
   "id": "834bca33",
   "metadata": {
    "deletable": false,
    "editable": false,
    "nbgrader": {
     "cell_type": "markdown",
     "checksum": "507bdf08791fbb81517d55fd74d31e7a",
     "grade": false,
     "grade_id": "cell-82abb1a77062f44c",
     "locked": true,
     "schema_version": 3,
     "solution": false,
     "task": false
    }
   },
   "source": [
    "* You are encouraged to work together in __group__ (at most 3 students in each group, please ask TA if you do not know how to build or change your own group). Your solutions cannot be exactly the same as each other, but your solution can be similar within your own group. You have to finish the assignment independently with your own writting language. \n",
    "\n",
    "* The assignment is __due on Sunday January 30th at 11:59pm__. \n",
    "\n",
    "* Your answer should give full detailed explainations. \n",
    "\n",
    "* The assignment will be marked out of __100__. The practice questions are explained in tutorials and not counted as marks. \n",
    "\n",
    "* If you complete the assignment correctly by using LaTex equations and Markdown, you will get 10 marks as __bonus__. The questions 7 is a __bonus__ qeusion which has 12 marks as bonus. \n",
    "\n",
    "* the total marks up to the maximum 100 marks."
   ]
  },
  {
   "cell_type": "markdown",
   "id": "65c0e6ef",
   "metadata": {
    "deletable": false,
    "editable": false,
    "nbgrader": {
     "cell_type": "markdown",
     "checksum": "fe92ee87f1233bad8ae30e116518fa95",
     "grade": false,
     "grade_id": "cell-54397e91b72a9e07",
     "locked": true,
     "schema_version": 3,
     "solution": false,
     "task": false
    }
   },
   "source": [
    "$p \\rightarrow q, p \\leftrightarrow q, \\neg q, p \\land q, p \\lor q, p\\oplus q, p\\equiv q$\n",
    "\n",
    "$\\forall x  P(x), \\exists x  P(x)$  \n",
    "$\\frac{ B \\\\ C \\rightarrow D}{\\therefore A \\rightarrow B}$ "
   ]
  },
  {
   "cell_type": "markdown",
   "id": "9cf04d36",
   "metadata": {
    "deletable": false,
    "editable": false,
    "nbgrader": {
     "cell_type": "markdown",
     "checksum": "c7aa34d147649b4759504d355aff3f74",
     "grade": false,
     "grade_id": "cell-888c725cfb9ae8f8",
     "locked": true,
     "schema_version": 3,
     "solution": false,
     "task": false
    }
   },
   "source": [
    "## Practice Question 1 (Section 1.4, 13), not marked\n",
    "\n",
    "Determine the truth value of each of these statements if\n",
    "the domain consists of **all integers**.    \n",
    "\n",
    "a. $\\forall n\\, (n + 1 > n)$    \n",
    "b. $\\exists n\\, (2n = 3n)$     \n",
    "c. $\\exists n\\, (n = -n)$     \n",
    "d. $\\forall n\\, (3n ≤ 4n)$     "
   ]
  },
  {
   "cell_type": "markdown",
   "id": "b2dfcaa5",
   "metadata": {
    "deletable": false,
    "nbgrader": {
     "cell_type": "markdown",
     "checksum": "6e584a196d7b63e907b47b3d1150288d",
     "grade": true,
     "grade_id": "cell-cb29b17261b8b718",
     "locked": false,
     "points": 0,
     "schema_version": 3,
     "solution": true,
     "task": false
    }
   },
   "source": [
    "YOUR ANSWER HERE"
   ]
  },
  {
   "cell_type": "markdown",
   "id": "9343c611",
   "metadata": {
    "deletable": false,
    "editable": false,
    "nbgrader": {
     "cell_type": "markdown",
     "checksum": "8ff5ed88f2b88f5ec07c5f08a483c170",
     "grade": false,
     "grade_id": "cell-6ae88bad7ffdfc23",
     "locked": true,
     "schema_version": 3,
     "solution": false,
     "task": false
    }
   },
   "source": [
    "## Practice Question 2 (Section 1.5, 29), not marked\n",
    "\n",
    "Suppose the domain of the propositional function `P (x, y)`\n",
    "consists of pairs `x` and `y`, where `x` is 1, 2, or 3 and `y` is\n",
    "1, 2, or 3. Write out these propositions using disjunctions\n",
    "and conjunctions.\n",
    "\n",
    "a. $\\forall \\, x\\, \\forall \\, y \\,  P(x, y)$   \n",
    "b. $\\exists \\,  x\\,\\exists \\, y \\, P (x, y)$  \n",
    "c. $\\exists \\, x\\, \\forall \\, y \\, P (x, y)$  \n",
    "d. $\\forall \\, y \\,\\exists \\, x \\, P (x, y)$  "
   ]
  },
  {
   "cell_type": "markdown",
   "id": "85bdaa42",
   "metadata": {
    "deletable": false,
    "nbgrader": {
     "cell_type": "markdown",
     "checksum": "af3824560921e47c88549dc1da026645",
     "grade": true,
     "grade_id": "cell-e1a45dde906df14c",
     "locked": false,
     "points": 0,
     "schema_version": 3,
     "solution": true,
     "task": false
    }
   },
   "source": [
    "YOUR ANSWER HERE"
   ]
  },
  {
   "cell_type": "markdown",
   "id": "ab92f2e7",
   "metadata": {
    "deletable": false,
    "editable": false,
    "nbgrader": {
     "cell_type": "markdown",
     "checksum": "d74b63c0b4e3cd9b1e0915f9dcb136b4",
     "grade": false,
     "grade_id": "cell-03d09e1bc25c8f2e",
     "locked": true,
     "schema_version": 3,
     "solution": false,
     "task": false
    }
   },
   "source": [
    "## Practice Question 3 (Section 1.4, 31), not marked\n",
    "\n",
    "Suppose that the domain of `Q(x, y, z)` consists of triples\n",
    "`x`, `y`, `z`, where `x` = 0, 1, or 2 , `y` = 0 or 1 , and `z` = 0 or 1.\n",
    "Write out these propositions using disjunctions and conjunctions.\n",
    "\n",
    "a. $\\forall \\, y \\, Q(0, y, 0)$  \n",
    "b. $\\exists \\, x \\, Q(x, 1, 1)$  \n",
    "c. $\\exists \\, z \\, \\lnot Q(0, 0, z)$  \n",
    "d) $\\exists \\, x \\, \\lnot Q(x, 0, 1)$  \n",
    "\n",
    "\n"
   ]
  },
  {
   "cell_type": "markdown",
   "id": "da947390",
   "metadata": {
    "deletable": false,
    "nbgrader": {
     "cell_type": "markdown",
     "checksum": "acc3a14ea249e698de8e38f4c54a2e00",
     "grade": true,
     "grade_id": "cell-b680323881927f36",
     "locked": false,
     "points": 0,
     "schema_version": 3,
     "solution": true,
     "task": false
    }
   },
   "source": [
    "YOUR ANSWER HERE"
   ]
  },
  {
   "cell_type": "markdown",
   "id": "abe70263",
   "metadata": {
    "deletable": false,
    "editable": false,
    "nbgrader": {
     "cell_type": "markdown",
     "checksum": "8629cf92009683f3ff7fba54bb915953",
     "grade": false,
     "grade_id": "cell-4cbe93534f9496df",
     "locked": true,
     "schema_version": 3,
     "solution": false,
     "task": false
    }
   },
   "source": [
    "## Practice Question 4 (Section 1.4, 29), not marked\n",
    "\n",
    "Express each of these statements using logical operators,\n",
    "predicates, and quantifiers.\n",
    "\n",
    "a. Some propositions are tautologies.  \n",
    "b. The negation of a contradiction is a tautology.  \n",
    "c. The disjunction of two contingencies can be a tautology.  \n",
    "d. The conjunction of two tautologies is a tautology.  "
   ]
  },
  {
   "cell_type": "markdown",
   "id": "46431df6",
   "metadata": {
    "deletable": false,
    "nbgrader": {
     "cell_type": "markdown",
     "checksum": "44ee502f7c3fcf04f9e724612ceb5c4d",
     "grade": true,
     "grade_id": "cell-d180a31bacb80378",
     "locked": false,
     "points": 0,
     "schema_version": 3,
     "solution": true,
     "task": false
    }
   },
   "source": [
    "YOUR ANSWER HERE"
   ]
  },
  {
   "cell_type": "markdown",
   "id": "dd231351",
   "metadata": {
    "deletable": false,
    "editable": false,
    "nbgrader": {
     "cell_type": "markdown",
     "checksum": "a2bd5a7109e01a575ba678986bf27e24",
     "grade": false,
     "grade_id": "cell-ca2cb0c3f5336112",
     "locked": true,
     "schema_version": 3,
     "solution": false,
     "task": false
    }
   },
   "source": [
    "## Practice Question 5 (Section 1.4, 31), not marked\n",
    "\n",
    "Express the negations of each of these statements so that\n",
    "all negation symbols immediately precede predicates.\n",
    "\n",
    "a) ∀x∃y∀zT (x, y, z)  \n",
    "b) ∀x∃yP (x, y) ∨ ∀x∃yQ(x, y)  \n",
    "c) ∀x∃y(P (x, y) ∧ ∃zR(x, y, z))  \n",
    "d) ∀x∃y(P (x, y) → Q(x, y))  "
   ]
  },
  {
   "cell_type": "markdown",
   "id": "27e9ffe3",
   "metadata": {
    "deletable": false,
    "nbgrader": {
     "cell_type": "markdown",
     "checksum": "d105ea3bef522a59c6da62a3988cb662",
     "grade": true,
     "grade_id": "cell-d7972b43e7efdb0f",
     "locked": false,
     "points": 0,
     "schema_version": 3,
     "solution": true,
     "task": false
    }
   },
   "source": [
    "YOUR ANSWER HERE"
   ]
  },
  {
   "cell_type": "markdown",
   "id": "c05793a4",
   "metadata": {},
   "source": [
    "## Practice Question 6 (Section 1.3, 15), not marked\n",
    "\n",
    "Determine whether (¬q ∧ (p → q)) → ¬p is a tautology.\\\n",
    "_hint_: (by developing a series of logical equivalences)\n",
    "\n"
   ]
  },
  {
   "cell_type": "markdown",
   "id": "6a656274",
   "metadata": {
    "deletable": false,
    "nbgrader": {
     "cell_type": "markdown",
     "checksum": "b1f9cddfb1e0308f5db8468192694e83",
     "grade": true,
     "grade_id": "cell-508c4f9333893c4d",
     "locked": false,
     "points": 0,
     "schema_version": 3,
     "solution": true,
     "task": false
    }
   },
   "source": [
    "YOUR ANSWER HERE"
   ]
  },
  {
   "cell_type": "markdown",
   "id": "3afedfa0",
   "metadata": {
    "deletable": false,
    "editable": false,
    "nbgrader": {
     "cell_type": "markdown",
     "checksum": "7d7803d9265628a7a9c45d51ce4cb331",
     "grade": false,
     "grade_id": "cell-91653f0dac2057b1",
     "locked": true,
     "schema_version": 3,
     "solution": false,
     "task": false
    }
   },
   "source": [
    "## Practice Question 7 (Example 6), not Marked\n",
    "\n",
    "Show that $\\neg (p \\to q)$ and  $p \\land \\neg q$ are logically equivalent.\\\n",
    "(by developing a series of logical equivalences)\n"
   ]
  },
  {
   "cell_type": "markdown",
   "id": "0990adfd",
   "metadata": {
    "deletable": false,
    "nbgrader": {
     "cell_type": "markdown",
     "checksum": "f3d72c8fd4c8ba3db120c3c231c5d57d",
     "grade": true,
     "grade_id": "cell-ed28ab85f3063991",
     "locked": false,
     "points": 0,
     "schema_version": 3,
     "solution": true,
     "task": false
    }
   },
   "source": [
    "YOUR ANSWER HERE"
   ]
  },
  {
   "cell_type": "markdown",
   "id": "8ed5d102",
   "metadata": {
    "deletable": false,
    "editable": false,
    "nbgrader": {
     "cell_type": "markdown",
     "checksum": "8e34a1bbc9106fb96dc7b309a879ba72",
     "grade": false,
     "grade_id": "cell-3cc860873651066b",
     "locked": true,
     "schema_version": 3,
     "solution": false,
     "task": false
    }
   },
   "source": [
    "------------------------------------------------------------"
   ]
  },
  {
   "cell_type": "markdown",
   "id": "3d4c8438",
   "metadata": {
    "deletable": false,
    "editable": false,
    "nbgrader": {
     "cell_type": "markdown",
     "checksum": "86d5d3f6cc482032bed2ac623395dcdb",
     "grade": false,
     "grade_id": "cell-32df49163646c602",
     "locked": true,
     "schema_version": 3,
     "solution": false,
     "task": false
    }
   },
   "source": [
    "## Question 1 [24 marks]\n",
    "\n",
    "Show that $(p \\rightarrow r) \\land (p \\rightarrow q)$ and $p \\rightarrow (r \\land q)$ are logically equivalent.  \n",
    "\n",
    "Use both transformations (a proof with logical equivalences) **[12 marks]** and a truth table **[12 marks]** to answer this question. Make sure to show which boolean properties are used for every transformation.\n",
    "\n",
    "HINT: You must use the axiom \"Definition of Implication\": $p \\rightarrow q \\equiv \\lnot p \\lor q$, where $p$ and $q$ represent any valid boolean expression."
   ]
  },
  {
   "cell_type": "markdown",
   "id": "bbc8e29e",
   "metadata": {
    "deletable": false,
    "nbgrader": {
     "cell_type": "markdown",
     "checksum": "601a1dbf5484c0cf4b3aeb7f6627ed25",
     "grade": true,
     "grade_id": "cell-2f500a63cd641506",
     "locked": false,
     "points": 24,
     "schema_version": 3,
     "solution": true,
     "task": false
    }
   },
   "source": [
    "#### Solution\n",
    "\n",
    "*proof*\n",
    "\n",
    "By the definition of implication, we have that $ (p \\Rightarrow r) \\wedge (p \\Rightarrow q) $ is logically equivalent to $ (\\neg p \\vee r) \\wedge (\\neg p \\vee q) $. \n",
    "By Distributive Law, we then have that $ (\\neg p \\vee r) \\wedge (\\neg p \\vee q) $ is logically equivalent to $ \\neg p \\vee (r \\wedge q) $. \n",
    "Since $ \\neg p \\vee (r \\wedge q) $ is logically equivalent to $ p \\Rightarrow (r \\wedge q) $ by the definition of implication, we have shown that $(p \\rightarrow r) \\land (p \\rightarrow q)$ and $p \\rightarrow (r \\land q)$ are logically equivalent.\n",
    "\n",
    "Truth tables\n",
    "\n",
    "| $$p$$ | $$q$$ | $$r$$ | $$p \\Rightarrow r$$ | $$p \\Rightarrow q$$ | $$(p \\Rightarrow r) \\wedge (p \\Rightarrow q)$$ |\n",
    "|:-----:|:-----:|:-----:|:-------------------:|:-------------------:|:-----------------------------------------------:|\n",
    "|   T   |   T   |   T   |          T          |          T          |                        T                        |\n",
    "|   T   |   T   |   F   |          F          |          T          |                        F                        |\n",
    "|   T   |   F   |   T   |          T          |          F          |                        F                        |\n",
    "|   T   |   F   |   F   |          F          |          F          |                        F                        |\n",
    "|   F   |   T   |   T   |          T          |          T          |                        T                        |\n",
    "|   F   |   T   |   F   |          T          |          T          |                        T                        |\n",
    "|   F   |   F   |   T   |          T          |          T          |                        T                        |\n",
    "|   F   |   F   |   F   |          T          |          T          |                        T                        |\n",
    "\n",
    "| $$p$$ | $$q$$ | $$r$$ | $$r \\wedge q$$ | $$p \\Rightarrow (r \\wedge q)$$ |\n",
    "|:-----:|:-----:|:-----:|:--------------:|:------------------------------:|\n",
    "|   T   |   T   |   T   |        T       |                T               |\n",
    "|   T   |   T   |   F   |        F       |                F               |\n",
    "|   T   |   F   |   T   |        F       |                F               |\n",
    "|   T   |   F   |   F   |        F       |                F               |\n",
    "|   F   |   T   |   T   |        T       |                T               |\n",
    "|   F   |   T   |   F   |        F       |                T               |\n",
    "|   F   |   F   |   T   |        F       |                T               |\n",
    "|   F   |   F   |   F   |        F       |                T               |\n",
    "\n",
    "Hence, we have shown that $(p \\rightarrow r) \\land (p \\rightarrow q)$ and $p \\rightarrow (r \\land q)$ are logically equivalent since they have the same truth table. "
   ]
  },
  {
   "cell_type": "markdown",
   "id": "27e10d51",
   "metadata": {
    "deletable": false,
    "editable": false,
    "nbgrader": {
     "cell_type": "markdown",
     "checksum": "be993dee3454040bc3c2eef400f6d2c0",
     "grade": false,
     "grade_id": "cell-3810893f58737b22",
     "locked": true,
     "schema_version": 3,
     "solution": false,
     "task": false
    }
   },
   "source": [
    "## Question 2 [24 marks]\n",
    "\n",
    "Show that $(\\lnot p \\lor q) \\land (p \\lor r) \\rightarrow (q \\lor r)$ is a tautology.\n",
    "\n",
    "Use both transformations (a proof with logical equivalences) **[12 marks]** and a truth table **[12 marks]** to answer this question.\n",
    "\n",
    "HINT: You must use the axiom \"Definition of Implication\": $p \\rightarrow q \\equiv \\lnot p \\lor q$, where $p$ and $q$ represent any valid boolean expression."
   ]
  },
  {
   "cell_type": "markdown",
   "id": "c3297df3",
   "metadata": {
    "deletable": false,
    "nbgrader": {
     "cell_type": "markdown",
     "checksum": "3f32fe610d4b7106f2ed3f7c06beebca",
     "grade": true,
     "grade_id": "cell-ba77695e465e1e9c",
     "locked": false,
     "points": 24,
     "schema_version": 3,
     "solution": true,
     "task": false
    }
   },
   "source": [
    "#### Solution\n",
    "\n",
    "*proof*\n",
    "\n",
    "$\\quad (\\lnot p \\lor q) \\land (p \\lor r) \\rightarrow (q \\lor r) \\\\\n",
    "    \\equiv \\neg ((\\neg p \\vee q) \\wedge (p \\vee r)) \\vee (q \\vee r) \\quad \\text{[Def. of Implication]}\\\\\n",
    "\\equiv \\neg (\\neg p \\vee q) \\vee \\neg (p \\vee r) \\vee q \\vee r \\quad \\text{[De Morgan's Law, Associativity]}\\\\\n",
    "\\equiv (\\neg \\neg p \\wedge \\neg q) \\vee (\\neg p \\wedge \\neg r) \\vee q \\vee r \\quad \\text{[De Morgan's Law]}\\\\\n",
    "\\equiv (p \\wedge \\neg q) \\vee q \\vee(\\neg p \\wedge \\neg r) \\vee r \\quad \\text{[Double Negation Law, Commutativity]}\\\\\n",
    "\\equiv ((p \\vee q) \\wedge (\\neg q \\vee q)) \\vee ((\\neg p \\vee r) \\wedge (\\neg r \\vee r)) \\quad \\text{[De Morgan's Law]}\\\\\n",
    "\\equiv ((p \\vee q) \\wedge True) \\vee ((\\neg p \\vee r) \\wedge True) \\quad \\text{[Negation Law]}\\\\\n",
    "\\equiv (p \\vee q) \\vee (\\neg p \\vee r) \\quad \\text{[Identity Law]}\\\\\n",
    "\\equiv (p \\vee \\neg p) \\vee q \\vee r \\quad \\text{[Associativity]}\\\\\n",
    "\\equiv True \\vee q \\vee r \\quad \\text{[Negation Law]}\\\\\n",
    "\\equiv True \\quad \\text{[Domination Law]}\n",
    "$\n",
    "\n",
    "as desired. Hence, we have shown that $(\\lnot p \\lor q) \\land (p \\lor r) \\rightarrow (q \\lor r)$ is a tautology\n",
    "\n",
    "\n",
    "Truth table\n",
    "\n",
    "| $$p$$ | $$q$$ | $$r$$ | $$\\neg p$$ | $$\\neg p \\vee q$$ | $$p \\vee r$$ | $$(\\neg p \\vee q) \\wedge (p \\vee r)$$  | $$q \\vee r$$ | $$(\\neg p \\vee q) \\wedge (p \\vee r) \\Rightarrow (q \\vee r)$$ |\n",
    "|:-----:|:-----:|:-----:|:----------:|:-----------------:|:------------:|:--------------------------------------:|:------------:|:------------------------------------------------------------:|\n",
    "|   T   |   T   |   T   |      F     |         T         |       T      |                    T                   |       T      |                               T                              |\n",
    "|   T   |   T   |   F   |      F     |         T         |       T      |                    T                   |       T      |                               T                              |\n",
    "|   T   |   F   |   T   |      F     |         F         |       T      |                    F                   |       T      |                               T                              |\n",
    "|   T   |   F   |   F   |      F     |         F         |       T      |                    F                   |       F      |                               T                              |\n",
    "|   F   |   F   |   F   |      T     |         T         |       F      |                    F                   |       F      |                               T                              |\n",
    "|   F   |   T   |   F   |      T     |         T         |       F      |                    F                   |       T      |                               T                              |\n",
    "|   F   |   F   |   T   |      T     |         T         |       T      |                    T                   |       T      |                               T                              |\n",
    "|   F   |   F   |   F   |      T     |         T         |       F      |                    F                   |       F      |                               T                              |"
   ]
  },
  {
   "cell_type": "markdown",
   "id": "6b538499",
   "metadata": {
    "deletable": false,
    "editable": false,
    "nbgrader": {
     "cell_type": "markdown",
     "checksum": "e946a879ea41ea5fbbf14b757e0457f9",
     "grade": false,
     "grade_id": "cell-ee92e28bfdfc7206",
     "locked": true,
     "schema_version": 3,
     "solution": false,
     "task": false
    }
   },
   "source": [
    "## Question 3 [8 marks]\n",
    "\n",
    "Determine the truth value of each of these statements if the domain consists of all real numbers (i.e. $x \\in \\mathbb{R}$).  \n",
    "Give an example or a very brief explaination for each answer. Each answer is worth **[2 marks]**.  \n",
    "\n",
    "a)  $\\forall x \\, ((-x)^2 = x^2)$  \n",
    "b)  $\\forall x \\, (2x > x)$   \n",
    "c)  $\\exists x \\, (x^3 < x^2)$   \n",
    "d)  $\\exists x \\, (x^2 = -1)$"
   ]
  },
  {
   "cell_type": "markdown",
   "id": "bbbe19b6",
   "metadata": {
    "deletable": false,
    "nbgrader": {
     "cell_type": "markdown",
     "checksum": "4f8fecd477f7c3db00a7c918e73b2fb5",
     "grade": true,
     "grade_id": "cell-3a43d58349aae815",
     "locked": false,
     "points": 8,
     "schema_version": 3,
     "solution": true,
     "task": false
    }
   },
   "source": [
    "#### Solution\n",
    "\n",
    "a) True since $(-x)^2 = x^2$ is true for all $x \\in \\mathbb{R}$\n",
    "\n",
    "b) False since $2x > x$ is false when $x = -1$\n",
    "\n",
    "c) True since $x^3 < x^2$ is satisfied when $x < 0$\n",
    "\n",
    "d) False since there does not exist $x \\in \\mathbb{R}$ such that $x^2$ equals to a negative number"
   ]
  },
  {
   "cell_type": "markdown",
   "id": "dd99e91d",
   "metadata": {
    "deletable": false,
    "editable": false,
    "nbgrader": {
     "cell_type": "markdown",
     "checksum": "912316de853052079e0cf75401b4359c",
     "grade": false,
     "grade_id": "cell-30f17a7780ac0c07",
     "locked": true,
     "schema_version": 3,
     "solution": false,
     "task": false
    }
   },
   "source": [
    "## Question 4 [14 marks]\n",
    "\n",
    "Let $F(x, y)$ be the statement “$x$ can make $y$ laugh,” where the domain consists of the world human population. Use quantifiers to express each of these statements. Each answer is worth **[2 marks]**.\n",
    " \n",
    "a)  Meredith can make everybody laugh.   \n",
    "b)  Everybody can make Charles laugh.    \n",
    "c)  Everybody can make somebody laugh.   \n",
    "d)  There is no one that can make everybody laugh.   \n",
    "e)  No one can make both Richard and Charles laugh.  \n",
    "f)  Not everyone can make themselves laugh.  \n",
    "g)  Everyone can have somebody make them laugh.  "
   ]
  },
  {
   "cell_type": "markdown",
   "id": "9dd72262",
   "metadata": {
    "deletable": false,
    "nbgrader": {
     "cell_type": "markdown",
     "checksum": "aea8b47c0ba43d6837dd3bc6efb4995d",
     "grade": true,
     "grade_id": "cell-6be105d0fc502446",
     "locked": false,
     "points": 14,
     "schema_version": 3,
     "solution": true,
     "task": false
    }
   },
   "source": [
    "#### Solution\n",
    "\n",
    "a) $\\forall y \\, F(\\text{Meredith}, y)$\n",
    "\n",
    "b) $\\forall x \\, F(x, \\text{Charles})$\n",
    "\n",
    "c) $\\forall x \\, \\exists y \\, F(x, y)$\n",
    "\n",
    "d) $\\neg \\exists x \\, \\forall y \\, F(x, y)$\n",
    "\n",
    "e) $\\neg \\exists x \\, (F(x, \\text{Richard}) \\wedge F(x, \\text{Charles}))$\n",
    "\n",
    "f) $\\neg \\exists x \\, F(x, x)$\n",
    "\n",
    "g) $\\forall y \\, \\exists x \\, F(x, y)$"
   ]
  },
  {
   "cell_type": "markdown",
   "id": "92235549",
   "metadata": {
    "deletable": false,
    "editable": false,
    "nbgrader": {
     "cell_type": "markdown",
     "checksum": "9a6e59d51a9b3e40fc15e851f856389d",
     "grade": false,
     "grade_id": "cell-f11c78a381adeabd",
     "locked": true,
     "schema_version": 3,
     "solution": false,
     "task": false
    }
   },
   "source": [
    "## Question 5 [20 marks]\n",
    "\n",
    "Determine the truth value of each of these statements if the domain of each variable consists of all real numbers (i.e. $x,y,z \\in \\mathbb{R}$).  \n",
    "For each statement, give an example that makes the statement true, or brief explaination for why the statement is false.\n",
    "\n",
    "Each answer is worth **[2 marks]**.\n",
    "\n",
    "a)  $\\forall x \\, \\exists y \\, (x^2 = y)$  \n",
    "b)  $\\forall x \\, \\exists y \\, (x = y^2)$  \n",
    "c)  $\\exists x \\, \\forall y \\, (xy = 0)$  \n",
    "d)  $\\exists x \\, \\exists y \\, (x + y \\neq y + x)$  \n",
    "e)  $\\forall x \\, (x \\neq 0 \\rightarrow \\exists y \\, (xy = 1)$  \n",
    "f)  $\\exists x \\, \\forall y \\, (y > 0 \\rightarrow xy < 0)$  \n",
    "g)  $\\forall x \\, \\exists y \\, (x + y = 1)$  \n",
    "h)  $\\exists x \\, \\exists y \\, ((x + 2y = 2) \\land (2x + 4y = 6))$  \n",
    "i)  $\\forall x \\, \\exists y \\, ((x + y = 3) \\land (2x - y = 3))$  \n",
    "j)  $\\forall x \\, \\forall y \\, \\exists z \\, (z = (x + y) \\, / \\, 3)$  "
   ]
  },
  {
   "cell_type": "markdown",
   "id": "51d0e732",
   "metadata": {
    "deletable": false,
    "nbgrader": {
     "cell_type": "markdown",
     "checksum": "e384c1371d705da3aaddb125a5f6fddf",
     "grade": true,
     "grade_id": "cell-82ca12c6c682b5d4",
     "locked": false,
     "points": 20,
     "schema_version": 3,
     "solution": true,
     "task": false
    }
   },
   "source": [
    "#### Solution\n",
    "\n",
    "a) True. The statement $x^2 = y$ is True when, for example, $x = 4$ and $y = 16$\n",
    "\n",
    "b) False since when x is negative, there does not exists $y \\in \\mathbb{R}$ such that a positive number $y^2$ equals to a negative number $x$\n",
    "\n",
    "c) True since there exists $x = 0$ such that for all $y \\in \\mathbb{R} (xy = 0)$\n",
    "\n",
    "d) False since $x + y = y + x$ is always True where $x, y \\in \\mathbb{R}$\n",
    "\n",
    "e) True since for all $x \\neq 0$, there exists $y = 1/x$ such that $xy = 1$\n",
    "\n",
    "f) True. Let $x = -1$, then for all $y > 0$, $xy < 0$\n",
    "\n",
    "g) True. Let $y = x - 1$, then for all $x \\in \\mathbb{R}$, $x + y = 1$\n",
    "\n",
    "h) False since there does not exists $x, y \\in \\mathbb{R}$ such that both $x + 2y = 2$ and $2x + 4y = 6$ are satisfied\n",
    "\n",
    "i) False since when $x = 0$, there does not existx $y \\in \\mathbb{R}$ such that $y = 3$ and $y = -3$\n",
    "\n",
    "j) True since we can always find $z \\in \\mathbb{R}$ such that for all $x, y \\in \\mathbb{R}$, $z = (x + y)/3$. Let $x = 1, y = 2, z = 1$, then $z = (x + y)/3$ is True"
   ]
  },
  {
   "cell_type": "markdown",
   "id": "1949ec5d",
   "metadata": {
    "deletable": false,
    "editable": false,
    "nbgrader": {
     "cell_type": "markdown",
     "checksum": "84e31caaa625febf16a1a5987aec1a30",
     "grade": false,
     "grade_id": "cell-e68a60804a053e82",
     "locked": true,
     "schema_version": 3,
     "solution": false,
     "task": false
    }
   },
   "source": [
    "## Question 6 [10 marks]\n",
    "\n",
    "Rewrite each of these statements so that negations ap-\n",
    "pear only within predicates (that is, so that no negation is outside a quantifier or an expression involving logical connectives).\n",
    "\n",
    "Each answer is worth **[2 marks]**.\n",
    "\n",
    "a)  $\\lnot \\forall y \\, \\forall x \\, P(x,y)$  \n",
    "b)  $\\lnot \\exists x \\, \\forall y \\, P(x,y)$  \n",
    "c)  $\\lnot \\exists y \\, (P(y) \\land \\forall x \\, \\lnot Q(x,y))$  \n",
    "d)  $\\lnot \\exists y \\, (\\forall x \\, P(x,y) \\land \\exists x \\, Q(x,y))$  \n",
    "e)  $\\lnot \\forall y \\, (\\forall x \\, \\exists z \\, P(x,y,z) \\lor \\exists z \\, \\forall x \\, Q(x,y,z))$  "
   ]
  },
  {
   "cell_type": "markdown",
   "id": "09513325",
   "metadata": {
    "deletable": false,
    "nbgrader": {
     "cell_type": "markdown",
     "checksum": "3acef122acb0dd1b09500c33610fff5b",
     "grade": true,
     "grade_id": "cell-dc3340c32d4aca69",
     "locked": false,
     "points": 10,
     "schema_version": 3,
     "solution": true,
     "task": false
    }
   },
   "source": [
    "#### Solution\n",
    "\n",
    "a) $\\exists y \\, \\exists x \\, P(x, y)$\n",
    "\n",
    "b) $\\forall x \\, \\exists y \\, P(x, y)$\n",
    "\n",
    "c) $\\forall y \\, (\\neg P(y) \\vee \\exists x \\, Q(x, y))$\n",
    "\n",
    "d) $\\forall y \\, (\\exists x \\, \\neg P(x, y) \\vee \\forall x \\, \\neg Q(x, y))$\n",
    "\n",
    "e) $\\exists y \\, (\\exists x \\, \\forall z \\, \\neg P(x, y, z) \\wedge \\forall z \\, \\exists x \\, \\neg Q(x, y, z))$"
   ]
  },
  {
   "cell_type": "markdown",
   "id": "e7d27dbc",
   "metadata": {
    "deletable": false,
    "editable": false,
    "nbgrader": {
     "cell_type": "markdown",
     "checksum": "f93df168d3cdabd3aec5edffb7266594",
     "grade": false,
     "grade_id": "cell-6df3c1423745d656",
     "locked": true,
     "schema_version": 3,
     "solution": false,
     "task": false
    }
   },
   "source": [
    "## Bonus Question 7 [12 marks]\n",
    "\n",
    "Express the negations of each of these statements so that\n",
    "all negation symbols immediately precede predicates. Show derivation using transformations and properties used.\n",
    "\n",
    "Each answer is worth **[3 marks]**.\n",
    "\n",
    "a)  $\\forall z \\, \\forall y \\, \\exists x \\, T(x,y,z)$  \n",
    "b)  $\\exists x \\, \\forall y \\, (Q(x,y) \\leftrightarrow Q(y,x))$  \n",
    "c)  $\\exists x \\, \\exists y \\, P(x,y) \\land \\forall x \\, \\forall y \\, Q(x,y)$  \n",
    "d)  $\\forall y \\, \\exists x \\, \\exists z \\, (T(x,y,z) \\land Q(x,y))$  "
   ]
  },
  {
   "cell_type": "markdown",
   "id": "4769fe34",
   "metadata": {
    "deletable": false,
    "nbgrader": {
     "cell_type": "markdown",
     "checksum": "1ac6af13f4b6a3e5a16a5447ff9cc1cb",
     "grade": true,
     "grade_id": "cell-20e62ad198f31070",
     "locked": false,
     "points": 12,
     "schema_version": 3,
     "solution": true,
     "task": false
    }
   },
   "source": [
    "#### Solution\n",
    "\n",
    "a) $\\exists z \\, \\exists y \\, \\forall x \\, \\neg T(x, y, z)$\n",
    "\n",
    "b) $\\forall x \\, \\exists y \\, \\neg (Q(x,y) \\leftrightarrow Q(y,x))$\n",
    "\n",
    "c) $(\\forall x \\, \\forall y \\, \\neg P(x, y)) \\vee (\\exists x \\, \\exists y \\, \\neg Q(x, y))$\n",
    "\n",
    "d) $\\exists y \\, \\forall x \\, \\forall z \\, \\neg (T(x, y, z) \\wedge Q(x, y))$"
   ]
  },
  {
   "cell_type": "code",
   "execution_count": null,
   "id": "f5aea708",
   "metadata": {},
   "outputs": [],
   "source": []
  }
 ],
 "metadata": {
  "kernelspec": {
   "display_name": "Python 3 (ipykernel)",
   "language": "python",
   "name": "python3"
  },
  "language_info": {
   "codemirror_mode": {
    "name": "ipython",
    "version": 3
   },
   "file_extension": ".py",
   "mimetype": "text/x-python",
   "name": "python",
   "nbconvert_exporter": "python",
   "pygments_lexer": "ipython3",
   "version": "3.9.6"
  }
 },
 "nbformat": 4,
 "nbformat_minor": 5
}
