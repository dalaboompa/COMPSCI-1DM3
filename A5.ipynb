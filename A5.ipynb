{
 "cells": [
  {
   "cell_type": "markdown",
   "id": "c955443d",
   "metadata": {
    "deletable": false,
    "editable": false,
    "nbgrader": {
     "cell_type": "markdown",
     "checksum": "f6f6dd74c40e80a9f9ce14447309276b",
     "grade": false,
     "grade_id": "cell-0c6401aa3082cff3",
     "locked": true,
     "schema_version": 3,
     "solution": false,
     "task": false
    }
   },
   "source": [
    "# 2022 WINTER 1DM3: Assignment 5\n",
    "## This assignment cover sections 2.3 and 2.4. \n",
    "\n",
    "* Instructor: Bin Guo\n",
    "* Marking: Adam Mak, Hamrish Saravanakumar, Simone Ocvirk (maka9,\n",
    "saravah, ocvirks)"
   ]
  },
  {
   "cell_type": "markdown",
   "id": "9f8af236",
   "metadata": {
    "deletable": false,
    "editable": false,
    "nbgrader": {
     "cell_type": "markdown",
     "checksum": "0c77ced8333e95ba874de791352b8a73",
     "grade": false,
     "grade_id": "cell-9dca61f7794c77a4",
     "locked": true,
     "schema_version": 3,
     "solution": false,
     "task": false
    }
   },
   "source": [
    "* You will be working on this assignment within your assigned group. Ensure that all students work on the assignment questions together. __ONLY ONE STUDENT WILL BE SUBMITTING YOUR ASSIGNMENT ON BEHALF OF THE GROUP__. All students will recieve the same mark on the group, unless you feel as though a student/students have not contributed to the assignment. If this is the case please reach out to one of the marking TAs so we can work out a solution. __Write the names of which students contributed to each question at the top of each answer cell__.\n",
    "\n",
    "* The assignment is __due on Sunday February 20th at 11:59pm__. \n",
    "\n",
    "* __Your answer should give full detailed explainations__.\n",
    "\n",
    "* The practice questions are explained in tutorials and not counted as marks. The full marks is __90__. Question 8 is a __bonus__ question which has __10__ marks as bonus. \n",
    "\n",
    "* The total marks up to the maximum 100 marks.\n",
    "\n",
    "* NOTE: Many of these questions deal with proofs. You will __NOT__ achieve full marks on a question if you simply provide an example."
   ]
  },
  {
   "cell_type": "markdown",
   "id": "f38fd929",
   "metadata": {
    "deletable": false,
    "editable": false,
    "nbgrader": {
     "cell_type": "markdown",
     "checksum": "b627b574595c170ad20e178cd9da28ff",
     "grade": false,
     "grade_id": "cell-d27fab37892d454d",
     "locked": true,
     "schema_version": 3,
     "solution": false,
     "task": false
    }
   },
   "source": [
    "$p \\rightarrow q, p \\leftrightarrow q, \\neg q, p \\land q, p \\lor q, p\\oplus q$, $\\bar{B}$, $\\{\\emptyset\\} \\in A$, $B \\notin A$, $A \\subseteq B$, $A \\subset B$, $A \\cup B$, $A \\cap B$, $\\bigcap\\limits_{i=1}^{n} A_i$, $\\bigcup\\limits_{i=1}^{n} A_i$, $\\exists x \\forall y (x = y)$, $\\epsilon$,\n",
    "$\\mathbb{Z}$"
   ]
  },
  {
   "cell_type": "markdown",
   "id": "f97df5d9",
   "metadata": {
    "deletable": false,
    "editable": false,
    "nbgrader": {
     "cell_type": "markdown",
     "checksum": "3a4386cd72edecc279b1e459afba79d2",
     "grade": false,
     "grade_id": "cell-50e2604eb6058bd1",
     "locked": true,
     "schema_version": 3,
     "solution": false,
     "task": false
    }
   },
   "source": [
    "## Practice Question 1 (Section 2.3, Exercise 15), not marked\n",
    "\n",
    "Determine whether the function $f : \\mathbb{Z} \\times \\mathbb{Z} \\rightarrow \\mathbb{Z}$ is onto if\n",
    "\n",
    "1) $f(m, n) = m + n$\\\n",
    "2) $f(m, n) = m^2 + n^2$\\\n",
    "3) $f(m, n) = m$\\\n",
    "4) $f(m, n) = |n|$\\\n",
    "5) $f(m, n) = m-n$\n"
   ]
  },
  {
   "cell_type": "markdown",
   "id": "4e8ff08b",
   "metadata": {
    "deletable": false,
    "nbgrader": {
     "cell_type": "markdown",
     "checksum": "4357948a138d22b3bb906987d43ae67a",
     "grade": true,
     "grade_id": "cell-66aa95ee96b67b7c",
     "locked": false,
     "points": 0,
     "schema_version": 3,
     "solution": true,
     "task": false
    }
   },
   "source": [
    "YOUR ANSWER HERE"
   ]
  },
  {
   "cell_type": "markdown",
   "id": "affcadda",
   "metadata": {
    "deletable": false,
    "editable": false,
    "nbgrader": {
     "cell_type": "markdown",
     "checksum": "5c4717042627329cfc6f2cf2fecc602c",
     "grade": false,
     "grade_id": "cell-d02c2faece2e3f0c",
     "locked": true,
     "schema_version": 3,
     "solution": false,
     "task": false
    }
   },
   "source": [
    "## Practice Question 2 (Section 2.3, Exercise 21), Not Marked\n",
    "\n",
    "\n",
    "Give an explicit formula for a function from the set of integers to the set of positive integers that is\n",
    "\n",
    "\n",
    "1)one-to-one, but not onto.   \n",
    "2)onto, but not one-to-one.    \n",
    "3)one-to-one and onto.     \n",
    "4)neither one-to-one nor onto. "
   ]
  },
  {
   "cell_type": "markdown",
   "id": "7ce774f9",
   "metadata": {
    "deletable": false,
    "nbgrader": {
     "cell_type": "markdown",
     "checksum": "bcbb0557d8571e2de45d6ff85b50550e",
     "grade": true,
     "grade_id": "cell-0956cfb0676865e1",
     "locked": false,
     "points": 0,
     "schema_version": 3,
     "solution": true,
     "task": false
    }
   },
   "source": [
    "YOUR ANSWER HERE"
   ]
  },
  {
   "cell_type": "markdown",
   "id": "4f46c0ea",
   "metadata": {
    "deletable": false,
    "editable": false,
    "nbgrader": {
     "cell_type": "markdown",
     "checksum": "5424c808f09e6fe79cd12e0a13b3661a",
     "grade": false,
     "grade_id": "cell-16f8b0b6b2d2d727",
     "locked": true,
     "schema_version": 3,
     "solution": false,
     "task": false
    }
   },
   "source": [
    "## Practice Question 3 (Section 2.3, Exercise 49), Not Marked\n",
    "\n",
    "Show that if $x$ is a real number, then $x − 1 < \\lfloor x \\rfloor ≤ x ≤ \\lceil x \\rceil < x + 1$."
   ]
  },
  {
   "cell_type": "markdown",
   "id": "816cd14c",
   "metadata": {
    "deletable": false,
    "nbgrader": {
     "cell_type": "markdown",
     "checksum": "23be4d9a79e52e47966ee246d0c8b01a",
     "grade": true,
     "grade_id": "cell-5f7fb6263654afa4",
     "locked": false,
     "points": 0,
     "schema_version": 3,
     "solution": true,
     "task": false
    }
   },
   "source": [
    "YOUR ANSWER HERE"
   ]
  },
  {
   "cell_type": "markdown",
   "id": "0fa88986",
   "metadata": {
    "deletable": false,
    "editable": false,
    "nbgrader": {
     "cell_type": "markdown",
     "checksum": "df58af080d968d0456ec2c9bbb6ffdf6",
     "grade": false,
     "grade_id": "cell-7a56bb9d56529335",
     "locked": true,
     "schema_version": 3,
     "solution": false,
     "task": false
    }
   },
   "source": [
    "## Practice Question 4 (Section 2.4, Exercise 21), Not Marked\n",
    "\n",
    "A factory makes custom sports cars at an increasing rate. In the first month only one car is made, in the second\n",
    "month two cars are made, and so on, with n cars made in the $n$th month.  \n",
    "\n",
    "a. Set up a recurrence relation for the number of cars produced in the first n months by this factory.  \n",
    "b. How many cars are produced in the first year?  \n",
    "c. Find an explicit formula for the number of cars produced in the first n months by this factory.  \n"
   ]
  },
  {
   "cell_type": "markdown",
   "id": "ef34f74e",
   "metadata": {
    "deletable": false,
    "nbgrader": {
     "cell_type": "markdown",
     "checksum": "3f91a962b4c625dbd52b336d888e8b91",
     "grade": true,
     "grade_id": "cell-b5e311a5fffc7171",
     "locked": false,
     "points": 0,
     "schema_version": 3,
     "solution": true,
     "task": false
    }
   },
   "source": [
    "YOUR ANSWER HERE"
   ]
  },
  {
   "cell_type": "markdown",
   "id": "6ee8b0a9",
   "metadata": {
    "deletable": false,
    "editable": false,
    "nbgrader": {
     "cell_type": "markdown",
     "checksum": "3d60948d84160218f48cf68339a237ac",
     "grade": false,
     "grade_id": "cell-32c5540ac37795eb",
     "locked": true,
     "schema_version": 3,
     "solution": false,
     "task": false
    }
   },
   "source": [
    "## Practice Question 5 (Section 2.4, Exercise 25), Not Marked\n",
    "\n",
    "For each of these lists of integers, provide a simple formula or rule that generates the terms of an integer sequence that begins with the given list. Assuming that your formula or rule is correct, determine the next three terms of the sequence.\n",
    "\n",
    "a. $1, 0, 1, 1, 0, 0, 1, 1, 1, 0, 0, 0, 1, . . .$  \n",
    "b. $1, 2, 2, 3, 4, 4, 5, 6, 6, 7, 8, 8, . . .$    \n",
    "c. $1, 0, 2, 0, 4, 0, 8, 0, 16, 0, . . .$    \n",
    "d. $3, 6, 12, 24, 48, 96, 192, . . .$    \n",
    "e. $15, 8, 1, −6, −13, −20, −27, . . .$    \n",
    "f. $3, 5, 8, 12, 17, 23, 30, 38, 47, . . .$    \n",
    "g. $2, 16, 54, 128, 250, 432, 686, . . .$    \n",
    "h. $2, 3, 7, 25, 121, 721, 5041, 40321, . . .$ "
   ]
  },
  {
   "cell_type": "markdown",
   "id": "ad212e7e",
   "metadata": {
    "deletable": false,
    "nbgrader": {
     "cell_type": "markdown",
     "checksum": "225ad39900c3da7de4de16d354b6378e",
     "grade": true,
     "grade_id": "cell-516b9bc50ebe7722",
     "locked": false,
     "points": 0,
     "schema_version": 3,
     "solution": true,
     "task": false
    }
   },
   "source": [
    "YOUR ANSWER HERE"
   ]
  },
  {
   "cell_type": "markdown",
   "id": "487828a8",
   "metadata": {
    "deletable": false,
    "editable": false,
    "nbgrader": {
     "cell_type": "markdown",
     "checksum": "d92abbf06a5ed0d62b6654195307be53",
     "grade": false,
     "grade_id": "cell-ad64fc7abe57e152",
     "locked": true,
     "schema_version": 3,
     "solution": false,
     "task": false
    }
   },
   "source": [
    "## Practice Question 6 (Section 2.4, Exercise 43), Not Marked\n",
    "What are the values of the following products?  \n",
    "\n",
    "a. $\\Pi_{i=1}^{10} i$  \n",
    "\n",
    "b. $\\Pi_{i=5}^8 i $  \n",
    "\n",
    "c. $\\Pi_{i=1}^{100}(-1)^i$   \n",
    "\n",
    "d. $\\Pi_{i=1}^{10} 2$   "
   ]
  },
  {
   "cell_type": "markdown",
   "id": "c285ca50",
   "metadata": {
    "deletable": false,
    "nbgrader": {
     "cell_type": "markdown",
     "checksum": "619064e30b7d90ee42065b6ffb619dd7",
     "grade": true,
     "grade_id": "cell-6a9ea4b27d8f300b",
     "locked": false,
     "points": 0,
     "schema_version": 3,
     "solution": true,
     "task": false
    }
   },
   "source": [
    "YOUR ANSWER HERE"
   ]
  },
  {
   "cell_type": "markdown",
   "id": "601c30e0",
   "metadata": {
    "deletable": false,
    "editable": false,
    "nbgrader": {
     "cell_type": "markdown",
     "checksum": "9ae0c47f12c9ddad881846d88cc7ccbc",
     "grade": false,
     "grade_id": "cell-29eaa00b373c2702",
     "locked": true,
     "schema_version": 3,
     "solution": false,
     "task": false
    }
   },
   "source": [
    "## Practice Question 8 (Section 2.4, Exercise 45), Not Marked\n",
    "Find $\\Sigma_{j=1}^4 j!$"
   ]
  },
  {
   "cell_type": "markdown",
   "id": "2a87002f",
   "metadata": {
    "deletable": false,
    "nbgrader": {
     "cell_type": "markdown",
     "checksum": "2f5af5d8aac632f3de92962e5f07eb1d",
     "grade": true,
     "grade_id": "cell-3e09593ce76e2b6d",
     "locked": false,
     "points": 0,
     "schema_version": 3,
     "solution": true,
     "task": false
    }
   },
   "source": [
    "YOUR ANSWER HERE"
   ]
  },
  {
   "cell_type": "markdown",
   "id": "7a6a71ac",
   "metadata": {},
   "source": [
    "--------------------------------------"
   ]
  },
  {
   "cell_type": "markdown",
   "id": "6805f552",
   "metadata": {
    "deletable": false,
    "editable": false,
    "nbgrader": {
     "cell_type": "markdown",
     "checksum": "31d141f17f8616ca8f76ca4c18a3f563",
     "grade": false,
     "grade_id": "cell-63b2604a0fcda054",
     "locked": true,
     "schema_version": 3,
     "solution": false,
     "task": false
    }
   },
   "source": [
    "## Question 1 [10 marks]\n",
    "\n",
    "Determine whether each of these functions from $\\mathbb{R}$ to $\\mathbb{R}$ is one-to-one.  \n",
    "Each part is worth **[2 marks]**. Explain your answer.\n",
    "\n",
    "a) $f(x) = 17$  \n",
    "b) $f(x) = x - 17$  \n",
    "c) $f(x) = x^3 + 17$  \n",
    "d) $f(x) = \\sqrt{17x}$  \n",
    "e) $f(x) = \\lceil x/2 \\rceil$"
   ]
  },
  {
   "cell_type": "markdown",
   "id": "3ceb22c9",
   "metadata": {
    "deletable": false,
    "nbgrader": {
     "cell_type": "markdown",
     "checksum": "138b8d18eb3e1bfc3beb2295931c058b",
     "grade": true,
     "grade_id": "cell-73cd85f440cfdc1d",
     "locked": false,
     "points": 10,
     "schema_version": 3,
     "solution": true,
     "task": false
    }
   },
   "source": [
    "YOUR ANSWER HERE\n",
    "\n",
    "a) Not one-to-one since there exists, for example, $x_1 = 1$ and $x_2 = 2$ such that $f(x_1) = f(x_2) = 17$.\n",
    "\n",
    "b) One-to-one since for all $x_1, x_2 \\in \\mathbb{R}$, we have that if $f(x_1) = f(x_2)$, then $x_1 = x_2$. (passed the horizontal line test)\n",
    "\n",
    "c) One-to-one since its graph did not pass the horizontal line test. \n",
    "\n",
    "d) Not one-to-one since there exists, for example, $x_1 = 1$ and $x_2 = 1/2$ such that $f(x_1) = f(x_2) = 1$."
   ]
  },
  {
   "cell_type": "markdown",
   "id": "acd69af0",
   "metadata": {
    "deletable": false,
    "editable": false,
    "nbgrader": {
     "cell_type": "markdown",
     "checksum": "ee58898d135ab4fdc7ce9c7c7df5ccbb",
     "grade": false,
     "grade_id": "cell-67d7ca9ea767e746",
     "locked": true,
     "schema_version": 3,
     "solution": false,
     "task": false
    }
   },
   "source": [
    "## Question 2 [10 marks]\n",
    "\n",
    "Determine whether $f: \\mathbb{Z} \\times \\mathbb{Z} \\rightarrow \\mathbb{Z}$ is onto if,\n",
    "\n",
    "a) $f(m,n) = 3m - n$  \n",
    "b) $f(m,n) = m^2 - n^2$  \n",
    "c) $f(m,n) = m + n - 1$  \n",
    "d) $f(m,n) = |m| - |n|$  \n",
    "e) $f(m,n) = m^2 - 9$\n",
    "\n",
    "Each part is worth **[3 marks]**. Explain your answer."
   ]
  },
  {
   "cell_type": "markdown",
   "id": "0f6d508d",
   "metadata": {
    "deletable": false,
    "nbgrader": {
     "cell_type": "markdown",
     "checksum": "051d9446895fbf5ecebca6c6d1827c39",
     "grade": true,
     "grade_id": "cell-bc03cce32041a2e3",
     "locked": false,
     "points": 10,
     "schema_version": 3,
     "solution": true,
     "task": false
    }
   },
   "source": [
    "YOUR ANSWER HERE\n",
    "\n",
    "a) Onto\n",
    "\n",
    "b) Not onto\n",
    "\n",
    "c) Onto\n",
    "\n",
    "d) Onto\n",
    "\n",
    "e) Not Onto"
   ]
  },
  {
   "cell_type": "markdown",
   "id": "52f876d9",
   "metadata": {
    "deletable": false,
    "editable": false,
    "nbgrader": {
     "cell_type": "markdown",
     "checksum": "74b3ec8681e18f9301b24e50bed9eb11",
     "grade": false,
     "grade_id": "cell-714bd5e5c278673f",
     "locked": true,
     "schema_version": 3,
     "solution": false,
     "task": false
    }
   },
   "source": [
    "## Question 3 [16 marks]\n",
    "\n",
    "Give an example of a function $f: \\mathbb{N} \\rightarrow \\mathbb{N}$ that is,\n",
    "\n",
    "a) one-to-one but not onto  \n",
    "b) onto but not one-to-one  \n",
    "c) both onto and one-to-one, that is different from the identity function  \n",
    "d) neither one-to-one nor onto\n",
    "\n",
    "Each part is worth **[4 marks]**. For each example, explain how the function satisfies the conditions."
   ]
  },
  {
   "cell_type": "markdown",
   "id": "9a299503",
   "metadata": {
    "deletable": false,
    "nbgrader": {
     "cell_type": "markdown",
     "checksum": "dc8bcb71633770b1dc849d3a2f05119b",
     "grade": true,
     "grade_id": "cell-0688e394a6fdbfe5",
     "locked": false,
     "points": 16,
     "schema_version": 3,
     "solution": true,
     "task": false
    }
   },
   "source": [
    "YOUR ANSWER HERE\n",
    "\n",
    "a) $f(x) = 2x$, it is one-to-one since its graph passed the horizontal line test and is not onto since the fucntion maps all nartural numbers to even positive numbers. \n",
    "\n",
    "b) $f : \\mathbb{N} \\rightarrow \\mathbb{N}, \\, f(x) = \\begin{cases}1 & x = 1 \\\\ x - 1 & x \\geq 2 \\\\ \\end{cases}$, the function is onto since the set of the images of a is $\\mathbb{N}$ and is not one-to-one since $f(1) = f(2) = 1$. \n",
    "\n",
    "c) $f(x) = |x|$ is onto and one-to-one since $(\\forall x \\geq 0) [f(x) = x]$ and the identity function $f(x) = x$ is bijective.\n",
    "\n",
    "d) $f(x) = 1$ is not one-to-one since its graph does not pass the horiontal line test and is not onto since there does not exist, for example, $x \\in \\mathbb{N}$ such that $f(x) = 0$ since $f(x)$ always maps $x$ to the integer one. "
   ]
  },
  {
   "cell_type": "markdown",
   "id": "cfc60e8d",
   "metadata": {
    "deletable": false,
    "editable": false,
    "nbgrader": {
     "cell_type": "markdown",
     "checksum": "b7794f69528ce14f126e683e9855dbda",
     "grade": false,
     "grade_id": "cell-944ef7912f192d1a",
     "locked": true,
     "schema_version": 3,
     "solution": false,
     "task": false
    }
   },
   "source": [
    "## Question 4 [12 marks]\n",
    "\n",
    "Show that if $x \\in \\mathbb{R}$, then\n",
    "\n",
    "$$\\lceil x \\rceil + \\lfloor x \\rfloor = \\begin{cases}2\\lceil x \\rceil - 1 & x\\notin\\mathbb{Z}\\\\ 2x & x\\in\\mathbb{Z} \\\\ \\end{cases}$$\n",
    "\n",
    "Proof can be shown in words and/or transformations. The important part is that the proof is clear, concise, and complete."
   ]
  },
  {
   "cell_type": "markdown",
   "id": "e21c3399",
   "metadata": {
    "deletable": false,
    "nbgrader": {
     "cell_type": "markdown",
     "checksum": "be894eb6662d6937024df48e80d5f38f",
     "grade": true,
     "grade_id": "cell-0265ce7013b175e0",
     "locked": false,
     "points": 12,
     "schema_version": 3,
     "solution": true,
     "task": false
    }
   },
   "source": [
    "YOUR ANSWER HERE\n",
    "\n",
    "#### *proof*\n",
    "\n",
    "Fix $x \\in \\mathbb{R}$ arbitrary. \n",
    "\n",
    "Case I: $x \\in \\mathbb{Z}$. \\\n",
    "By the definition of floor and ceiling functions, we have that $\\lceil x \\rceil = \\lfloor x \\rfloor = x$. Thus, we have shown that $\\lceil x \\rceil + \\lfloor x \\rfloor = 2x$ for all $x \\in \\mathbb{Z}$. \n",
    "\n",
    "Case II: $x \\notin \\mathbb{Z}$. \\\n",
    "By the definition of floor and ceiling functions, we have that $\\lfloor x \\rfloor = \\lceil x \\rceil - 1$. Thus, we have shown that $\\lceil x \\rceil + \\lfloor x \\rfloor = 2\\lceil x \\rceil - 1$ for all $x \\notin \\mathbb{Z}$."
   ]
  },
  {
   "cell_type": "markdown",
   "id": "1751c467",
   "metadata": {
    "deletable": false,
    "editable": false,
    "nbgrader": {
     "cell_type": "markdown",
     "checksum": "4ce5de7e463486be3242e747737420c3",
     "grade": false,
     "grade_id": "cell-6efa7ac80725d368",
     "locked": true,
     "schema_version": 3,
     "solution": false,
     "task": false
    }
   },
   "source": [
    "## Question 5 [12 marks]\n",
    "\n",
    "What are the terms $a_0$, $a_1$, $a_2$, and $a_3$ of the sequence $\\{a_n\\}$, where $a_n$ equals\n",
    "\n",
    "a) $2^n + 1$  \n",
    "b) $(n+1)^{n+1}$  \n",
    "c) $\\lfloor n/2 \\rfloor$  \n",
    "d) $\\lfloor n/2 \\rfloor + \\lceil n/2 \\rceil$\n",
    "\n",
    "Each part is worth **[3 marks]**. Show full steps."
   ]
  },
  {
   "cell_type": "markdown",
   "id": "f4d25ee2",
   "metadata": {
    "deletable": false,
    "nbgrader": {
     "cell_type": "markdown",
     "checksum": "88830c9aa5f550b7bb0e9549a4b2975e",
     "grade": true,
     "grade_id": "cell-d0ac4ba86a6cc87f",
     "locked": false,
     "points": 12,
     "schema_version": 3,
     "solution": true,
     "task": false
    }
   },
   "source": [
    "YOUR ANSWER HERE\n",
    "\n",
    "a) $a_0 = 2^0 + 1 = 2, \\, a_1 = 2^1 + 1 = 3, \\, a_2 = 2^2 + 1 = 5, \\, a_3 = 2^3 + 1 = 9$\n",
    "\n",
    "b) $a_0 = (0 + 1)^{0 + 1} = 1, \\, a_1 = (1 + 1)^{1 + 1} = 4, \\, a_2 = (2 + 1)^{2 + 1} = 27, \\, a_3 = (3 + 1)^{3 + 1} = 256$\n",
    "\n",
    "c) $a_0 = \\lfloor 0/2 \\rfloor = 0, \\, a_1 = \\lfloor 1/2 \\rfloor = 0, \\, a_2 = \\lfloor 2/2 \\rfloor = 1, \\, a_3 = \\lfloor 3/2 \\rfloor = 1$\n",
    "\n",
    "d) $a_0 = \\lfloor 0/2 \\rfloor + \\lceil 0/2 \\rceil = 0, \\, a_1 = \\lfloor 1/2 \\rfloor + \\lceil 1/2 \\rceil = 0 + 1 = 1, \\, a_2 = \\lfloor 2/2 \\rfloor + \\lceil 2/2 \\rceil = 1 + 1 = 2, \\, a_3 = \\lfloor 3/2 \\rfloor + \\lceil 3/2 \\rceil = 1 + 2 = 3$"
   ]
  },
  {
   "cell_type": "markdown",
   "id": "59d9d3fd",
   "metadata": {
    "deletable": false,
    "editable": false,
    "nbgrader": {
     "cell_type": "markdown",
     "checksum": "f47e5a0cbbf80dcfddedd5595b71dcac",
     "grade": false,
     "grade_id": "cell-0a01662220b15821",
     "locked": true,
     "schema_version": 3,
     "solution": false,
     "task": false
    }
   },
   "source": [
    "# Question 6 [12 marks]\n",
    "\n",
    "Show that the sequence $\\{a_n\\}$ is a solution of the recurrence relation $a_n = (1-k)a_{n-1} + ka_{n-2}$ for all $k \\in \\mathbb{N}$ if,\n",
    "\n",
    "a) $a_n = 0$  \n",
    "b) $a_n = 1$  \n",
    "c) $a_n = (-k)^n$  \n",
    "d) $a_n = 2(-k)^n + k - 1$ \n",
    "\n",
    "Each question is worth **[4 marks]**. Make sure to include all steps.   \n",
    "For d), just show one example of $k$ where it solves the recurrence relation."
   ]
  },
  {
   "cell_type": "markdown",
   "id": "6754682b",
   "metadata": {
    "deletable": false,
    "nbgrader": {
     "cell_type": "markdown",
     "checksum": "89e461d10a47d19825c85eb8ec3eae19",
     "grade": true,
     "grade_id": "cell-b57a6df55ea8399e",
     "locked": false,
     "points": 12,
     "schema_version": 3,
     "solution": true,
     "task": false
    }
   },
   "source": [
    "YOUR ANSWER HERE"
   ]
  },
  {
   "cell_type": "markdown",
   "id": "1729a7ad",
   "metadata": {
    "deletable": false,
    "editable": false,
    "nbgrader": {
     "cell_type": "markdown",
     "checksum": "2335ee31eaa8ccc15de7480fb2e2a1ec",
     "grade": false,
     "grade_id": "cell-26d28be2e2a9224e",
     "locked": true,
     "schema_version": 3,
     "solution": false,
     "task": false
    }
   },
   "source": [
    "## Question 7 [28 marks]\n",
    "\n",
    "Find the solution to each of these recurrence relations with the given initial conditions. Must use an iterative approach. Show all your work.\n",
    "\n",
    "$\\begin{align}\n",
    "\\text{a)} &\\; a_n = -a_{n-1} && a_0 = 5\\\\\n",
    "\\text{b)} &\\; a_n = a_{n-1} - n && a_0 = 3\\\\\n",
    "\\text{c)} &\\; a_n = a_{n-1} + 3 && a_0 = 2\\\\\n",
    "\\text{d)} &\\; a_n = (n+1)a_{n-1} && a_0 = 1\\\\\n",
    "\\text{e)} &\\; a_n = 2a_{n-1} - 3 && a_0 = -3\\\\\n",
    "\\text{f)} &\\; a_n = 2na_{n-1} && a_0 = 7\\\\\n",
    "\\text{g)} &\\; a_n = -a_{n-1} + n - 1 && a_0 = 8\\\\\n",
    "\\end{align}$"
   ]
  },
  {
   "cell_type": "markdown",
   "id": "4796e18d",
   "metadata": {
    "deletable": false,
    "nbgrader": {
     "cell_type": "markdown",
     "checksum": "9d7ae6b7948f9b17cb1822128b6b06da",
     "grade": true,
     "grade_id": "cell-30ab63ac1a471a92",
     "locked": false,
     "points": 28,
     "schema_version": 3,
     "solution": true,
     "task": false
    }
   },
   "source": [
    "YOUR ANSWER HERE"
   ]
  },
  {
   "cell_type": "markdown",
   "id": "c875ad35",
   "metadata": {
    "deletable": false,
    "editable": false,
    "nbgrader": {
     "cell_type": "markdown",
     "checksum": "0675eef2ff3e164fd1852d2f870f0016",
     "grade": false,
     "grade_id": "cell-55eab66aee178fa9",
     "locked": true,
     "schema_version": 3,
     "solution": false,
     "task": false
    }
   },
   "source": [
    "## Bonus Question 8 [10 bonus marks]\n",
    "\n",
    "Prove or disprove each of these statements about the floor and ceiling functions.\n",
    "\n",
    "$\n",
    "\\begin{align}\n",
    "\\text{a)} && \\lfloor \\lceil x \\rceil \\rfloor &= \\lceil x \\rceil & \\text{ for all real numbers } x\\\\\n",
    "\\text{b)} && \\lfloor x+y \\rfloor &= \\lfloor x \\rfloor + \\lfloor y \\rfloor & \\text{ for all real numbers } x \\text{ and } y\\\\\n",
    "\\text{c)} && \\lceil \\lceil x/2 \\rceil /2 \\rceil &= \\lceil x/4 \\rceil & \\text{ for all real numbers } x\\\\\n",
    "\\text{d)} && \\lfloor \\sqrt{\\lceil x \\rceil} \\rfloor &= \\lfloor \\sqrt{x} \\rfloor & \\text{ for all } \\textbf{positive} \\text{ real numbers } x\\\\\n",
    "\\text{e)} && \\lfloor x \\rfloor + \\lfloor y \\rfloor + \\lfloor x+y \\rfloor & = \\lfloor 2x \\rfloor + \\lfloor 2y \\rfloor & \\text{ for all real numbers } x \\text{ and } y\n",
    "\\end{align}\n",
    "$"
   ]
  },
  {
   "cell_type": "markdown",
   "id": "08059f42",
   "metadata": {
    "deletable": false,
    "nbgrader": {
     "cell_type": "markdown",
     "checksum": "5a73aca77ee1e4717ae667977d27c412",
     "grade": true,
     "grade_id": "cell-63c0b253d6244a30",
     "locked": false,
     "points": 0,
     "schema_version": 3,
     "solution": true,
     "task": false
    }
   },
   "source": [
    "YOUR ANSWER HERE\n",
    "\n",
    "a) Since $\\lceil x \\rceil \\in \\mathbb{Z}$, we have that $\\lfloor \\lceil x \\rceil \\rfloor = \\lceil x \\rceil$ by the definition of floor function. Thus the given statement holds for all $x \\in \\mathbb{R}$.\n",
    "\n",
    "b) Assume, WLOG, that the $x \\in [m, m + 1)$ and $y \\in [n, n + 1)$ where $m, \\, n \\in \\mathbb{Z}$, we then have that $x + y \\in [m + n, m + n + 2)$ and $\\lfloor x \\rfloor = m$ and $\\lfloor y \\rfloor = n$. \n",
    "\n",
    "Case I: $x + y \\in [m + n, m + n + 1)$. Thus, by the definition of floor function, we have that $\\lfloor x + y \\rfloor = m + n = \\lfloor x \\rfloor  + \\lfloor y \\rfloor$. \n",
    "\n",
    "Case II: $x + y \\in [m + n + 1, m + n + 2)$. Thus, by the definition of floor function, we have that $\\lfloor x + y \\rfloor = m + n + 1 \\neq \\lfloor x \\rfloor  + \\lfloor y \\rfloor$. \n",
    "\n",
    "Thus, the given statement **does not hold** for all $x, \\, y \\in \\mathbb{R}$. \n",
    "\n",
    "c) Assume that $x/4 \\in [k, k + 1)$ where $k \\in \\mathbb{Z}$. Thus, $x/2 \\in [2k, 2k + 2)$ and $\\lceil x/4 \\rceil = k$.\n",
    "\n",
    "Case I: $x/2 \\in [2k, 2k + 1)$. Then, by the definition of ceiling function, $\\lceil x/2 \\rceil = 2k$. Thus, we have that \n",
    "\n",
    "\\begin{align}\n",
    "\\lceil \\lceil x/2 \\rceil /2 \\rceil & = \\lceil 2k/2 \\rceil \\\\\n",
    "                                   & = \\lceil k \\rceil \\\\\n",
    "                                   & = k \\\\\n",
    "                                   & = \\lceil x/4 \\rceil\n",
    "\\end{align}\n",
    "\n",
    "Case II: $x/2 \\in [2k + 1, 2k + 2)$. Then, by the definition of ceiling function, $\\lceil x/2 \\rceil = 2k + 1$. Thus, we have that \n",
    "\n",
    "\\begin{align}\n",
    "\\lceil \\lceil x/2 \\rceil /2 \\rceil & = \\lceil (2k + 1)/2 \\rceil \\\\\n",
    "                                   & = \\lceil k + 1/2 \\rceil \\\\\n",
    "                                   & = k + 1 \\\\\n",
    "                                   & \\neq \\lceil x/4 \\rceil\n",
    "\\end{align}\n",
    "\n",
    "Thus, the given statement **does not hold** for all $x \\in \\mathbb{R}$. \n",
    "\n",
    "d) Fix $x \\in \\mathbb{R^+}$ arbitrary. \n",
    "\n",
    "Case I: $\\sqrt{x} \\in \\mathbb{N}$. Then $x^2 \\in \\mathbb{N}$. Thus, $\\lfloor \\sqrt{\\lceil x \\rceil} \\rfloor = \\lfloor \\sqrt{x} \\rfloor = \\sqrt{x} = \\lceil \\sqrt{x} \\rceil$.\n",
    "\n",
    "Case II: $\\sqrt{x} \\notin \\mathbb{N}$. Assume that $\\sqrt{x} \\in (k - 1, k)$ where $k \\in \\mathbb{Z}$. Then, by the definition of floor function, we have that $\\lfloor \\sqrt{x} \\rfloor = k - 1$. Since we know that $x \\in ((k - 1)^2, k^2)$, we also have that $\\lceil x \\rceil = k^2$. Thus, \n",
    "\n",
    "\\begin{align}\n",
    "\\lfloor \\sqrt{\\lceil x \\rceil} \\rfloor & = \\lfloor \\sqrt{k^2} \\rfloor \\\\\n",
    "                                       & = \\lfloor k \\rfloor \\\\\n",
    "                                       & = k \\\\\n",
    "                                       & = \\lceil \\sqrt{x} \\rceil \\\\\n",
    "                                       & \\neq \\lfloor \\sqrt{x} \\rfloor = k - 1\n",
    "\\end{align}\n",
    "\n",
    "Thus, the given statement **does not hold** for all $x \\in \\mathbb{R^+}$.\n",
    "\n",
    "e) We want to show that the given statement does not hold for all $x, \\, y \\in \\mathbb{R}$. We give a proof by providing a counter example. Let $x = 1.6$ and $y = 1$. Then, \n",
    "\n",
    "\\begin{align}\n",
    "\\lfloor x \\rfloor + \\lfloor y \\rfloor + \\lfloor x + y \\rfloor & = 1 + 1 + 2 \\\\\n",
    "                                                              & = 4 \\\\\n",
    "                                                              & \\neq \\lfloor 2x \\rfloor + \\lfloor 2y \\rfloor  = 3 + 2 = 5\\\\\n",
    "\\end{align}\n",
    "\n",
    "Thus, the given statement **does not hold** for all $x, \\, y \\in \\mathbb{R}$."
   ]
  },
  {
   "cell_type": "code",
   "execution_count": null,
   "id": "b21a8197-c2ac-48ed-ae39-6ce461065962",
   "metadata": {},
   "outputs": [],
   "source": []
  }
 ],
 "metadata": {
  "kernelspec": {
   "display_name": "Python 3 (ipykernel)",
   "language": "python",
   "name": "python3"
  },
  "language_info": {
   "codemirror_mode": {
    "name": "ipython",
    "version": 3
   },
   "file_extension": ".py",
   "mimetype": "text/x-python",
   "name": "python",
   "nbconvert_exporter": "python",
   "pygments_lexer": "ipython3",
   "version": "3.9.7"
  }
 },
 "nbformat": 4,
 "nbformat_minor": 5
}
