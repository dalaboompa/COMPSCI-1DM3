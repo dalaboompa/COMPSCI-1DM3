{
 "cells": [
  {
   "cell_type": "markdown",
   "id": "77fa03cf",
   "metadata": {
    "deletable": false,
    "editable": false,
    "nbgrader": {
     "cell_type": "markdown",
     "checksum": "b6065995c818a4f5849f392ec20b5a1b",
     "grade": false,
     "grade_id": "cell-02b0ffc68f519756",
     "locked": true,
     "schema_version": 3,
     "solution": false,
     "task": false
    }
   },
   "source": [
    "# 2022 WINTER 1DM3: Assignment 2 \n",
    "### Cover Section 1.6, 1.7, 1.8\n",
    "### From A3 to A10, we have group assignments. Students in a group working together and will have same grade. For each group, only one student (in colum B of \"Group\") is graded.   \n",
    "\n",
    "### Please write your name for the questions you finished.  \n",
    "\n",
    "* Instructor: Bin Guo\n",
    "* Marking: Adam Mak, Hamrish Saravanakumar, Simone Ocvirk (maka9,\n",
    "saravah, ocvirks)"
   ]
  },
  {
   "cell_type": "markdown",
   "id": "b3a52a89",
   "metadata": {
    "deletable": false,
    "editable": false,
    "nbgrader": {
     "cell_type": "markdown",
     "checksum": "11f2802b1f4a526c82c431c445b41d91",
     "grade": false,
     "grade_id": "cell-ca09a51d22f02ec8",
     "locked": true,
     "schema_version": 3,
     "solution": false,
     "task": false
    }
   },
   "source": [
    "* You will be working on this assignment within your assigned group. Ensure that all students work on the assignment questions together. ONLY ONE STUDENT WILL BE SUBMITTING YOUR ASSIGNMENT ON BEHALF OF THE GROUP. All students will recieve the same mark on the group, unless you feel as though a student/students have not contributed to the assignment. If this is the case please reach out to one of the marking TAs so we can work out a solution. \n",
    "\n",
    "* The assignment is __due on Sunday February 6th at 11:59pm__. \n",
    "\n",
    "* Your answer should give full detailed explainations. \n",
    "\n",
    "* The practice questions are explained in tutorials and not counted as marks. The full marks is __90__. Question 9 is a __bonus__ question which has __10__ marks as bonus. \n",
    "\n",
    "* the total marks up to the maximum 100 marks.\n",
    "* NOTE: Many of these questions deal with proofs. You will __NOT__ achieve full marks on a question if you simply provide an example."
   ]
  },
  {
   "cell_type": "markdown",
   "id": "088f3d2b",
   "metadata": {
    "deletable": false,
    "editable": false,
    "nbgrader": {
     "cell_type": "markdown",
     "checksum": "3148c829da4794ccd93e4fba69387c19",
     "grade": false,
     "grade_id": "cell-b86326cf292f3f59",
     "locked": true,
     "schema_version": 3,
     "solution": false,
     "task": false
    }
   },
   "source": [
    "## Practice Question 1 (Section 1.6, 9), not marked\n",
    "\n",
    "For each of these collections of premises, what relevant\n",
    "conclusion or conclusions can be drawn? Explain the\n",
    "rules of inference used to obtain each conclusion from\n",
    "the premises.\n",
    "\n",
    "a. “If I take the day off, it either rains or snows.” “I took\n",
    "Tuesday off or I took Thursday off.” “It was sunny on\n",
    "Tuesday.” “It did not snow on Thursday.” \n",
    "\n",
    "\n",
    "b. “If I eat spicy foods, then I have strange dreams.” “I\n",
    "have strange dreams if there is thunder while I sleep.”\n",
    "“I did not have strange dreams.”\n",
    "\n",
    "\n",
    "c. “I am either clever or lucky.” “I am not lucky.” “If I\n",
    "am lucky, then I will win the lottery.”\n",
    "\n",
    "\n",
    "d. “Every computer science major has a personal computer.” “Ralph does not have a personal computer.”\n",
    "“Ann has a personal computer.”\n",
    "\n",
    "\n",
    "e. “What is good for corporations is good for the United\n",
    "States.” “What is good for the United States is good\n",
    "for you.” “What is good for corporations is for you to\n",
    "buy lots of stuff.”\n",
    "\n",
    "\n",
    "f. “All rodents gnaw their food.” “Mice are rodents.”\n",
    "“Rabbits do not gnaw their food.” “Bats are not rodents.”"
   ]
  },
  {
   "cell_type": "markdown",
   "id": "f4e4d952",
   "metadata": {
    "deletable": false,
    "nbgrader": {
     "cell_type": "markdown",
     "checksum": "0576499dc818bbf54445cb708f8da7e9",
     "grade": true,
     "grade_id": "cell-76cc4d5636d4bbb8",
     "locked": false,
     "points": 0,
     "schema_version": 3,
     "solution": true,
     "task": false
    }
   },
   "source": [
    "YOUR ANSWER HERE"
   ]
  },
  {
   "cell_type": "markdown",
   "id": "7c695cd5",
   "metadata": {
    "deletable": false,
    "editable": false,
    "nbgrader": {
     "cell_type": "markdown",
     "checksum": "79465dfcc5a5f47b9f75f7c7158aeaa7",
     "grade": false,
     "grade_id": "cell-c9a545a1d027a295",
     "locked": true,
     "schema_version": 3,
     "solution": false,
     "task": false
    }
   },
   "source": [
    "## Practice Question 2 (Section 1.6, 19),  not marked\n",
    "Determine whether each of these arguments is valid. If an\n",
    "argument is correct, what rule of inference is being used?\n",
    "If it is not, what logical error occurs?\n",
    "\n",
    "\n",
    "a. If $n$ is a real number such that $n > 1$, then $n^2 > 1$.\n",
    "Suppose that $n^2 > 1$. Then $n > 1$.\n",
    "\n",
    "\n",
    "b. If $n$ is a real number with $n > 3$, then $n^2 > 9$.\n",
    "Suppose that $n^2 \\leq 9$. Then $n \\leq 3$.\n",
    "\n",
    "\n",
    "c. If $n$ is a real number with $n > 2$, then $n^2 > 4$.\n",
    "Suppose that $n \\leq 2$. Then $n^2 \\leq 4$."
   ]
  },
  {
   "cell_type": "markdown",
   "id": "935d1e1a",
   "metadata": {
    "deletable": false,
    "nbgrader": {
     "cell_type": "markdown",
     "checksum": "411b1d79e180527ce5b649440b8dfd11",
     "grade": true,
     "grade_id": "cell-7d2f3a27b48f01f9",
     "locked": false,
     "points": 0,
     "schema_version": 3,
     "solution": true,
     "task": false
    }
   },
   "source": [
    "YOUR ANSWER HERE"
   ]
  },
  {
   "cell_type": "markdown",
   "id": "6d742304",
   "metadata": {
    "deletable": false,
    "editable": false,
    "nbgrader": {
     "cell_type": "markdown",
     "checksum": "2a07bec01a1cdf3ee3f0e44c46129640",
     "grade": false,
     "grade_id": "cell-41bc0946b5c550c0",
     "locked": true,
     "schema_version": 3,
     "solution": false,
     "task": false
    }
   },
   "source": [
    "## Practice Question 3 (Section 1.7, 13),  not marked\n",
    "\n",
    "Prove that if $x$ is irrational, then $\\frac{1}{x}$ is irrational.\n"
   ]
  },
  {
   "cell_type": "markdown",
   "id": "6fc17962",
   "metadata": {
    "deletable": false,
    "nbgrader": {
     "cell_type": "markdown",
     "checksum": "44724d59a028bd42069805d020b7fffb",
     "grade": true,
     "grade_id": "cell-6e886cd4876de344",
     "locked": false,
     "points": 0,
     "schema_version": 3,
     "solution": true,
     "task": false
    }
   },
   "source": [
    "YOUR ANSWER HERE"
   ]
  },
  {
   "cell_type": "markdown",
   "id": "26341f04",
   "metadata": {
    "deletable": false,
    "editable": false,
    "nbgrader": {
     "cell_type": "markdown",
     "checksum": "d74e62dc9b58ec7cc82f08a786829234",
     "grade": false,
     "grade_id": "cell-cca8b181903e81c4",
     "locked": true,
     "schema_version": 3,
     "solution": false,
     "task": false
    }
   },
   "source": [
    "## Practice Question 4 (Section 1.7, 39),  not marked\n",
    "\n",
    "Prove that at least one of the real numbers $a_1 , a_2 , . . . , a_n$\n",
    "is greater than or equal to the average of these numbers.\n",
    "What kind of proof did you use?"
   ]
  },
  {
   "cell_type": "markdown",
   "id": "42dc4519",
   "metadata": {
    "deletable": false,
    "nbgrader": {
     "cell_type": "markdown",
     "checksum": "af0dce8958773f88fc045d2dfb93ccb5",
     "grade": true,
     "grade_id": "cell-7dc73890f1621977",
     "locked": false,
     "points": 0,
     "schema_version": 3,
     "solution": true,
     "task": false
    }
   },
   "source": [
    "YOUR ANSWER HERE"
   ]
  },
  {
   "cell_type": "markdown",
   "id": "7fc61209",
   "metadata": {
    "deletable": false,
    "editable": false,
    "nbgrader": {
     "cell_type": "markdown",
     "checksum": "fc88eca8290aee29871b57c7af39b28d",
     "grade": false,
     "grade_id": "cell-3142b4ec931b8afa",
     "locked": true,
     "schema_version": 3,
     "solution": false,
     "task": false
    }
   },
   "source": [
    "## Practice Question 5 (Section 1.8, 7),  not marked\n",
    "\n",
    "Prove the triangle inequality, which states that if $x$ and\n",
    "$y$ are real numbers, then $|x| + |y| \\geq |x + y|$ (where $|x|$\n",
    "represents the absolute value of $x$, which equals $x$ if $x \\geq 0$\n",
    "and equals $−x$ if $x < 0$)."
   ]
  },
  {
   "cell_type": "markdown",
   "id": "fdfedb1f",
   "metadata": {
    "deletable": false,
    "nbgrader": {
     "cell_type": "markdown",
     "checksum": "fec9ffdcca0306dd9114795018d4650a",
     "grade": true,
     "grade_id": "cell-d0a217f6767114bd",
     "locked": false,
     "points": 0,
     "schema_version": 3,
     "solution": true,
     "task": false
    }
   },
   "source": [
    "YOUR ANSWER HERE"
   ]
  },
  {
   "cell_type": "markdown",
   "id": "60d2a797",
   "metadata": {
    "deletable": false,
    "editable": false,
    "nbgrader": {
     "cell_type": "markdown",
     "checksum": "220e327b5c6ded50fe07263a83c3738c",
     "grade": false,
     "grade_id": "cell-a8e1eac685e4aefa",
     "locked": true,
     "schema_version": 3,
     "solution": false,
     "task": false
    }
   },
   "source": [
    "## Practice Question 6 (Section 1.8, 15),  not marked\n",
    "\n",
    "Show that each of these statements can be used to express the fact that there is a unique element $x$ such that\n",
    "$P (x)$ is true. (Note that we can also write this statement as $\\exists !xP (x)$.)  \n",
    "\n",
    "a. $\\exists x\\forall y(P (y) \\leftrightarrow x = y)$  \n",
    "b. $\\exists x P (x) \\land \\forall x\\forall y(P (x) \\land P (y) \\rightarrow x = y)$  \n",
    "c. $\\exists x(P (x) \\land \\forall y(P (y) \\rightarrow x = y))$  "
   ]
  },
  {
   "cell_type": "markdown",
   "id": "6a93877d",
   "metadata": {
    "deletable": false,
    "nbgrader": {
     "cell_type": "markdown",
     "checksum": "ec742dae5c01480e7ad9b268ec1e87e1",
     "grade": true,
     "grade_id": "cell-ca021b9025e96839",
     "locked": false,
     "points": 0,
     "schema_version": 3,
     "solution": true,
     "task": false
    }
   },
   "source": [
    "YOUR ANSWER HERE"
   ]
  },
  {
   "cell_type": "markdown",
   "id": "c603032f",
   "metadata": {
    "deletable": false,
    "editable": false,
    "nbgrader": {
     "cell_type": "markdown",
     "checksum": "4752244fed15c8e9e905aeae27e3cef8",
     "grade": false,
     "grade_id": "cell-8c7b7137d62d43ea",
     "locked": true,
     "schema_version": 3,
     "solution": false,
     "task": false
    }
   },
   "source": [
    "-----------------"
   ]
  },
  {
   "cell_type": "markdown",
   "id": "349d2c28",
   "metadata": {
    "deletable": false,
    "editable": false,
    "nbgrader": {
     "cell_type": "markdown",
     "checksum": "23f2b7ba3cc87b587e8c4a90e8351041",
     "grade": false,
     "grade_id": "cell-e2cf08018d3dfa70",
     "locked": true,
     "schema_version": 3,
     "solution": false,
     "task": false
    }
   },
   "source": [
    "## Question 1 [10 marks]\n",
    "\n",
    "For each of the following arguments, which rule of inference is used?\n",
    "\n",
    "a) It is either hotter than 80 degrees today or the pollution is dangerous. Today, it is less than 80 degrees outside. Therefore, the pollution is dangerous.\n",
    "\n",
    "b) Melissa is an excellent skater. If Melissa is an excellent skater, then she can work as a skating instructor. Therefore, Melissa can work as a skating instructor.\n",
    "\n",
    "c) If I work on this homework for 8 hours, then I can answer all the exercises. If I answer all the exercises, I will understand the material. Therefore, if I work for 8 hours on this homework, then I will understand the material.\n",
    "\n",
    "d) Kangaroos are marsupials and they live in Australia. Therefore, kangaroos are marsupials.\n",
    "\n",
    "e) Anthony will work at McDonalds this summer. Therefore, this summer Anthony will work at Tim Hortons company or spend the entire summer watching Netflix."
   ]
  },
  {
   "cell_type": "markdown",
   "id": "e0dab5f9",
   "metadata": {
    "deletable": false,
    "nbgrader": {
     "cell_type": "markdown",
     "checksum": "d876b824aca6d7cd69a74a820f13761c",
     "grade": true,
     "grade_id": "cell-978fc9a9b46a5e76",
     "locked": false,
     "points": 10,
     "schema_version": 3,
     "solution": true,
     "task": false
    }
   },
   "source": [
    "YOUR ANSWER HERE"
   ]
  },
  {
   "cell_type": "markdown",
   "id": "087595db",
   "metadata": {
    "deletable": false,
    "editable": false,
    "nbgrader": {
     "cell_type": "markdown",
     "checksum": "a401eaed8955fc8cc55d2bc4cddf849d",
     "grade": false,
     "grade_id": "cell-7f9ed6b1ccb43079",
     "locked": true,
     "schema_version": 3,
     "solution": false,
     "task": false
    }
   },
   "source": [
    "## Question 2 [10 marks]\n",
    "\n",
    "Determine whether these are valid arguments. Explain using an example and the correct fallacy/inference rule.\n",
    "\n",
    "a) If $x$ is a positive real number, then $x^2$ is a positive real number. Therefore, if $a$<sup>2</sup> is positive, where $a$ is a real number, then $a$ is a positive real number.\n",
    "\n",
    "b) If $x$<sup>2</sup> $\\neq$ 0, where $x$ is a real number, then $x$ $\\neq$ 0. Let a be a real number with $a$<sup>2</sup> $\\neq$ 0; then $a$ $\\neq$ 0.\n"
   ]
  },
  {
   "cell_type": "markdown",
   "id": "f4d3a476",
   "metadata": {
    "deletable": false,
    "nbgrader": {
     "cell_type": "markdown",
     "checksum": "ede848973d42839e0d13845d1ceda8fa",
     "grade": true,
     "grade_id": "cell-5d0bf9421ebc1c5d",
     "locked": false,
     "points": 10,
     "schema_version": 3,
     "solution": true,
     "task": false
    }
   },
   "source": [
    "YOUR ANSWER HERE"
   ]
  },
  {
   "cell_type": "markdown",
   "id": "8427f083",
   "metadata": {
    "deletable": false,
    "editable": false,
    "nbgrader": {
     "cell_type": "markdown",
     "checksum": "fbc9c03a384dad10d85aac470f3332e4",
     "grade": false,
     "grade_id": "cell-eac05f0ba181eb5a",
     "locked": true,
     "schema_version": 3,
     "solution": false,
     "task": false
    }
   },
   "source": [
    "## Question 3 [10 marks]\n",
    "\n",
    "The proof below supposedly shows that if ∀x(P(x) ∨ Q(x)) is true then ∀xP(x) ∨ ∀xQ(x) is true. However, there is/are error(s) in the following proof. Identify these errors.\n",
    "1. ∀x(P(x) ∨ Q(x))&emsp;&emsp;&nbsp;Premise\n",
    "2. P(c) ∨ Q(c)&emsp;&emsp;&emsp;&ensp;&ensp;Universal instantiation from (1)\n",
    "3. P(c)&emsp;&emsp;&emsp;&emsp;&emsp;&emsp;&emsp;&nbsp;Simplification from (2)\n",
    "4. ∀xP(x)&emsp;&emsp;&emsp;&emsp;&emsp;&emsp;Universal generalization from (3)\n",
    "5. Q(c)&emsp;&emsp;&emsp;&emsp;&emsp;&emsp;&emsp;Simplification from (2)\n",
    "6. ∀xQ(x)&emsp;&emsp;&emsp;&emsp;&emsp;&emsp;Universal generalization from (5)\n",
    "7. ∀x(P(x) ∨ ∀xQ(x))&emsp;&nbsp;Conjunction from (4) and (6)"
   ]
  },
  {
   "cell_type": "markdown",
   "id": "1f6cefc6",
   "metadata": {
    "deletable": false,
    "nbgrader": {
     "cell_type": "markdown",
     "checksum": "2185c1b0fccb7727e419255a0d077a31",
     "grade": true,
     "grade_id": "cell-452f899cb0af3da3",
     "locked": false,
     "points": 10,
     "schema_version": 3,
     "solution": true,
     "task": false
    }
   },
   "source": [
    "YOUR ANSWER HERE"
   ]
  },
  {
   "cell_type": "markdown",
   "id": "59ba9b5d",
   "metadata": {
    "deletable": false,
    "editable": false,
    "nbgrader": {
     "cell_type": "markdown",
     "checksum": "61f5fe4cba2337a0c41dbbcfd9c0a045",
     "grade": false,
     "grade_id": "cell-3d15f7644f1f3e1b",
     "locked": true,
     "schema_version": 3,
     "solution": false,
     "task": false
    }
   },
   "source": [
    "## Question 4 [12 marks]\n",
    "\n",
    "\"The product of two odd numbers is odd.\" \\\n",
    "Use a direct proof to show that the above statement is true."
   ]
  },
  {
   "cell_type": "markdown",
   "id": "dca70ad9",
   "metadata": {
    "deletable": false,
    "nbgrader": {
     "cell_type": "markdown",
     "checksum": "d88ce5adc53be10eeddecbcfc11d7abe",
     "grade": true,
     "grade_id": "cell-7704fb41648e8980",
     "locked": false,
     "points": 12,
     "schema_version": 3,
     "solution": true,
     "task": false
    }
   },
   "source": [
    "YOUR ANSWER HERE"
   ]
  },
  {
   "cell_type": "markdown",
   "id": "ccc3767d",
   "metadata": {
    "deletable": false,
    "editable": false,
    "nbgrader": {
     "cell_type": "markdown",
     "checksum": "0b2f8ad569b562660016e8863afde76a",
     "grade": false,
     "grade_id": "cell-1f43b1bb2540c1c2",
     "locked": true,
     "schema_version": 3,
     "solution": false,
     "task": false
    }
   },
   "source": [
    "## Question 5 [12 marks]\n",
    "Prove the following proposition through a proof by contraposition AND a proof by contradiction.\n",
    "\"If $n$ is an integer and $3n + 2$ is even, then $n$ is even.\""
   ]
  },
  {
   "cell_type": "markdown",
   "id": "aa200e49",
   "metadata": {
    "deletable": false,
    "nbgrader": {
     "cell_type": "markdown",
     "checksum": "37ca751ed4a0aed89b48b58c527ea58f",
     "grade": true,
     "grade_id": "cell-df28270229d7a1d1",
     "locked": false,
     "points": 12,
     "schema_version": 3,
     "solution": true,
     "task": false
    }
   },
   "source": [
    "YOUR ANSWER HERE"
   ]
  },
  {
   "cell_type": "markdown",
   "id": "6454f16a",
   "metadata": {
    "deletable": false,
    "editable": false,
    "nbgrader": {
     "cell_type": "markdown",
     "checksum": "c71208908b2509716098351fbf38382b",
     "grade": false,
     "grade_id": "cell-d6c886bbd6e7f55b",
     "locked": true,
     "schema_version": 3,
     "solution": false,
     "task": false
    }
   },
   "source": [
    "## Question 6 [12 marks]\n",
    "\n",
    "P(n): “If $n$ is a positive integer greater than 1, then $n^2 \\geq n$.” \\\n",
    "Prove the above proposition for P(1). What kind of proof did you use?"
   ]
  },
  {
   "cell_type": "markdown",
   "id": "61e85bdd",
   "metadata": {
    "deletable": false,
    "nbgrader": {
     "cell_type": "markdown",
     "checksum": "89724434988c076580b3087058f24fef",
     "grade": true,
     "grade_id": "cell-091ecd22b14f7583",
     "locked": false,
     "points": 12,
     "schema_version": 3,
     "solution": true,
     "task": false
    }
   },
   "source": [
    "YOUR ANSWER HERE"
   ]
  },
  {
   "cell_type": "markdown",
   "id": "3149f432",
   "metadata": {
    "deletable": false,
    "editable": false,
    "nbgrader": {
     "cell_type": "markdown",
     "checksum": "fd21bb13a68e1393752db86e2677fa33",
     "grade": false,
     "grade_id": "cell-c9e970898363381e",
     "locked": true,
     "schema_version": 3,
     "solution": false,
     "task": false
    }
   },
   "source": [
    "## Question 7 [12 marks]\n",
    "\n",
    "Prove that if $n$ is a positive integer, then $n$ is even if and only if $7n + 4$ is even."
   ]
  },
  {
   "cell_type": "markdown",
   "id": "34a0d642",
   "metadata": {
    "deletable": false,
    "nbgrader": {
     "cell_type": "markdown",
     "checksum": "265065c59e03d5fa788f9979731c3bce",
     "grade": true,
     "grade_id": "cell-1ad0f144fa92dd8f",
     "locked": false,
     "points": 12,
     "schema_version": 3,
     "solution": true,
     "task": false
    }
   },
   "source": [
    "YOUR ANSWER HERE"
   ]
  },
  {
   "cell_type": "markdown",
   "id": "8665736a",
   "metadata": {
    "deletable": false,
    "editable": false,
    "nbgrader": {
     "cell_type": "markdown",
     "checksum": "b9fa9ff8f775a9407670088f15d1f9fb",
     "grade": false,
     "grade_id": "cell-32b12c66aee98d45",
     "locked": true,
     "schema_version": 3,
     "solution": false,
     "task": false
    }
   },
   "source": [
    "## Question 8 [12 marks]\n",
    "\n",
    "\"5$x$ + 5$y$ is an odd integer when x and y are integers of\n",
    "opposite parity\" \\\n",
    "Prove that the statement above holds using the notion of without loss of generality. "
   ]
  },
  {
   "cell_type": "markdown",
   "id": "5dd5a6b9",
   "metadata": {
    "deletable": false,
    "nbgrader": {
     "cell_type": "markdown",
     "checksum": "141fe1315fa2573dfb459124ee2f0f28",
     "grade": true,
     "grade_id": "cell-3b6ff274d2e000e9",
     "locked": false,
     "points": 12,
     "schema_version": 3,
     "solution": true,
     "task": false
    }
   },
   "source": [
    "YOUR ANSWER HERE"
   ]
  },
  {
   "cell_type": "markdown",
   "id": "a7f15116",
   "metadata": {
    "deletable": false,
    "editable": false,
    "nbgrader": {
     "cell_type": "markdown",
     "checksum": "8fee06c717e82e23aabae8f2dc6f830f",
     "grade": false,
     "grade_id": "cell-b3dc05def5f7c96d",
     "locked": true,
     "schema_version": 3,
     "solution": false,
     "task": false
    }
   },
   "source": [
    "## Bonus Question 9 [10 marks]\n",
    "Prove that at least three of any 25 days chosen at random must fall in the same month of the year."
   ]
  },
  {
   "cell_type": "markdown",
   "id": "e867001b",
   "metadata": {
    "deletable": false,
    "nbgrader": {
     "cell_type": "markdown",
     "checksum": "aca93c4711cc33b343032964c28a71e1",
     "grade": true,
     "grade_id": "cell-bf4a9cde1841d10a",
     "locked": false,
     "points": 10,
     "schema_version": 3,
     "solution": true,
     "task": false
    }
   },
   "source": [
    "YOUR ANSWER HERE"
   ]
  }
 ],
 "metadata": {
  "kernelspec": {
   "display_name": "Python 3 (ipykernel)",
   "language": "python",
   "name": "python3"
  },
  "language_info": {
   "codemirror_mode": {
    "name": "ipython",
    "version": 3
   },
   "file_extension": ".py",
   "mimetype": "text/x-python",
   "name": "python",
   "nbconvert_exporter": "python",
   "pygments_lexer": "ipython3",
   "version": "3.9.6"
  }
 },
 "nbformat": 4,
 "nbformat_minor": 5
}
