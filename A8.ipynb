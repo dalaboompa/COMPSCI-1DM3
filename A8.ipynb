{
 "cells": [
  {
   "cell_type": "markdown",
   "id": "b67c431b",
   "metadata": {
    "deletable": false,
    "editable": false,
    "nbgrader": {
     "cell_type": "markdown",
     "checksum": "1a0b893cb0adcc0b97acc5b1ae7fc761",
     "grade": false,
     "grade_id": "cell-3df11de44db243e2",
     "locked": true,
     "schema_version": 3,
     "solution": false,
     "task": false
    }
   },
   "source": [
    "# 2022 WINTER 1DM3: Assignment 8\n",
    "## This assignment cover sections 6.4, 7.1-7.3. \n",
    "\n",
    "* Instructor: Bin Guo\n",
    "* Marking: Adam Mak, Hamrish Saravanakumar, Simone Ocvirk (maka9, saravah, ocvirks)"
   ]
  },
  {
   "cell_type": "markdown",
   "id": "58ef1c7c",
   "metadata": {
    "deletable": false,
    "editable": false,
    "nbgrader": {
     "cell_type": "markdown",
     "checksum": "1b53be3853d34edd76dd75beb1bfea8c",
     "grade": false,
     "grade_id": "cell-bbe7401647deb3e8",
     "locked": true,
     "schema_version": 3,
     "solution": false,
     "task": false
    }
   },
   "source": [
    "* You will be working on this assignment within your assigned group. Ensure that all students work on the assignment questions together. __ONLY ONE STUDENT WILL BE SUBMITTING YOUR ASSIGNMENT ON BEHALF OF THE GROUP__. All students will recieve the same mark on the group, unless you feel as though a student/students have not contributed to the assignment. If this is the case please reach out to one of the marking TAs so we can work out a solution. __You must write the names of which students contributed to each question at the top of each answer cell__.\n",
    "\n",
    "* The assignment is __due on Sunday March 13th at 11:59pm__. \n",
    "\n",
    "* __Your answer should give full detailed explainations__.\n",
    "\n",
    "* The practice questions are explained in tutorials and not counted as marks. The full marks is __100__ (there is no bonus).\n",
    "\n",
    "* The total marks up to the maximum 100 marks.\n",
    "\n",
    "* NOTE: Many of these questions deal with proofs. You will __NOT__ achieve full marks on a question if you simply provide an example when a complete proof is needed."
   ]
  },
  {
   "cell_type": "markdown",
   "id": "8d6d3d13",
   "metadata": {
    "deletable": false,
    "editable": false,
    "nbgrader": {
     "cell_type": "markdown",
     "checksum": "b38f5356accc1ec8bb2be880d75121ed",
     "grade": false,
     "grade_id": "cell-9ff9623a7de3e19e",
     "locked": true,
     "schema_version": 3,
     "solution": false,
     "task": false
    }
   },
   "source": [
    "## IMPORTANT REMINDERS!\n",
    "\n",
    "\n",
    "- __ONLY THE GROUP LEADER WILL BE SUBMIT ON BEHALF OF THE GROUP__\n",
    "\n",
    "\n",
    "- __YOU MUST WRITE THE NAMES OF WHICH STUDENTS CONTRIBUTED TO EACH QUESTION, THIS IS NOT OPTIONAL__\n",
    "\n",
    "\n",
    "- __ALL ANSWERS MUST GIVE DETAILED EXPLANATIONS OR STEPS, IN THIS ASSIGNMENT MORE THAN 50% OF EACH QUESTION'S MARKS ARE ALLOCATED TO THE EXPLANATIONS/STEPS, SO JUST GIVING THE ANSWERS WILL NOT LET YOU ACHIEVE 50%__"
   ]
  },
  {
   "cell_type": "markdown",
   "id": "8b5fa52f",
   "metadata": {
    "deletable": false,
    "editable": false,
    "nbgrader": {
     "cell_type": "markdown",
     "checksum": "87e32424eebda02770f4e5ccfa4da5f2",
     "grade": false,
     "grade_id": "cell-be2feea352e04bba",
     "locked": true,
     "schema_version": 3,
     "solution": false,
     "task": false
    }
   },
   "source": [
    "## Practice Question 1 (Section 6.4, Exercise 1), Not marked\n",
    "\n",
    "Find the expansion of $(x + y)^4$\n",
    "\n",
    "1. using combinatorial reasoning, as in Example 1.\n",
    "\n",
    "\n",
    "2. using the binomial theorem.\n"
   ]
  },
  {
   "cell_type": "markdown",
   "id": "55c4b8d6",
   "metadata": {
    "deletable": false,
    "nbgrader": {
     "cell_type": "markdown",
     "checksum": "83bc98fea333a52be6d32fdb1afe8cb3",
     "grade": true,
     "grade_id": "cell-58771e64883a1629",
     "locked": false,
     "points": 0,
     "schema_version": 3,
     "solution": true,
     "task": false
    }
   },
   "source": [
    "YOUR ANSWER HERE"
   ]
  },
  {
   "cell_type": "markdown",
   "id": "2ac536a0",
   "metadata": {
    "deletable": false,
    "editable": false,
    "nbgrader": {
     "cell_type": "markdown",
     "checksum": "cf3de251ca4eeb8aac3b6bfb8d661f5d",
     "grade": false,
     "grade_id": "cell-d39213abe6c4dba2",
     "locked": true,
     "schema_version": 3,
     "solution": false,
     "task": false
    }
   },
   "source": [
    "## Practice Question 2 (Section 6.4, Exercise 13), Not marked\n",
    "\n",
    "Use the binomial theorem to find the coefficient of $x^ay^b$ in the expansion of $(2x^3-4y^2)^{7}$,where\n",
    "\n",
    "\n",
    "1. a = 9, b = 8.\n",
    "2. a = 8, b = 9.  \n",
    "3. a = 9, b = 2.\n",
    "\n"
   ]
  },
  {
   "cell_type": "markdown",
   "id": "f5b2f14c",
   "metadata": {
    "deletable": false,
    "nbgrader": {
     "cell_type": "markdown",
     "checksum": "352f798c6181af4e9c735da891b94bb9",
     "grade": true,
     "grade_id": "cell-b9734d0a574576f7",
     "locked": false,
     "points": 0,
     "schema_version": 3,
     "solution": true,
     "task": false
    }
   },
   "source": [
    "YOUR ANSWER HERE"
   ]
  },
  {
   "cell_type": "markdown",
   "id": "3962e0fc",
   "metadata": {
    "deletable": false,
    "editable": false,
    "nbgrader": {
     "cell_type": "markdown",
     "checksum": "78108307f137cbdd779ccffa959f174e",
     "grade": false,
     "grade_id": "cell-d40f1c7acca92973",
     "locked": true,
     "schema_version": 3,
     "solution": false,
     "task": false
    }
   },
   "source": [
    "## Practice Question 3 (Section 7.1, Exercise 3), Not Marked\n",
    "\n",
    "What is the probability that a randomly selected integer chosen from the first 100 positive integers is odd?\n"
   ]
  },
  {
   "cell_type": "markdown",
   "id": "1518cf9c",
   "metadata": {
    "deletable": false,
    "nbgrader": {
     "cell_type": "markdown",
     "checksum": "2b908863fb642570dc2d7a8051a8803c",
     "grade": true,
     "grade_id": "cell-f28fc54482dab170",
     "locked": false,
     "points": 0,
     "schema_version": 3,
     "solution": true,
     "task": false
    }
   },
   "source": [
    "YOUR ANSWER HERE"
   ]
  },
  {
   "cell_type": "markdown",
   "id": "b0b285b7",
   "metadata": {
    "deletable": false,
    "editable": false,
    "nbgrader": {
     "cell_type": "markdown",
     "checksum": "88316099009560fafa2aad46b04aaab6",
     "grade": false,
     "grade_id": "cell-a67a30ae83d9eb1e",
     "locked": true,
     "schema_version": 3,
     "solution": false,
     "task": false
    }
   },
   "source": [
    "\n",
    "## Practice Question 4 (Section 7.1, Exercise 5), Not Marked\n",
    "What is the probability that the sum of the numbers on two dice is even when they are rolled?\\\\\n",
    "\n"
   ]
  },
  {
   "cell_type": "markdown",
   "id": "767604d4",
   "metadata": {
    "deletable": false,
    "nbgrader": {
     "cell_type": "markdown",
     "checksum": "6ab11f37723360a5f1f03f466663e1f1",
     "grade": true,
     "grade_id": "cell-c80a80210955f055",
     "locked": false,
     "points": 0,
     "schema_version": 3,
     "solution": true,
     "task": false
    }
   },
   "source": [
    "YOUR ANSWER HERE"
   ]
  },
  {
   "cell_type": "markdown",
   "id": "df76c9c6",
   "metadata": {
    "deletable": false,
    "editable": false,
    "nbgrader": {
     "cell_type": "markdown",
     "checksum": "2feedbb37a9b5bac915d2143f9531a86",
     "grade": false,
     "grade_id": "cell-2914589b9a9ec371",
     "locked": true,
     "schema_version": 3,
     "solution": false,
     "task": false
    }
   },
   "source": [
    "## Practice Question 5 (Section 7.1, Exercise 23), Not Marked\n",
    "\n",
    "What is the probability that a positive integer not exceeding 100 selected at random is divisible by 5 or 7?\n"
   ]
  },
  {
   "cell_type": "markdown",
   "id": "b88a1238",
   "metadata": {
    "deletable": false,
    "nbgrader": {
     "cell_type": "markdown",
     "checksum": "9b98966b5d6eb80eadfc73cfe8b04c6c",
     "grade": true,
     "grade_id": "cell-14a7786b3077dfa6",
     "locked": false,
     "points": 0,
     "schema_version": 3,
     "solution": true,
     "task": false
    }
   },
   "source": [
    "YOUR ANSWER HERE"
   ]
  },
  {
   "cell_type": "markdown",
   "id": "6194faf3",
   "metadata": {
    "deletable": false,
    "editable": false,
    "nbgrader": {
     "cell_type": "markdown",
     "checksum": "d4cc4f004457bb12aa3f27a6945707be",
     "grade": false,
     "grade_id": "cell-b328c1d112e65b26",
     "locked": true,
     "schema_version": 3,
     "solution": false,
     "task": false
    }
   },
   "source": [
    "## Practice Question 6 (Section 7.1, Exercise 33), Not Marked\n",
    "\n",
    "What is the probability that Abby, Barry, and Sylvia win the first, second, and third prizes, respectively, in a drawing if 200 people enter a contest and\n",
    "\n",
    "\n",
    "1. no one can win more than one prize.\n",
    "\n",
    "2. winning more than one prize is allowed."
   ]
  },
  {
   "cell_type": "markdown",
   "id": "f970ff01",
   "metadata": {
    "deletable": false,
    "nbgrader": {
     "cell_type": "markdown",
     "checksum": "cfef42df8308e89665462fbe2ebc8ed5",
     "grade": true,
     "grade_id": "cell-f864863b6c80e624",
     "locked": false,
     "points": 0,
     "schema_version": 3,
     "solution": true,
     "task": false
    }
   },
   "source": [
    "YOUR ANSWER HERE"
   ]
  },
  {
   "cell_type": "markdown",
   "id": "72a43559",
   "metadata": {
    "deletable": false,
    "editable": false,
    "nbgrader": {
     "cell_type": "markdown",
     "checksum": "43c93b160018f0cf13380aa230668ed5",
     "grade": false,
     "grade_id": "cell-0f594d6e7d122788",
     "locked": true,
     "schema_version": 3,
     "solution": false,
     "task": false
    }
   },
   "source": [
    "## Practice Question 7 (Section 7.2, Exercise 9), Not Marked\n",
    "\n",
    "What is the probability of these events when we randomly select a permutation of the 26 lowercase letters of the English alphabet?\n",
    "\n",
    "$P(26,26)= 26!$\n",
    "\n",
    "$|S|=26!$\n",
    "\n",
    "\n",
    "1. The permutation consists of the letters in reverse alphabetic order.\n",
    "\n",
    "\n",
    "2. z is the first letter of the permutation.\n",
    "\n",
    "\n",
    "3. z precedes a in the permutation.\n",
    "\n",
    "\n",
    "4. a immediately precedes z in the permutation.\n",
    "\n",
    "\n",
    "5. a immediately precedes m, which immediately precedes z in the permutation.\n",
    "\n",
    "\n",
    "6. m, n, and o are in their original places in the permutation.\n",
    "\n"
   ]
  },
  {
   "cell_type": "markdown",
   "id": "e91ff826",
   "metadata": {
    "deletable": false,
    "nbgrader": {
     "cell_type": "markdown",
     "checksum": "68a7c3b03e3f5ea16c5a5cf1069c735b",
     "grade": true,
     "grade_id": "cell-9c1cb03170ad8c43",
     "locked": false,
     "points": 0,
     "schema_version": 3,
     "solution": true,
     "task": false
    }
   },
   "source": [
    "YOUR ANSWER HERE"
   ]
  },
  {
   "cell_type": "markdown",
   "id": "62c8600e",
   "metadata": {
    "deletable": false,
    "editable": false,
    "nbgrader": {
     "cell_type": "markdown",
     "checksum": "d241275422dd81362d41524146148dbe",
     "grade": false,
     "grade_id": "cell-d77b41a3ef823527",
     "locked": true,
     "schema_version": 3,
     "solution": false,
     "task": false
    }
   },
   "source": [
    "## Practice Question 8 (Section 7.2, Exercise 19), Not Marked\n",
    "Assume that the year has 366 days and all birthdays are equally likely. In Exercise 19 assume it is equally likely that a person is born in any given month of the year.\n",
    "\n",
    "1. What is the probability that two people chosen at random were born during the same month of the year?\n",
    "\n",
    "\n",
    "2. What is the probability that in a group of n people chosen at random, there are at least two born in the same month of the year?\\\\\n",
    "\n",
    "3. How many people chosen at random are needed to make the probability greater than 1/2 that there are at least two people born in the same month of the year?\n",
    "\n"
   ]
  },
  {
   "cell_type": "markdown",
   "id": "3138b063",
   "metadata": {
    "deletable": false,
    "nbgrader": {
     "cell_type": "markdown",
     "checksum": "ccb2af1f55ed47474f337433357a09c2",
     "grade": true,
     "grade_id": "cell-f433b1f94bb664d0",
     "locked": false,
     "points": 0,
     "schema_version": 3,
     "solution": true,
     "task": false
    }
   },
   "source": [
    "YOUR ANSWER HERE"
   ]
  },
  {
   "cell_type": "markdown",
   "id": "62ec4bbb",
   "metadata": {
    "deletable": false,
    "editable": false,
    "nbgrader": {
     "cell_type": "markdown",
     "checksum": "dc0866a7036ae668c557219d51276ded",
     "grade": false,
     "grade_id": "cell-f3ca08fb5f96c7e4",
     "locked": true,
     "schema_version": 3,
     "solution": false,
     "task": false
    }
   },
   "source": [
    "## Practice Question 9 (Section 7.3, Exercise 3), Not Marked\n",
    "\n",
    "Suppose that Frida selects a ball by first picking one of two boxes at random and then selecting a ball from this box at random. The first box contains two white balls and three blue balls, and the second box contains four white balls and one blue ball. What is the probability that Frida picked a ball from the first box if she has selected a blue ball?\\\\\n",
    "\n"
   ]
  },
  {
   "cell_type": "markdown",
   "id": "9af58bb5",
   "metadata": {
    "deletable": false,
    "nbgrader": {
     "cell_type": "markdown",
     "checksum": "9c6845d5f45f7d2134901a7fbd053b4d",
     "grade": true,
     "grade_id": "cell-e90ba7fbefd0b016",
     "locked": false,
     "points": 0,
     "schema_version": 3,
     "solution": true,
     "task": false
    }
   },
   "source": [
    "YOUR ANSWER HERE"
   ]
  },
  {
   "cell_type": "markdown",
   "id": "f287dd90",
   "metadata": {
    "deletable": false,
    "editable": false,
    "nbgrader": {
     "cell_type": "markdown",
     "checksum": "302d74f9243a208b895bc2c634ab8886",
     "grade": false,
     "grade_id": "cell-959f6299350d6747",
     "locked": true,
     "schema_version": 3,
     "solution": false,
     "task": false
    }
   },
   "source": [
    "-----------------------------------------------"
   ]
  },
  {
   "cell_type": "markdown",
   "id": "d412aad6",
   "metadata": {
    "deletable": false,
    "editable": false,
    "nbgrader": {
     "cell_type": "markdown",
     "checksum": "18b708247aeedf8f814235152401ac63",
     "grade": false,
     "grade_id": "cell-89db8e6655de4111",
     "locked": true,
     "schema_version": 3,
     "solution": false,
     "task": false
    }
   },
   "source": [
    "## Question 1 [12 marks]\n",
    "\n",
    "Find the expansion of $(x+y)^6$ and $(3x+y^2)^4$ using binomial theorem.  \n",
    "\n",
    "The binomial theorem is as shown: $(a+b)^n = \\sum_{k=0}^{n} \\binom{n}{k}a^{n-k}b^k$\n",
    "\n",
    "Make sure to show all steps, including stating what $a, b, n$ is equivalent to in each expression.   \n",
    "Each expression is worth **[6 marks]**.  "
   ]
  },
  {
   "cell_type": "markdown",
   "id": "c22e6898",
   "metadata": {
    "deletable": false,
    "nbgrader": {
     "cell_type": "markdown",
     "checksum": "a557ed558909247131e9fef3d712f006",
     "grade": true,
     "grade_id": "cell-a91c137620294210",
     "locked": false,
     "points": 12,
     "schema_version": 3,
     "solution": true,
     "task": false
    }
   },
   "source": [
    "YOUR ANSWER HERE\n",
    "\n",
    "With \"a = x\", \"b = y\", and \"n = 6\", we obtain from the binomial theorem that the coefficients for the expansion of $(x+y)^6$ are: $$1 \\quad 6 \\quad 15 \\quad 20 \\quad 15 \\quad 6 \\quad 1$$\n",
    "\n",
    "Thus, the expension of $(x+y)^6$ is: $$\\sum_{k=0}^{6} \\binom{6}{k}x^{6-k}y^k = x^6 + 6x^5y + 15x^4y^2 + 20x^3y^3 + 15x^2y^4 + 6xy^5 + y^6$$\n",
    "\n",
    "\n",
    "Let $m = 3x, n = y^2$. With \"a = m\", \"b = n\", and \"n = 4\", we obtain from the binomial theorem that the coefficients for the expansion of $(m+n)^4$ are: $$1 \\quad 4 \\quad 6 \\quad 4 \\quad 1$$\n",
    "\n",
    "Thus, the expension of $(m+n)^4$ is: $$\\sum_{k=0}^{4} \\binom{4}{k}m^{4-k}n^k = m^4 + 4m^3n + 6m^2n^2 + 4mn^3 + n^4 = (3x)^4 + 4(3x)^3(y^2) + 6(3x)^2(y^2)^2 + 4(3x)(y^2)^3 + (y^2)^4$$"
   ]
  },
  {
   "cell_type": "markdown",
   "id": "7b5d9030",
   "metadata": {
    "deletable": false,
    "editable": false,
    "nbgrader": {
     "cell_type": "markdown",
     "checksum": "04d49d6c191593370fb2e5dbb4df40da",
     "grade": false,
     "grade_id": "cell-8a1183b848e17cbc",
     "locked": true,
     "schema_version": 3,
     "solution": false,
     "task": false
    }
   },
   "source": [
    "## Question 2 [10 marks]\n",
    "\n",
    "The row of Pascal's triangle containing the binomial coefficients $\\binom{11}{k}, 0 \\leq k \\leq 11$, is:\n",
    "$$1\\;\\;11\\;\\;55\\;\\;165\\;\\;330\\;\\;462\\;\\;462\\;\\;330\\;\\;165\\;\\;55\\;\\;11\\;\\;1$$\n",
    "\n",
    "Use **Pascal’s identity** to produce the row immediately following this row in Pascal’s triangle. This identity must be explicitly used in your solution.\n",
    "\n",
    "Pascal's identity: $\\binom{n}{k}=\\binom{n-1}{k-1}+\\binom{n-1}{k}$"
   ]
  },
  {
   "cell_type": "markdown",
   "id": "6c348ab3",
   "metadata": {
    "deletable": false,
    "nbgrader": {
     "cell_type": "markdown",
     "checksum": "8da60b7c1f193a2cbaaff5fafecea8b2",
     "grade": true,
     "grade_id": "cell-6fea516150ab65e8",
     "locked": false,
     "points": 10,
     "schema_version": 3,
     "solution": true,
     "task": false
    }
   },
   "source": [
    "YOUR ANSWER HERE\n",
    "\n",
    "With the begining and ending coefficients are $1$, we perform the following calculations to find the 13th row of the pascal's triangle: \n",
    "\n",
    "| 1                 | 11                | 55                | 165               | 330               | 462               | 462               | 330               | 165               | 55                | 11                 | 1                  |\n",
    "|-------------------|-------------------|-------------------|-------------------|-------------------|-------------------|-------------------|-------------------|-------------------|-------------------|--------------------|--------------------|\n",
    "| $$\\binom{11}{0}$$ | $$\\binom{11}{1}$$ | $$\\binom{11}{2}$$ | $$\\binom{11}{3}$$ | $$\\binom{11}{4}$$ | $$\\binom{11}{5}$$ | $$\\binom{11}{6}$$ | $$\\binom{11}{7}$$ | $$\\binom{11}{8}$$ | $$\\binom{11}{9}$$ | $$\\binom{11}{10}$$ | $$\\binom{11}{11}$$ |\n",
    "\n",
    "| 1                 | 12                                | 66                                | 220                               | 495                               | 792                               | 924                               | 792                               | 495                               | 220                               | 66                                 | 12                                  | 1                  |\n",
    "|-------------------|-----------------------------------|-----------------------------------|-----------------------------------|-----------------------------------|-----------------------------------|-----------------------------------|-----------------------------------|-----------------------------------|-----------------------------------|------------------------------------|-------------------------------------|--------------------|\n",
    "| $$\\binom{12}{0}$$ | $$\\binom{11}{0} + \\binom{11}{1}$$ | $$\\binom{11}{1} + \\binom{11}{2}$$ | $$\\binom{11}{2} + \\binom{11}{3}$$ | $$\\binom{11}{3} + \\binom{11}{4}$$ | $$\\binom{11}{4} + \\binom{11}{5}$$ | $$\\binom{11}{5} + \\binom{11}{6}$$ | $$\\binom{11}{6} + \\binom{11}{7}$$ | $$\\binom{11}{7} + \\binom{11}{8}$$ | $$\\binom{11}{8} + \\binom{11}{9}$$ | $$\\binom{11}{9} + \\binom{11}{10}$$ | $$\\binom{11}{10} + \\binom{11}{11}$$ | $$\\binom{12}{12}$$ |\n"
   ]
  },
  {
   "cell_type": "markdown",
   "id": "0024b036",
   "metadata": {
    "deletable": false,
    "editable": false,
    "nbgrader": {
     "cell_type": "markdown",
     "checksum": "201d6fcb01660f6749bdd7496d629bac",
     "grade": false,
     "grade_id": "cell-c61c5fd3ed7788be",
     "locked": true,
     "schema_version": 3,
     "solution": false,
     "task": false
    }
   },
   "source": [
    "## Question 3 [20 marks]\n",
    "\n",
    "a) What is the probability that Matilda, John, and Rose win the first, second, third prizes, respectively, in a drawing if 25 people enter a contest and no one can win more than one prize?  \n",
    "b) What is the probability that Matilda, John, and Rose win the first, second, third prizes, respectively, in a drawing if 25 people enter a contest and winning more than one prize is allowed?   \n",
    "c) What is the probability that a positive integer not exceeding 100 selected at random is divisible by 3? \n",
    "\n",
    "Remember to show all steps. Each question is worth **[6, 7, 7 marks]**."
   ]
  },
  {
   "cell_type": "markdown",
   "id": "6de75fc2",
   "metadata": {
    "deletable": false,
    "nbgrader": {
     "cell_type": "markdown",
     "checksum": "d024dc90ffa716a8be3456427b133bf2",
     "grade": true,
     "grade_id": "cell-b1a137276aa153e4",
     "locked": false,
     "points": 20,
     "schema_version": 3,
     "solution": true,
     "task": false
    }
   },
   "source": [
    "YOUR ANSWER HERE\n",
    "\n",
    "\n",
    "a) There are $25 \\times 24 \\times 23 = 13800$ possible outcomes of the drawings. Among the 13800 outcomes, there is only one case that Matilda, John, and Rose win the first, second, third prizes respectively. Thus, the probability is $\\frac{1}{13800}$.\n",
    "\n",
    "b) There are $25 \\times 25 \\times 25 = 15625$ possible outcomes of the drawings. Among the 15625 outcomes, there is only one case that Matilda, John, and Rose win the first, second, third prizes respectively. Thus, the probability is $\\frac{1}{15625}$.\n",
    "\n",
    "c) The total number of positive integers that are not exceeding 100 is 100; i.e. there are 100 possible integers as the outcomes of the drawings. Among these 100 outcomes, there are 33 out of 100 integers that are divisible by 3. Thus, the probability is $\\frac{33}{100}$ "
   ]
  },
  {
   "cell_type": "markdown",
   "id": "09799812",
   "metadata": {
    "deletable": false,
    "editable": false,
    "nbgrader": {
     "cell_type": "markdown",
     "checksum": "bc72e3ec562210f43f5c72b4df0fc8bd",
     "grade": false,
     "grade_id": "cell-bf89f1928e4b36b6",
     "locked": true,
     "schema_version": 3,
     "solution": false,
     "task": false
    }
   },
   "source": [
    "## Question 4 [6 marks]\n",
    "\n",
    "What is the probability of these events when we randomly\n",
    "select a permutation of {1, 2, 3}?  \n",
    "a) 2 precedes 3.    \n",
    "b) 3 precedes 1 and 3 precedes 2.  \n",
    "c) 3 precedes 1 or 1 precedes 3.  \n",
    "\n",
    "Each is worth **[2 marks]**."
   ]
  },
  {
   "cell_type": "markdown",
   "id": "fa00bacc",
   "metadata": {
    "deletable": false,
    "nbgrader": {
     "cell_type": "markdown",
     "checksum": "e720c1e50c69664f9da769bc6ebf51e5",
     "grade": true,
     "grade_id": "cell-4bfa8ffe82cc36f2",
     "locked": false,
     "points": 6,
     "schema_version": 3,
     "solution": true,
     "task": false
    }
   },
   "source": [
    "YOUR ANSWER HERE\n",
    "\n",
    "a) Since 2 has either to precede 3 or to follow it, we may divide all possible outcomes into two catagories. Thus, we get the probability is $\\frac{1}{2}$. \n",
    "\n",
    "b) We only need to finds the number of permutations that $3$ occurs first. By symmetry, since there are $3$ possible elements that can occur first, the probability that $3$ occurs first is simply $\\frac{1}{3}$. \n",
    "\n",
    "c) Applying the same reasoning from a), the probabiity that 3 precedes 1 is $\\frac{1}{2}$ and the probabiity that 1 precedes 3 is $\\frac{1}{2}$. Thus, the probability is $\\frac{1}{2} + \\frac{1}{2} = 1$. "
   ]
  },
  {
   "cell_type": "markdown",
   "id": "fd583866",
   "metadata": {
    "deletable": false,
    "editable": false,
    "nbgrader": {
     "cell_type": "markdown",
     "checksum": "16fff17c73c929df0230e87c0a83a735",
     "grade": false,
     "grade_id": "cell-4f4a155c415f0576",
     "locked": true,
     "schema_version": 3,
     "solution": false,
     "task": false
    }
   },
   "source": [
    "## Question 5 [12 marks]\n",
    "\n",
    "What is the probability of these events when we randomly select a permutation of the 26 lowercase letters of the English alphabet? Each is worth **[4 marks]**.\n",
    "\n",
    "a) $a$ and $z$ are not next to each other in the permutation.  \n",
    "b) $a$ and $z$ are separated by at least 23 letters in the permutation.  \n",
    "c) $z$ precedes both $a$ or $b$ in the permutation."
   ]
  },
  {
   "cell_type": "markdown",
   "id": "2cdaabb9",
   "metadata": {
    "deletable": false,
    "nbgrader": {
     "cell_type": "markdown",
     "checksum": "24a52edb4baafd2021534d858f1164f5",
     "grade": true,
     "grade_id": "cell-b8390395a1ff21f0",
     "locked": false,
     "points": 12,
     "schema_version": 3,
     "solution": true,
     "task": false
    }
   },
   "source": [
    "YOUR ANSWER HERE\n",
    "\n",
    "a) The permutation of 26 lowercase letters is $26!$. Let the event that $a$ and $z$ are next to each other be $A$. Scenario #1 (\"az\" as an element): we have $25!$ permuatations. Scenario #2 (\"za\" as an element): we have $25!$ permutations. Thus, $P(A) = (25! + 25!)/26!$. Therefore, the complementary event of A has a probability of $1 - P(A) = \\frac{12}{13}$ \n",
    "\n",
    "b) The permutation of 26 lowercase letters is $26!$. \n",
    "\n",
    "Case I (separated by 23 letters):  \n",
    "\n",
    "| 1 | 2 | 3   | 4 |\n",
    "|---|---|-----|---|\n",
    "| a | _ | ... | z |\n",
    "| _ | a | ... | z |\n",
    "| z | _ | ... | a |\n",
    "| _ | z | ... | a |\n",
    "\n",
    "We have $4 \\times 24!$ permutations. \n",
    "\n",
    "Case II (separated by 24 letters) :\n",
    "\n",
    "| 1 | 2   | 3 |\n",
    "|---|-----|---|\n",
    "| a | ... | z |\n",
    "| z | ... | a |\n",
    "\n",
    "We have $2 \\times 24!$ permutations. \n",
    "\n",
    "Thus, the probability is $\\frac{6 \\times 24!}{26!} = \\frac{3}{325}$\n",
    "\n",
    "c) There are $6$ permutations of letters $z, a, b$, in which $2$ of them satisfies that $z$ precedes both $a$ and $b$. So the probability is $\\frac{2}{6} = \\frac{1}{3}$. "
   ]
  },
  {
   "cell_type": "markdown",
   "id": "3bca52c7",
   "metadata": {
    "deletable": false,
    "editable": false,
    "nbgrader": {
     "cell_type": "markdown",
     "checksum": "c920b13a58d87916a126c2edd8f0d11b",
     "grade": false,
     "grade_id": "cell-43060ef9662f4ab5",
     "locked": true,
     "schema_version": 3,
     "solution": false,
     "task": false
    }
   },
   "source": [
    "## Question 6 [12 marks]\n",
    "\n",
    "Assuming all birthdays are equally likely,\n",
    "\n",
    "a) What is the probability that 3 people chosen at random were born on the same day of the week?  \n",
    "b) What is the probability that in a group of $n$ people chosen at random, there are atleast two born on the same week?  \n",
    "c) How many people chosen at random are needed to make the probability greater than $\\frac{2}{3}$ that there are at least two born on the same day of the week?"
   ]
  },
  {
   "cell_type": "markdown",
   "id": "a7323f6c",
   "metadata": {
    "deletable": false,
    "nbgrader": {
     "cell_type": "markdown",
     "checksum": "fe0600b933d62b7cbb3a1a70c281f69b",
     "grade": true,
     "grade_id": "cell-1ae65cc65894d683",
     "locked": false,
     "points": 12,
     "schema_version": 3,
     "solution": true,
     "task": false
    }
   },
   "source": [
    "YOUR ANSWER HERE\n",
    "\n",
    "a) We have seven days a week, the probability that each person chosen on the same day is $\\frac{1}{7} \\times \\frac{1}{7} \\times \\frac{1}{7} = \\frac{1}{343}$. \n",
    "\n",
    "b) \n",
    "\n",
    "| number of people | probability                                                                                                       | appraxoimate result |\n",
    "|------------------|-------------------------------------------------------------------------------------------------------------------|---------------------|\n",
    "| 1                | $$0$$                                                                                                             | 0                   |\n",
    "| 2                | $$1 - \\frac{6}{7}$$                                                                                               | 0.143               |\n",
    "| 3                | $$1- \\frac{6}{7} \\times \\frac{5}{7}$$                                                                             | 0.388               |\n",
    "| 4                | $$1- \\frac{6}{7} \\times \\frac{5}{7} \\times \\frac{4}{7}$$                                                          | 0.650               |\n",
    "| 5                | $$1- \\frac{6}{7} \\times \\frac{5}{7} \\times \\frac{4}{7} \\times \\frac{3}{7}$$                                       | 0.850               |\n",
    "| 6                | $$1- \\frac{6}{7} \\times \\frac{5}{7} \\times \\frac{4}{7} \\times \\frac{3}{7} \\times \\frac{2}{7}$$                    | 0.957               |\n",
    "| 7                | $$1- \\frac{6}{7} \\times \\frac{5}{7} \\times \\frac{4}{7} \\times \\frac{3}{7} \\times \\frac{2}{7} \\times \\frac{1}{7}$$ | 0.994               |\n",
    "| 8+               | $$1 \\text{(by the Pigeonhole Principle)}$$                                                                        | 1                   |\n",
    "\n",
    "c) By the table from b), we need at least $5$ people to make the probability be greater than $\\frac{2}{3}$.  "
   ]
  },
  {
   "cell_type": "markdown",
   "id": "d29d27f9",
   "metadata": {
    "deletable": false,
    "editable": false,
    "nbgrader": {
     "cell_type": "markdown",
     "checksum": "d5157ccd4c507bf2b68e1cc7bb3a76ed",
     "grade": false,
     "grade_id": "cell-a459b2fa7061923d",
     "locked": true,
     "schema_version": 3,
     "solution": false,
     "task": false
    }
   },
   "source": [
    "## Question 7 [10 marks]\n",
    "\n",
    "Show that if $\\overline{E}$ and $F$ are independent events, then $E$\n",
    "and $\\overline{F}$ are also independent events using probability laws and transformations. Must show all steps and properties used."
   ]
  },
  {
   "cell_type": "markdown",
   "id": "0fec2196",
   "metadata": {
    "deletable": false,
    "nbgrader": {
     "cell_type": "markdown",
     "checksum": "0e14d198727419d9e1ec1b1b87c36189",
     "grade": true,
     "grade_id": "cell-1500f8355e3851ae",
     "locked": false,
     "points": 10,
     "schema_version": 3,
     "solution": true,
     "task": false
    }
   },
   "source": [
    "YOUR ANSWER HERE\n",
    "\n",
    "Given that $\\overline{E}$ and $F$ are independent events, which implies that $p(\\overline{E} \\cap F) = p(\\overline{E}) p(F)$. We want to show that $p(E \\cap \\overline{F}) = p(E)p(\\overline{F})$. We have that \n",
    "\n",
    "\\begin{align}\n",
    "p(\\overline{E} \\cap F) &= 1 - p(E \\cup \\overline{F}) \\\\\n",
    "                       &= 1 - (p(E) + p(\\overline{F}) - p(E \\cap \\overline{F})) \\\\\n",
    "                       &= 1 - p(E) - p(\\overline{F}) + p(E \\cap \\overline{F}) \\\\\n",
    "\\\\\n",
    "\\Rightarrow\n",
    "\n",
    "p(E \\cap \\overline{F}) &= p(\\overline{E} \\cap F) + p(E) + p(\\overline{F}) - 1 \\\\\n",
    "                       &= p(\\overline{E} \\cap F) + (1 - p(\\overline{E})) + (1 - p(F)) - 1 \\\\\n",
    "                       &= p(\\overline{E} \\cap F) - p(\\overline{E}) - p(F) + 1 \\\\\n",
    "                       &= p(\\overline{E}) p(F) - p(\\overline{E}) - p(F) + 1 \\\\\n",
    "                       &= (1 - p(\\overline{E}))(1 - p(F)) \\\\\n",
    "                       &= p(E)p(\\overline{F}) \\\\\n",
    "\\end{align}\n",
    "\n",
    "We have shown that $E$ and $\\overline{F}$ are independent events since $p(E \\cap \\overline{F}) = p(E)p(\\overline{F})$. "
   ]
  },
  {
   "cell_type": "markdown",
   "id": "bbcfbb6b",
   "metadata": {
    "deletable": false,
    "editable": false,
    "nbgrader": {
     "cell_type": "markdown",
     "checksum": "ccc105765c36c10b903ff9cd542075c8",
     "grade": false,
     "grade_id": "cell-948170857c11c378",
     "locked": true,
     "schema_version": 3,
     "solution": false,
     "task": false
    }
   },
   "source": [
    "## Question 8 [6 marks]\n",
    "\n",
    "Suppose that Annie selects a ball by first picking one of two boxes at random and then selecting a ball from this box. The first box contains four orange balls and three black balls, and the second box contains six orange balls and\n",
    "seven black balls. What is the probability that Ann picked a ball from the second box if she has selected an orange ball?"
   ]
  },
  {
   "cell_type": "markdown",
   "id": "c7a0c338",
   "metadata": {
    "deletable": false,
    "nbgrader": {
     "cell_type": "markdown",
     "checksum": "973a0a796539649084d11951710f8270",
     "grade": true,
     "grade_id": "cell-313710a19e80c583",
     "locked": false,
     "points": 6,
     "schema_version": 3,
     "solution": true,
     "task": false
    }
   },
   "source": [
    "YOUR ANSWER HERE\n",
    "\n",
    "The probability that Annie picks an orange ball from the first box is $\\frac{1}{2} \\times \\frac{4}{7} = \\frac{2}{7}$. \n",
    "\n",
    "The probability that Annie picks an orange ball from the second box is $\\frac{1}{2} \\times \\frac{6}{13} = \\frac{3}{13}$. \n",
    "\n",
    "Thus, the probability that Ann picked a ball from the second box if she has selected an orange ball is \n",
    "\n",
    "$$\\frac{\\frac{3}{13}}{\\frac{2}{7} + \\frac{3}{13}} = \\frac{21}{47}$$"
   ]
  },
  {
   "cell_type": "markdown",
   "id": "99338a13",
   "metadata": {
    "deletable": false,
    "editable": false,
    "nbgrader": {
     "cell_type": "markdown",
     "checksum": "a1648dc06a6c43988543fb95516b4d45",
     "grade": false,
     "grade_id": "cell-0ef175c63cb1c8ba",
     "locked": true,
     "schema_version": 3,
     "solution": false,
     "task": false
    }
   },
   "source": [
    "## Question 9 [12 marks]\n",
    "\n",
    "Suppose that $12\\%$ of the patients tested in a clinic are infected with avian influenza. Furthermore, suppose that when a blood test for avian influenza is given, $94\\%$ of the patients infected with avian influenza test positive and that $2\\%$ of the patients not infected with avian influenza test positive. What is the probability that:\n",
    "\n",
    "a) a patient testing negative for avian influenza with this test is infected with it?  \n",
    "b) a patient testing negative for avian influenza with this test is not infected with it?  \n",
    "\n",
    "Each question is worth **[6 marks]**."
   ]
  },
  {
   "cell_type": "markdown",
   "id": "edf6ca77",
   "metadata": {
    "deletable": false,
    "nbgrader": {
     "cell_type": "markdown",
     "checksum": "b7cce47fe95d320aead111c2eb86b3c9",
     "grade": true,
     "grade_id": "cell-5027395d808cc116",
     "locked": false,
     "points": 12,
     "schema_version": 3,
     "solution": true,
     "task": false
    }
   },
   "source": [
    "YOUR ANSWER HERE\n",
    "\n",
    "Let $S$ be the event that randomly chosen patient in the clinic is infected with avian influenza. We are given that $p(S) = 0.12$ and so $p(\\overline{S}) = 0.88$. Let $P$ be the event that a randomlt chosen patient tests positive for avian influenza. We are given that $p(P | S) = 0.94$ and $p(P | \\overline{S}) = 0.02$. Thus, $p(\\overline{P} | S) = 0.06$ and $p(\\overline{P} | \\overline{S}) = 0.98$. \n",
    "\n",
    "a) We need to find $p(S | \\overline{P})$. By Bayes's Theorem, we have that \n",
    "\n",
    "$$p(S | \\overline{P}) = \\frac{p(\\overline{P} | S)p(S)}{p(\\overline{P} | S)p(S) + p(\\overline{P} | \\overline{S})p(\\overline{S})} = \\frac{0.06 \\times 0.12}{0.06 \\times 0.12 + 0.98 \\times 0.88} = \\frac{9}{1087}$$\n",
    "\n",
    "b) We need to find $p(\\overline{S} | \\overline{P})$. \n",
    "\n",
    "$$p(\\overline{S} | \\overline{P}) = 1 - p(S | \\overline{P}) = \\frac{1078}{1087}$$"
   ]
  }
 ],
 "metadata": {
  "kernelspec": {
   "display_name": "Python 3 (ipykernel)",
   "language": "python",
   "name": "python3"
  },
  "language_info": {
   "codemirror_mode": {
    "name": "ipython",
    "version": 3
   },
   "file_extension": ".py",
   "mimetype": "text/x-python",
   "name": "python",
   "nbconvert_exporter": "python",
   "pygments_lexer": "ipython3",
   "version": "3.10.0"
  }
 },
 "nbformat": 4,
 "nbformat_minor": 5
}
