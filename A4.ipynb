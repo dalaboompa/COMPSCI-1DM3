{
 "cells": [
  {
   "cell_type": "markdown",
   "id": "c955443d",
   "metadata": {
    "deletable": false,
    "editable": false,
    "nbgrader": {
     "cell_type": "markdown",
     "checksum": "15f2fe12e7210b33388c81064fce8cf7",
     "grade": false,
     "grade_id": "cell-0c6401aa3082cff3",
     "locked": true,
     "schema_version": 3,
     "solution": false,
     "task": false
    }
   },
   "source": [
    "# 2022 WINTER 1DM3: Assignment 4\n",
    "## This assignment cover section 1.8, 2.1 and 2.2. \n",
    "\n",
    "* Instructor: Bin Guo\n",
    "* Marking: Adam Mak, Hamrish Saravanakumar, Simone Ocvirk (maka9,\n",
    "saravah, ocvirks)\n"
   ]
  },
  {
   "cell_type": "markdown",
   "id": "2325427c",
   "metadata": {
    "deletable": false,
    "editable": false,
    "nbgrader": {
     "cell_type": "markdown",
     "checksum": "684a88dcfd87f498c399014444c23e16",
     "grade": false,
     "grade_id": "cell-f1a1511ab4cae142",
     "locked": true,
     "schema_version": 3,
     "solution": false,
     "task": false
    }
   },
   "source": [
    "* You will be working on this assignment within your assigned group. Ensure that all students work on the assignment questions together. __ONLY ONE STUDENT WILL BE SUBMITTING YOUR ASSIGNMENT ON BEHALF OF THE GROUP__. All students will recieve the same mark on the group, unless you feel as though a student/students have not contributed to the assignment. If this is the case please reach out to one of the marking TAs so we can work out a solution. __Write the names of which students contributed to each question at the top of each answer cell__.\n",
    "\n",
    "* The assignment is __due on Sunday February 13th at 11:59pm__. \n",
    "\n",
    "* Your answer should give full detailed explainations. \n",
    "\n",
    "* The practice questions are explained in tutorials and not counted as marks. The full marks is __90__. Question 9 is a __bonus__ question which has __10__ marks as bonus. \n",
    "\n",
    "* The total marks up to the maximum 100 marks.\n",
    "\n",
    "* NOTE: Many of these questions deal with proofs. You will __NOT__ achieve full marks on a question if you simply provide an example."
   ]
  },
  {
   "cell_type": "markdown",
   "id": "350bb06a",
   "metadata": {
    "deletable": false,
    "editable": false,
    "nbgrader": {
     "cell_type": "markdown",
     "checksum": "ec268cd7a1705a28aab9d92d86dd1896",
     "grade": false,
     "grade_id": "cell-2f773d52128ca6d7",
     "locked": true,
     "schema_version": 3,
     "solution": false,
     "task": false
    }
   },
   "source": [
    "$p \\rightarrow q, p \\leftrightarrow q, \\neg q, p \\land q, p \\lor q, p\\oplus q$, $\\bar{B}$, $\\{\\emptyset\\} \\in A$, $B \\notin A$, $A \\subseteq B$, $A \\subset B$, $A \\cup B$, $A \\cap B$, $\\bigcap\\limits_{i=1}^{n} A_i$, $\\bigcup\\limits_{i=1}^{n} A_i$, $\\exists x \\forall y (x = y)$, $\\epsilon$\n",
    "\n",
    "To draw the diagram, you can use the online tool: https://app.diagrams.net/. In a cell, you can insert a image by click \"Edit->Insert Image\"."
   ]
  },
  {
   "cell_type": "markdown",
   "id": "4a8349b3",
   "metadata": {
    "deletable": false,
    "editable": false,
    "nbgrader": {
     "cell_type": "markdown",
     "checksum": "c401fb1e259c708c46de3794f2e7aada",
     "grade": false,
     "grade_id": "cell-9acd9469fdf00f3d",
     "locked": true,
     "schema_version": 3,
     "solution": false,
     "task": false
    }
   },
   "source": [
    "## Practice Question 1 (Section 1.8, Exercise 19), not marked\n",
    "\n",
    "Show that if $n$ is an odd integer, then there is a unique integer $k$ such that $n$ is the sum of $k − 2$ and $k + 3$."
   ]
  },
  {
   "cell_type": "markdown",
   "id": "8d1a2ecd",
   "metadata": {
    "deletable": false,
    "nbgrader": {
     "cell_type": "markdown",
     "checksum": "f583cc963a9c32918e5b311d55b22503",
     "grade": true,
     "grade_id": "cell-cde0dc477fadface",
     "locked": false,
     "points": 0,
     "schema_version": 3,
     "solution": true,
     "task": false
    }
   },
   "source": [
    "YOUR ANSWER HERE"
   ]
  },
  {
   "cell_type": "markdown",
   "id": "4e953045",
   "metadata": {
    "deletable": false,
    "editable": false,
    "nbgrader": {
     "cell_type": "markdown",
     "checksum": "93c1cf5e57f0b6f83750c57d700474ed",
     "grade": false,
     "grade_id": "cell-b84edf6ab676f988",
     "locked": true,
     "schema_version": 3,
     "solution": false,
     "task": false
    }
   },
   "source": [
    "## Practice Question 2 (Section 2.1, Exercise 9), not marked\n",
    "\n",
    "\n",
    "Determine whether each of these statements is true or false.\n",
    "\n",
    "a) $0 \\in \\emptyset $\n",
    "\n",
    "b) $\\emptyset \\in \\{0\\}$\n",
    "\n",
    "c) $\\{0\\} \\in \\emptyset$\n",
    "\n",
    "d) $\\emptyset \\subset \\{0\\}$\n",
    "\n",
    "e) $\\{0\\} \\in \\{0\\}$ \n",
    "\n",
    "f )$\\{0\\} \\subset \\{0\\}$\n",
    "\n",
    "g) $\\{\\emptyset\\} \\subseteq \\{\\emptyset\\}$"
   ]
  },
  {
   "cell_type": "markdown",
   "id": "dd8d9237",
   "metadata": {
    "deletable": false,
    "nbgrader": {
     "cell_type": "markdown",
     "checksum": "9ec4fb35707eaf5e31271e9c7896c473",
     "grade": true,
     "grade_id": "cell-ed9191728d257259",
     "locked": false,
     "points": 0,
     "schema_version": 3,
     "solution": true,
     "task": false
    }
   },
   "source": [
    "YOUR ANSWER HERE"
   ]
  },
  {
   "cell_type": "markdown",
   "id": "9659b2ee",
   "metadata": {
    "deletable": false,
    "editable": false,
    "nbgrader": {
     "cell_type": "markdown",
     "checksum": "c6006cb88573a2db4e9bb7d7f3a9a6f1",
     "grade": false,
     "grade_id": "cell-7b2831eb2d88eaa7",
     "locked": true,
     "schema_version": 3,
     "solution": false,
     "task": false
    }
   },
   "source": [
    "## Practice Question 3 (Section 2.1, Exercise 15 and 17), Not Marked\n",
    "\n",
    "1) Use a Venn diagram to illustrate the relationships $A \\subset B$ and $B \\subset C$.\n",
    "\n",
    "2) Suppose that $A$, $B$, and $C$ are sets such that $A \\subseteq B$ and $B \\subseteq C$. Show that $A \\subseteq C$."
   ]
  },
  {
   "cell_type": "markdown",
   "id": "748a1a28",
   "metadata": {
    "deletable": false,
    "nbgrader": {
     "cell_type": "markdown",
     "checksum": "39c2ee011a870ea2a098660075eef6f6",
     "grade": true,
     "grade_id": "cell-9f30cc977dd0c079",
     "locked": false,
     "points": 0,
     "schema_version": 3,
     "solution": true,
     "task": false
    }
   },
   "source": [
    "YOUR ANSWER HERE"
   ]
  },
  {
   "cell_type": "markdown",
   "id": "e67d2b6f",
   "metadata": {
    "deletable": false,
    "editable": false,
    "nbgrader": {
     "cell_type": "markdown",
     "checksum": "0f164426b72b49e446d759121a19997d",
     "grade": false,
     "grade_id": "cell-5ca629c69cd0cbc5",
     "locked": true,
     "schema_version": 3,
     "solution": false,
     "task": false
    }
   },
   "source": [
    "## Practice Question 4 (Section 2.2, Exercise 3), Not Marked\n",
    "\n",
    "Let $A = \\{1, 2, 3, 4, 5\\}$ and $B = \\{0, 3, 6\\}$. Find\n",
    "\n",
    "\n",
    "a) $A \\cup B$. \n",
    "\n",
    "b) $A \\cap B$.\n",
    "\n",
    "c) $A − B$. \n",
    "\n",
    "d) $B − A$."
   ]
  },
  {
   "cell_type": "markdown",
   "id": "9e283a0c",
   "metadata": {
    "deletable": false,
    "nbgrader": {
     "cell_type": "markdown",
     "checksum": "34e2fd8a14382e2623d5bad91f7b9e0d",
     "grade": true,
     "grade_id": "cell-51140d54213e54d7",
     "locked": false,
     "points": 0,
     "schema_version": 3,
     "solution": true,
     "task": false
    }
   },
   "source": [
    "YOUR ANSWER HERE"
   ]
  },
  {
   "cell_type": "markdown",
   "id": "9c8f5e9f",
   "metadata": {
    "deletable": false,
    "editable": false,
    "nbgrader": {
     "cell_type": "markdown",
     "checksum": "b36ba65d67bf933650040fe1bfda9175",
     "grade": false,
     "grade_id": "cell-0d90259a7a9386a8",
     "locked": true,
     "schema_version": 3,
     "solution": false,
     "task": false
    }
   },
   "source": [
    "## Practice Question 5 (Section 2.2, Exercise 19), Not Marked\n",
    "\n",
    "Show that if A and B are sets, then\n",
    "\n",
    "a) $A − B = A ∩ \\bar{B}$.\n",
    "\n",
    "b) $(A ∩ B) ∪ (A ∩ \\bar{B}) = A$."
   ]
  },
  {
   "cell_type": "markdown",
   "id": "cb7f31ff",
   "metadata": {
    "deletable": false,
    "nbgrader": {
     "cell_type": "markdown",
     "checksum": "b1b54f7412a43d8fc757d575034c283e",
     "grade": true,
     "grade_id": "cell-19ac9df0e71fd51e",
     "locked": false,
     "points": 0,
     "schema_version": 3,
     "solution": true,
     "task": false
    }
   },
   "source": [
    "YOUR ANSWER HERE"
   ]
  },
  {
   "cell_type": "markdown",
   "id": "585e3c6c",
   "metadata": {
    "deletable": false,
    "editable": false,
    "nbgrader": {
     "cell_type": "markdown",
     "checksum": "9d2671b4eb7ec6379f2aed835317c04d",
     "grade": false,
     "grade_id": "cell-62288e8c91604702",
     "locked": true,
     "schema_version": 3,
     "solution": false,
     "task": false
    }
   },
   "source": [
    "## Practice Question 6 (Section 2.2, Exercise 23), Not Marked\n",
    "\n",
    "\n",
    "Prove the first distributive law from Table 1 by showing that if $A$, $B$, and $C$ are sets, then $A \\cup (B \\cap C) = (A \\cup B) \\cap (A \\cup C)$."
   ]
  },
  {
   "cell_type": "markdown",
   "id": "846a7818",
   "metadata": {
    "deletable": false,
    "nbgrader": {
     "cell_type": "markdown",
     "checksum": "ab88c78731d6cfa3c129893d9d3f9773",
     "grade": true,
     "grade_id": "cell-7577d16c60575e3c",
     "locked": false,
     "points": 0,
     "schema_version": 3,
     "solution": true,
     "task": false
    }
   },
   "source": [
    "YOUR ANSWER HERE"
   ]
  },
  {
   "cell_type": "markdown",
   "id": "f5bd3e9d",
   "metadata": {
    "deletable": false,
    "editable": false,
    "nbgrader": {
     "cell_type": "markdown",
     "checksum": "c31f2faf2e4991004b6a29bb240853d9",
     "grade": false,
     "grade_id": "cell-f8fbbcdb32c5c6ac",
     "locked": true,
     "schema_version": 3,
     "solution": false,
     "task": false
    }
   },
   "source": [
    "## Practice Question 7 (Section 2.2, Exercise 47), Not Marked\n",
    "\n",
    "\n",
    "Let $A_i = \\{1, 2, 3,...,i\\}$ for $i = 1, 2, 3,....$ Find\n",
    "\n",
    "a) $\\bigcup\\limits_{i=1}^n A_i$. \n",
    "\n",
    "b) $\\bigcap\\limits_{i=1}^n A_i$. "
   ]
  },
  {
   "cell_type": "markdown",
   "id": "25031d25",
   "metadata": {
    "deletable": false,
    "nbgrader": {
     "cell_type": "markdown",
     "checksum": "5ef0af15c6faf34e1574264b22b070da",
     "grade": true,
     "grade_id": "cell-234506f7b4234baf",
     "locked": false,
     "points": 0,
     "schema_version": 3,
     "solution": true,
     "task": false
    }
   },
   "source": [
    "YOUR ANSWER HERE"
   ]
  },
  {
   "cell_type": "markdown",
   "id": "3c958873",
   "metadata": {
    "deletable": false,
    "editable": false,
    "nbgrader": {
     "cell_type": "markdown",
     "checksum": "db2ecb7508dcea4a72aaecc3eb0e046f",
     "grade": false,
     "grade_id": "cell-1b4dc198d020241d",
     "locked": true,
     "schema_version": 3,
     "solution": false,
     "task": false
    }
   },
   "source": [
    "------------------------------------"
   ]
  },
  {
   "cell_type": "markdown",
   "id": "431fafe5",
   "metadata": {
    "deletable": false,
    "editable": false,
    "nbgrader": {
     "cell_type": "markdown",
     "checksum": "25c83a74580818dfd0255e42af336469",
     "grade": false,
     "grade_id": "cell-02a02fc1b0fbec00",
     "locked": true,
     "schema_version": 3,
     "solution": false,
     "task": false
    }
   },
   "source": [
    "## Question 1 [16 marks]\n",
    "\n",
    "Show that each of these statements can be used to express the fact that there is a unique element $a$ such that $P(a)$ is true. [Note that we can also write this statement as $\\exists !a P(a)$.]\n",
    "\n",
    "a) $\\exists a \\forall b (P(b) \\leftrightarrow a = b)$  \n",
    "b) $\\exists a P(a) \\land \\forall a \\forall b (P(a) \\land P(b) \\rightarrow a = b)$  \n",
    "c) $\\exists a (P(a) \\land \\forall b (P(b) \\rightarrow a = b))$"
   ]
  },
  {
   "cell_type": "markdown",
   "id": "2231ea05",
   "metadata": {
    "deletable": false,
    "nbgrader": {
     "cell_type": "markdown",
     "checksum": "0768cdc51901846349d59d14f6ca6f86",
     "grade": true,
     "grade_id": "cell-920f3943793e06e6",
     "locked": false,
     "points": 16,
     "schema_version": 3,
     "solution": true,
     "task": false
    }
   },
   "source": [
    "#### Solution\n",
    "\n",
    "a) Let $a = b$, then $P(b)$ is true. If $b$ is no the same with $a$, then $P(b)$ is false. Thus, $a$ is the unique element that makes $P$ true. \n",
    "\n",
    "b) The first part implies that there exists an element $a$ that makes $P$ true. The second part implies that there exists two elements that make $P$ true. So $P$ is satisfied by exactly one element. \n",
    "\n",
    "c) There exists an element $a$ that makes $P$ true and the element we find that makes $P$ true must be $a$. So equivalently speaking, $a$ is unique.  "
   ]
  },
  {
   "cell_type": "markdown",
   "id": "04283708",
   "metadata": {
    "deletable": false,
    "editable": false,
    "nbgrader": {
     "cell_type": "markdown",
     "checksum": "ff2b1ff2af1e540d2755c99cba2e9286",
     "grade": false,
     "grade_id": "cell-189cda928c6761ac",
     "locked": true,
     "schema_version": 3,
     "solution": false,
     "task": false
    }
   },
   "source": [
    "## Question 2 [16 marks]\n",
    "\n",
    "Given $x$ where $x$ is a real number, prove that there exist unique numbers $\\epsilon$ and n where $x = n + \\epsilon$, $0 \\leq \\epsilon < 1$, and $n$ is an integer."
   ]
  },
  {
   "cell_type": "markdown",
   "id": "dfcd1eda",
   "metadata": {
    "deletable": false,
    "nbgrader": {
     "cell_type": "markdown",
     "checksum": "938aec5072de76f65ec19a991af92219",
     "grade": true,
     "grade_id": "cell-e177efdf111ebe5e",
     "locked": false,
     "points": 16,
     "schema_version": 3,
     "solution": true,
     "task": false
    }
   },
   "source": [
    "#### *proof*\n",
    "\n",
    "Fix $x \\in \\mathbb{R}$ arbitrary. \n",
    "\n",
    "(**Existence**): \\\n",
    "Case I: $x \\in \\mathbb{Z}$.\n",
    "Then $x = n + \\epsilon$, where $n = x, \\epsilon = 0 \\in [0, 1)$, and we're done. \\\n",
    "Case II: $x \\notin \\mathbb{Z}$ and $x > 0$. Let $S = \\{m \\in \\mathbb{Z+} | x < m\\} \\neq \\emptyset$. We know that $S$ has a least element by Well-Ordering Principle. Let $m_x$ be the least element of $S$, then we have that $x < m_x$. Notice that $m_x - 1 < x$, which implies that $0 < m_x - x < 1$, by the definition of $m_x$. Taking $n = m_x - 1$ and $\\epsilon = x - m_x + 1$, we have found $x = n + \\epsilon$ as desired. \\\n",
    "Case III: $x \\notin \\mathbb{Z}$ and $x < 0$. Note that $-x > 0$, so by Case II we may fix $m \\in \\mathbb{Z}$ such that $m - 1 < -x < m$. We take $n = m - 1$ and $\\epsilon = -x - m + 1$. We have found $n$ and $\\epsilon$ such that $x = n + \\epsilon$.\n",
    "\n",
    "(**Uniqueness**): \\\n",
    "Since we only take the least element, $m_x$ in Case II and $m$ in Case III, of $S$ as the upper bound of $x$, it is clear that the number $n$ is unique. Thus, the difference between $x$ and $n$, $\\epsilon$ is also unique. \n",
    "\n",
    "Q.E.D."
   ]
  },
  {
   "cell_type": "markdown",
   "id": "60642cdf",
   "metadata": {
    "deletable": false,
    "editable": false,
    "nbgrader": {
     "cell_type": "markdown",
     "checksum": "a9af09b7c927c566927acce38010b088",
     "grade": false,
     "grade_id": "cell-b1fbdab4362d171a",
     "locked": true,
     "schema_version": 3,
     "solution": false,
     "task": false
    }
   },
   "source": [
    "## Question 3 [18 marks]\n",
    "\n",
    "Using forward reasoning show that if $a$ is a real number not equal to $0$, then $a^2 + 1/a^2 \\geq 2$. [Hint: Start with the inequality $(a - 1/a)^2 \\geq 0$ which holds for all nonzero real numbers $a$.]"
   ]
  },
  {
   "cell_type": "markdown",
   "id": "e285ef05",
   "metadata": {
    "deletable": false,
    "nbgrader": {
     "cell_type": "markdown",
     "checksum": "4c9b831bdac4397798cc0d674a838e30",
     "grade": true,
     "grade_id": "cell-18b8f5f453e6d468",
     "locked": false,
     "points": 18,
     "schema_version": 3,
     "solution": true,
     "task": false
    }
   },
   "source": [
    "#### *proof*\n",
    "\n",
    "Fix $a \\in \\mathbb{R}$ with $a \\neq 0$ arbitrary. We want to show that $a^2 + 1/a^2 \\geq 2$. \n",
    "Since the inequality $(a - 1/a)^2 \\geq 0$ holds for all nonzero real numbers $a$, we have that\n",
    "\n",
    "\\begin{align}\n",
    "(a - 1/a)^2 & \\geq 0 \\\\\n",
    "a^2 - 2 + 1/a^2 & \\geq 0 \\\\\n",
    "a^2 + 1/a^2 & \\geq 2\n",
    "\\end{align}\n",
    "\n",
    "as desired. "
   ]
  },
  {
   "cell_type": "markdown",
   "id": "0b01808f",
   "metadata": {
    "deletable": false,
    "editable": false,
    "nbgrader": {
     "cell_type": "markdown",
     "checksum": "1ad047579ddf5a281aab374e382c5ce5",
     "grade": false,
     "grade_id": "cell-0d3326dc12721a56",
     "locked": true,
     "schema_version": 3,
     "solution": false,
     "task": false
    }
   },
   "source": [
    "## Question 4 [7 marks]\n",
    "\n",
    "Suppose that $A = \\{4, 6\\}$, $B = \\{2, 4, 6\\}$, $C = \\{4, 6, 8\\}$, and $D = \\{2, 6\\}$. Determine which of these sets are subsets of which other of these sets."
   ]
  },
  {
   "cell_type": "markdown",
   "id": "1486981b",
   "metadata": {
    "deletable": false,
    "nbgrader": {
     "cell_type": "markdown",
     "checksum": "cb098d908f63bb4871cb86bfb66cce1c",
     "grade": true,
     "grade_id": "cell-aec3cc81cae5f8ce",
     "locked": false,
     "points": 7,
     "schema_version": 3,
     "solution": true,
     "task": false
    }
   },
   "source": [
    "#### Solution\n",
    "\n",
    "$A \\subset B$ \n",
    "\n",
    "$A \\subset C$ \n",
    "\n",
    "$D \\subset B$"
   ]
  },
  {
   "cell_type": "markdown",
   "id": "eba7f3b7",
   "metadata": {
    "deletable": false,
    "editable": false,
    "nbgrader": {
     "cell_type": "markdown",
     "checksum": "6e9e2afb0e884050e0649653ee7caa11",
     "grade": false,
     "grade_id": "cell-449e78c495098cc2",
     "locked": true,
     "schema_version": 3,
     "solution": false,
     "task": false
    }
   },
   "source": [
    "## Question 5 [7 marks]\n",
    "\n",
    "Use a Venn diagram to illustrate the subset of even integers in the set of all positive integers less than $10$.\n",
    "\n",
    "Manipulate the following code to create your Venn diagram, and then explain your reasoning in the text cell below. Or, you can use the online tool https://app.diagrams.net/ to draw the diagram, and then insert a image by click \"Edit->Insert Image\". Both methods are accetable."
   ]
  },
  {
   "cell_type": "code",
   "execution_count": 15,
   "id": "ab34482b",
   "metadata": {},
   "outputs": [
    {
     "data": {
      "text/html": [
       "<svg height=\"200\" width=\"500\">             <circle cx=\"100\" cy=\"100\" r=\"90\" stroke=\"black\" stroke-width=\"3\" fill=\"white\" />             <circle cx=\"100\" cy=\"100\" r=\"45\" stroke=\"black\" stroke-width=\"3\" fill=\"white\" />             <text x=\"100\" y=\"35\" text-anchor=\"middle\" stroke=\"black\" stroke-width=\"0.1px\" alignment-baseline=\"middle\">1 3 5 7 9</text>             <text x=\"100\" y=\"100\" text-anchor=\"middle\" stroke=\"black\" stroke-width=\"0.1px\" alignment-baseline=\"middle\">2 4 6 8</text>         </svg>"
      ],
      "text/plain": [
       "<IPython.core.display.HTML object>"
      ]
     },
     "metadata": {},
     "output_type": "display_data"
    }
   ],
   "source": [
    "from IPython.display import HTML, display\n",
    "html = '<svg height=\"200\" width=\"500\"> \\\n",
    "            <circle cx=\"100\" cy=\"100\" r=\"90\" stroke=\"black\" stroke-width=\"3\" fill=\"white\" /> \\\n",
    "            <circle cx=\"100\" cy=\"100\" r=\"45\" stroke=\"black\" stroke-width=\"3\" fill=\"white\" /> \\\n",
    "            <text x=\"100\" y=\"35\" text-anchor=\"middle\" stroke=\"black\" stroke-width=\"0.1px\" alignment-baseline=\"middle\">1 3 5 7 9</text> \\\n",
    "            <text x=\"100\" y=\"100\" text-anchor=\"middle\" stroke=\"black\" stroke-width=\"0.1px\" alignment-baseline=\"middle\">2 4 6 8</text> \\\n",
    "        </svg>'\n",
    "display(HTML(html))"
   ]
  },
  {
   "cell_type": "markdown",
   "id": "4e612abc",
   "metadata": {
    "deletable": false,
    "nbgrader": {
     "cell_type": "markdown",
     "checksum": "19e0d16d0c03fdb7abd439b2e89b411a",
     "grade": true,
     "grade_id": "cell-be6f73ab655aafd6",
     "locked": false,
     "points": 7,
     "schema_version": 3,
     "solution": true,
     "task": false
    }
   },
   "source": [
    "$A = \\{1, 2, 3, 4, 5, 6, 7, 8, 9\\}$ \\\n",
    "$B = \\{2, 4, 6, 8\\}$ \\\n",
    "$B \\subset A$"
   ]
  },
  {
   "cell_type": "markdown",
   "id": "203855b5",
   "metadata": {
    "deletable": false,
    "editable": false,
    "nbgrader": {
     "cell_type": "markdown",
     "checksum": "c23bf6f9ae219496ec09ae0f17346a05",
     "grade": false,
     "grade_id": "cell-5474abf50f73fb45",
     "locked": true,
     "schema_version": 3,
     "solution": false,
     "task": false
    }
   },
   "source": [
    "## Question 6 [6 marks]\n",
    "\n",
    "Find the sets $A$ and $B$ if $A - B = \\{2, 10\\}$, $B - A = \\{1, 5, 7, 8\\}$, and $A \\cap B = \\{3, 6, 9\\}$."
   ]
  },
  {
   "cell_type": "markdown",
   "id": "57ca9ea1",
   "metadata": {
    "deletable": false,
    "nbgrader": {
     "cell_type": "markdown",
     "checksum": "1f532133eca0f021e696d34a64c878ef",
     "grade": true,
     "grade_id": "cell-b408b4a32be0c5e5",
     "locked": false,
     "points": 6,
     "schema_version": 3,
     "solution": true,
     "task": false
    }
   },
   "source": [
    "#### Solution\n",
    "\n",
    "$A = \\{2, 3, 6, 9, 10\\}$ \\\n",
    "$B = \\{1, 3, 5, 6, 7, 8, 9\\}$"
   ]
  },
  {
   "cell_type": "markdown",
   "id": "638cc65a",
   "metadata": {
    "deletable": false,
    "editable": false,
    "nbgrader": {
     "cell_type": "markdown",
     "checksum": "550fb0be2fef447b70ef89cb078831aa",
     "grade": false,
     "grade_id": "cell-eb444c199b5ff1c7",
     "locked": true,
     "schema_version": 3,
     "solution": false,
     "task": false
    },
    "tags": []
   },
   "source": [
    "## Question 7 [10 marks]\n",
    "\n",
    "Show that if $C$ and $D$ are sets with $C \\subseteq D$, then\n",
    "\n",
    "a) $C \\cup D = D$  \n",
    "b) $C \\cap D = C$"
   ]
  },
  {
   "cell_type": "markdown",
   "id": "60cd8f43",
   "metadata": {
    "deletable": false,
    "nbgrader": {
     "cell_type": "markdown",
     "checksum": "78fd438d3607cf7a1ed00f7610bd0e4e",
     "grade": true,
     "grade_id": "cell-b8d37c64174aac6a",
     "locked": false,
     "points": 10,
     "schema_version": 3,
     "solution": true,
     "task": false
    }
   },
   "source": [
    "#### a) *proof*\n",
    "\n",
    "We give a proof by double inclusion; i.e., show that $(\\forall x)(x \\in C \\cup D \\Rightarrow x \\in D)$ and $(\\forall y)(y \\in D \\Rightarrow y \\in C \\cup D)$. \\\n",
    "Fix $x \\in C \\cup D$ arbitrary. By the def. of set union, we have that $x \\in C$ or $x \\in D$. If $x \\in D$, we are done. Consider the case that $x \\in C$, since we know that $C \\subseteq D$, we then have that $x \\in D$. \\\n",
    "Fix $y \\in D$ arbitrary. We want to show that $y \\in C \\cup D$. For the sake of a contradtion, assume that $y \\notin C \\cup D$. Then, we have that $y \\notin C$ and $y \\notin D$. A contradiction, since we assumed that $y \\in D$. Thus, we have shown that $(\\forall y)(y \\in D \\Rightarrow y \\in C \\cup D)$. \\\n",
    "Hence, we have proven that $C \\cup D = D$. \n",
    "\n",
    "#### b) *proof*\n",
    "\n",
    "We give a proof by double inclusion; i.e., show that $(\\forall y)(y \\in C \\cap D \\Rightarrow y \\in D)$ and $(\\forall x)(x \\in D \\Rightarrow x \\in C \\cap D)$. \n",
    "\n",
    "Fix $x \\in C$ arbitrary. Since $C \\subseteq D$, we have that $x \\in D$. Thus, $x \\in (C \\cap D)$ by the definition of set intersection since $x \\in C$ and $x \\in D$. \n",
    "\n",
    "Fix $y \\in (C \\cap D)$. By the definition of set intersection, we have that $y \\in C$ and $y \\in D$. Thus, we have shown that $y \\in C$.\n",
    "\n",
    "Hence, we have shown that $C \\cap D = C$. "
   ]
  },
  {
   "cell_type": "markdown",
   "id": "ac342d04",
   "metadata": {
    "deletable": false,
    "editable": false,
    "nbgrader": {
     "cell_type": "markdown",
     "checksum": "1d095c0e86c18e1b1e18a83e6c65db8d",
     "grade": false,
     "grade_id": "cell-7aae476fb8d3be82",
     "locked": true,
     "schema_version": 3,
     "solution": false,
     "task": false
    }
   },
   "source": [
    "## Question 8 [10 marks]\n",
    "\n",
    "Explain how if you have sets $A$, $B$ and $C$, $(A - B) - C = (A - C) - (B - C)$."
   ]
  },
  {
   "cell_type": "markdown",
   "id": "aa15dee9",
   "metadata": {
    "deletable": false,
    "nbgrader": {
     "cell_type": "markdown",
     "checksum": "563d6d5dab3de9dec70efeeb484c6871",
     "grade": true,
     "grade_id": "cell-ab18fd085c0234ee",
     "locked": false,
     "points": 10,
     "schema_version": 3,
     "solution": true,
     "task": false
    }
   },
   "source": [
    "#### Solution\n",
    "\n",
    "\\begin{align}\n",
    "(A - C) - (B - C) & = (A \\cap \\bar{C}) - (B \\cap \\bar{C}) &\\quad \\text{[Set Difference Law]}\\\\\n",
    "                  & = (A \\cap \\bar{C}) \\cap (\\overline{B \\cap \\bar{C}}) &\\quad \\text{[Set Difference Law]}\\\\\n",
    "                  & = (A \\cap \\bar{C}) \\cap (\\bar{B} \\cup \\overline{\\bar{C}}) &\\quad \\text{[De Morgan's Law]}\\\\\n",
    "                  & = (A \\cap \\bar{C}) \\cap (\\bar{B} \\cup C) &\\quad \\text{[Complementation Law]}\\\\\n",
    "                  & = (A \\cap \\bar{C} \\cap \\bar{B}) \\cup (A \\cap \\bar{C} \\cap C) &\\quad \\text{[Distributive Law]}\\\\\n",
    "                  & = (A \\cap \\bar{C} \\cap \\bar{B}) \\cup \\emptyset &\\quad \\text{[Complement Law, Domination Law]}\\\\\n",
    "                  & = A \\cap \\bar{C} \\cap \\bar{B} &\\quad \\text{[Identity Law]}\\\\\n",
    "                  & = A \\cap \\bar{B} \\cap \\bar{C} &\\quad \\text{[Commutative Law]}\\\\\n",
    "                  & = (A \\cap \\bar{B}) \\cap \\bar{C} &\\quad \\text{[Associative Law]}\\\\\n",
    "                  & = (A - B) - C &\\quad \\text{[Set Difference Law]}\\\\\n",
    "\\end{align}\n",
    "\n",
    "Since LHS = RHS, we have shown that $(A - B) - C = (A - C) - (B - C)$.\n"
   ]
  },
  {
   "cell_type": "markdown",
   "id": "5de25a28",
   "metadata": {
    "deletable": false,
    "editable": false,
    "nbgrader": {
     "cell_type": "markdown",
     "checksum": "a1cc2d66d63ad7a45d7f463c43064b7c",
     "grade": false,
     "grade_id": "cell-12d1f28102b5e060",
     "locked": true,
     "schema_version": 3,
     "solution": false,
     "task": false
    }
   },
   "source": [
    "## Bonus Question 9 [10 marks]\n",
    "\n",
    "Let $A_i = \\{0, 1, 2, 3, ..., i\\}$. Find\n",
    "\n",
    "a) $\\bigcap\\limits_{i=3}^{n} A_i$  \n",
    "b) $\\bigcup\\limits_{i=3}^{n} A_i$ "
   ]
  },
  {
   "cell_type": "markdown",
   "id": "ba3d3b52",
   "metadata": {
    "deletable": false,
    "nbgrader": {
     "cell_type": "markdown",
     "checksum": "6a5b008d215526bcfd296e1919577839",
     "grade": true,
     "grade_id": "cell-f8119d511574bdac",
     "locked": false,
     "points": 10,
     "schema_version": 3,
     "solution": true,
     "task": false
    }
   },
   "source": [
    "#### Solutions\n",
    "\n",
    "a) We take the set with the least number of elements. \\\n",
    "$\\bigcap\\limits_{i=3}^{n} A_i = \\{0, 1, 2, 3\\} \\cap \\{0, 1, 2, 3, 4\\} \\cap \\{0, 1, 2, 3, 4, 5\\} \\cap \\dots \\cap \\{0, 1, 2, 3, \\dots, n\\}= A_3 = \\{0, 1, 2, 3\\}$\n",
    "\n",
    "b) We take the set with the largest number of elements. \\\n",
    "$\\bigcup\\limits_{i=3}^{n} A_i = \\{0, 1, 2, 3\\} \\cup \\{0, 1, 2, 3, 4\\} \\cup \\{0, 1, 2, 3, 4, 5\\} \\cup \\dots \\cup \\{0, 1, 2, 3, \\dots, n\\} = A_n = \\{0, 1, 2, 3, \\dots, n\\}$ "
   ]
  },
  {
   "cell_type": "code",
   "execution_count": null,
   "id": "8fc09fb0-2f11-42ce-9fe8-c4358e8d61ca",
   "metadata": {},
   "outputs": [],
   "source": []
  }
 ],
 "metadata": {
  "kernelspec": {
   "display_name": "Python 3 (ipykernel)",
   "language": "python",
   "name": "python3"
  },
  "language_info": {
   "codemirror_mode": {
    "name": "ipython",
    "version": 3
   },
   "file_extension": ".py",
   "mimetype": "text/x-python",
   "name": "python",
   "nbconvert_exporter": "python",
   "pygments_lexer": "ipython3",
   "version": "3.10.0"
  }
 },
 "nbformat": 4,
 "nbformat_minor": 5
}
