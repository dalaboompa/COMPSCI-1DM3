{
 "cells": [
  {
   "cell_type": "markdown",
   "id": "8b1d8031",
   "metadata": {
    "deletable": false,
    "editable": false,
    "nbgrader": {
     "cell_type": "markdown",
     "checksum": "572d938a2911515fc1b67839abe206bc",
     "grade": false,
     "grade_id": "cell-dfdba2572f64ca1e",
     "locked": true,
     "schema_version": 3,
     "solution": false,
     "task": false
    }
   },
   "source": [
    "# 2022 WINTER 1DM3: Assignment 6\n",
    "## This assignment cover sections 2.5, 4.1 and 5.1. \n",
    "\n",
    "* Instructor: Bin Guo\n",
    "* Marking: Adam Mak, Hamrish Saravanakumar, Simone Ocvirk (maka9, saravah, ocvirks)"
   ]
  },
  {
   "cell_type": "markdown",
   "id": "a7d9a9ce",
   "metadata": {
    "deletable": false,
    "editable": false,
    "nbgrader": {
     "cell_type": "markdown",
     "checksum": "c0c3a285064ecbbf7e6b6ee16edeaf6a",
     "grade": false,
     "grade_id": "cell-4de6464bc9055b24",
     "locked": true,
     "schema_version": 3,
     "solution": false,
     "task": false
    }
   },
   "source": [
    "* You will be working on this assignment within your assigned group. Ensure that all students work on the assignment questions together. __ONLY ONE STUDENT WILL BE SUBMITTING YOUR ASSIGNMENT ON BEHALF OF THE GROUP__. All students will recieve the same mark on the group, unless you feel as though a student/students have not contributed to the assignment. If this is the case please reach out to one of the marking TAs so we can work out a solution. __Write the names of which students contributed to each question at the top of each answer cell__.\n",
    "\n",
    "* The assignment is __due on Sunday March 6th at 11:59pm__. \n",
    "\n",
    "* __Your answer should give full detailed explainations__.\n",
    "\n",
    "* The practice questions are explained in tutorials and not counted as marks. The full marks is __90__. Question 8 is a __bonus__ question which has __10__ marks as bonus. \n",
    "\n",
    "* The total marks up to the maximum 100 marks.\n",
    "\n",
    "* NOTE: Many of these questions deal with proofs. You will __NOT__ achieve full marks on a question if you simply provide an example."
   ]
  },
  {
   "cell_type": "markdown",
   "id": "8c029647",
   "metadata": {
    "deletable": false,
    "editable": false,
    "nbgrader": {
     "cell_type": "markdown",
     "checksum": "8a44cea46b8cb215a396b569c24191d6",
     "grade": false,
     "grade_id": "cell-f3c25ec6aa1f2239",
     "locked": true,
     "schema_version": 3,
     "solution": false,
     "task": false
    }
   },
   "source": [
    "$p \\rightarrow q, p \\leftrightarrow q, \\neg q, p \\land q, p \\lor q, p\\oplus q$, $\\bar{B}$, $\\{\\emptyset\\} \\in A$, $B \\notin A$, $A \\subseteq B$, $A \\subset B$, $A \\cup B$, $A \\cap B$, $\\bigcap\\limits_{i=1}^{n} A_i$, $\\bigcup\\limits_{i=1}^{n} A_i$, $\\exists x \\forall y (x = y)$, $\\epsilon$,\n",
    "$\\mathbb{Z}$ $\\mathbb{N}$"
   ]
  },
  {
   "cell_type": "markdown",
   "id": "9622998b",
   "metadata": {
    "deletable": false,
    "editable": false,
    "nbgrader": {
     "cell_type": "markdown",
     "checksum": "e03f6882a4170e6176816cbece866a62",
     "grade": false,
     "grade_id": "cell-208fd7724edad6ae",
     "locked": true,
     "schema_version": 3,
     "solution": false,
     "task": false
    }
   },
   "source": [
    "## Practice Question 1 (Section 2.5, Exercise 1), not marked\n",
    "\n",
    "Determine whether each of these sets is finite, countably infinite, or uncountable. For those that are countably infinite, exhibit a one-to-one correspondence between the set of positive integers and that set.\\\\\n",
    "\n",
    "1. the negative integers\n",
    "\n",
    "1. the even integers\n",
    "\n",
    "1. the integers less than 100\n",
    "\n",
    "1. the real numbers between 0 and $\\frac{1}{2}$\n",
    "\n",
    "1. the positive integers less than 1,000,000,000\n",
    "\n",
    "1. the integers that are multiples of 7\n",
    "\n"
   ]
  },
  {
   "cell_type": "markdown",
   "id": "5e8b0c2f",
   "metadata": {
    "deletable": false,
    "nbgrader": {
     "cell_type": "markdown",
     "checksum": "7aa09be0191912a36a4512d3c711a094",
     "grade": true,
     "grade_id": "cell-afc93b3fc1226acf",
     "locked": false,
     "points": 0,
     "schema_version": 3,
     "solution": true,
     "task": false
    }
   },
   "source": [
    "YOUR ANSWER HERE"
   ]
  },
  {
   "cell_type": "markdown",
   "id": "b5f2dabe",
   "metadata": {
    "deletable": false,
    "editable": false,
    "nbgrader": {
     "cell_type": "markdown",
     "checksum": "a2881c80875dcde4fdd4e02f119d1112",
     "grade": false,
     "grade_id": "cell-58659630d9a6287a",
     "locked": true,
     "schema_version": 3,
     "solution": false,
     "task": false
    }
   },
   "source": [
    "## Practice Question 2 (Section 2.5, Exercise 11), not marked\n",
    "\n",
    "Give an example of two uncountable sets $A$ and $B$ such that $A \\cap B$ is\n",
    "\n",
    "\n",
    "1. finite.\n",
    "\n",
    "1. countably infinite.\n",
    "\n",
    "1. uncountable.\n"
   ]
  },
  {
   "cell_type": "markdown",
   "id": "d1775b1f",
   "metadata": {
    "deletable": false,
    "nbgrader": {
     "cell_type": "markdown",
     "checksum": "7523af28717a946e7c09c591063c509e",
     "grade": true,
     "grade_id": "cell-99a97a0ed642ed61",
     "locked": false,
     "points": 0,
     "schema_version": 3,
     "solution": true,
     "task": false
    }
   },
   "source": [
    "YOUR ANSWER HERE"
   ]
  },
  {
   "cell_type": "markdown",
   "id": "1d9ed1d2",
   "metadata": {
    "deletable": false,
    "editable": false,
    "nbgrader": {
     "cell_type": "markdown",
     "checksum": "a09fc18541922e09021b6d86fefef183",
     "grade": false,
     "grade_id": "cell-2b0176fdeaa00428",
     "locked": true,
     "schema_version": 3,
     "solution": false,
     "task": false
    }
   },
   "source": [
    "## Practice Question 3 (Section 4.1, Exercise 35), Not Marked\n",
    "\n",
    "Decide whether each of these integers is congruent to 5 modulo 17.\n",
    "\n",
    "\n",
    "1. 80\n",
    "\n",
    "1. 103\n",
    "\n",
    "1. -29\n",
    "\n",
    "1. -122\n"
   ]
  },
  {
   "cell_type": "markdown",
   "id": "15f03d52",
   "metadata": {
    "deletable": false,
    "nbgrader": {
     "cell_type": "markdown",
     "checksum": "8a6dfb3d7c17d2c82bb1a460079109a5",
     "grade": true,
     "grade_id": "cell-2c1a02fbdc627ccc",
     "locked": false,
     "points": 0,
     "schema_version": 3,
     "solution": true,
     "task": false
    }
   },
   "source": [
    "YOUR ANSWER HERE"
   ]
  },
  {
   "cell_type": "markdown",
   "id": "e8f79557",
   "metadata": {
    "deletable": false,
    "editable": false,
    "nbgrader": {
     "cell_type": "markdown",
     "checksum": "eead64c2b52efb4efb86985a388c79de",
     "grade": false,
     "grade_id": "cell-cad216514c4d9e12",
     "locked": true,
     "schema_version": 3,
     "solution": false,
     "task": false
    }
   },
   "source": [
    "## Practice Question 4 (Section 2.5, Exercise 27), Not Marked\n",
    "\n",
    "Show that the union of a countable number of countable sets is countable."
   ]
  },
  {
   "cell_type": "markdown",
   "id": "a4cc1138",
   "metadata": {
    "deletable": false,
    "nbgrader": {
     "cell_type": "markdown",
     "checksum": "3965ba001193e29d2990de83d959e549",
     "grade": true,
     "grade_id": "cell-7fb4a1802802dfac",
     "locked": false,
     "points": 0,
     "schema_version": 3,
     "solution": true,
     "task": false
    }
   },
   "source": [
    "YOUR ANSWER HERE"
   ]
  },
  {
   "cell_type": "markdown",
   "id": "12fb147c",
   "metadata": {
    "deletable": false,
    "editable": false,
    "nbgrader": {
     "cell_type": "markdown",
     "checksum": "a5372a9b10cfc417bcd1e70320c07b6d",
     "grade": false,
     "grade_id": "cell-7137c0bc92a81ee1",
     "locked": true,
     "schema_version": 3,
     "solution": false,
     "task": false
    }
   },
   "source": [
    "## Practice Question 5 (Section 4.1, Exercise 47), Not Marked\n",
    "\n",
    "Determine whether each of the functions $f (a) = a div d$\n",
    "and $g(a) = a mod d$, where $d$ is a fixed positive integer,\n",
    "from the set of integers to the set of integers, is one-to-one,\n",
    "and determine whether each of these functions is onto."
   ]
  },
  {
   "cell_type": "markdown",
   "id": "527fbac0",
   "metadata": {
    "deletable": false,
    "nbgrader": {
     "cell_type": "markdown",
     "checksum": "c7bb8d505aeae54df7792ad1ce91bbcf",
     "grade": true,
     "grade_id": "cell-be90ee50d6d4c038",
     "locked": false,
     "points": 0,
     "schema_version": 3,
     "solution": true,
     "task": false
    }
   },
   "source": [
    "YOUR ANSWER HERE"
   ]
  },
  {
   "cell_type": "markdown",
   "id": "ac06bc2c",
   "metadata": {
    "deletable": false,
    "editable": false,
    "nbgrader": {
     "cell_type": "markdown",
     "checksum": "0809a1963e32803e22bd63a98a3b9eff",
     "grade": false,
     "grade_id": "cell-363da88979c52ef4",
     "locked": true,
     "schema_version": 3,
     "solution": false,
     "task": false
    }
   },
   "source": [
    "## Practice Question 6 (Section 5.1, Exercise 45), Not Marked\n",
    "\n",
    "Prove that a set with n elements has $n(n − 1)/2$ subsets\n",
    "containing exactly two elements whenever $n$ is an integer\n",
    "greater than or equal to 2."
   ]
  },
  {
   "cell_type": "markdown",
   "id": "f7bf2db3",
   "metadata": {
    "deletable": false,
    "nbgrader": {
     "cell_type": "markdown",
     "checksum": "16265021e237d3551d1f4c408ce38e3a",
     "grade": true,
     "grade_id": "cell-8371417d07652705",
     "locked": false,
     "points": 0,
     "schema_version": 3,
     "solution": true,
     "task": false
    }
   },
   "source": [
    "YOUR ANSWER HERE"
   ]
  },
  {
   "cell_type": "markdown",
   "id": "f49c4d35",
   "metadata": {
    "deletable": false,
    "editable": false,
    "nbgrader": {
     "cell_type": "markdown",
     "checksum": "fd73a920eaf396758b3d49d263d3ea42",
     "grade": false,
     "grade_id": "cell-bd2b6d83da817ff2",
     "locked": true,
     "schema_version": 3,
     "solution": false,
     "task": false
    }
   },
   "source": [
    "----------------------------"
   ]
  },
  {
   "cell_type": "markdown",
   "id": "96d941fa",
   "metadata": {
    "deletable": false,
    "editable": false,
    "nbgrader": {
     "cell_type": "markdown",
     "checksum": "cd3291d146f1eed15b72bc74bc32317e",
     "grade": false,
     "grade_id": "cell-3b6f6552e97a9348",
     "locked": true,
     "schema_version": 3,
     "solution": false,
     "task": false
    }
   },
   "source": [
    "## Question 1 [24 marks]\n",
    "\n",
    "View the sets below. For each one, determine whether they are *finite*, *countably infinite*, or *uncountable*. If the are countably infinite, exhibit a one-to-one correspondence between the set of positive integers and that set. Show your work and provide necessary explanations. \n",
    "\n",
    "a) the odd negative integers \\\n",
    "b) the integers greater than 10 \\\n",
    "c) the real numbers between 0 and 2 \\\n",
    "d) the integers with absolute value less than 1,000,000 \\\n",
    "e) the integers that are multiples of 10 \\\n",
    "f) the set A × $\\mathbb{Z}$+ where A = {2, 3}\n"
   ]
  },
  {
   "cell_type": "markdown",
   "id": "e1618253",
   "metadata": {
    "deletable": false,
    "nbgrader": {
     "cell_type": "markdown",
     "checksum": "539a84268bc7d2ece17e852fa1816452",
     "grade": true,
     "grade_id": "cell-1c7a09c95217c2af",
     "locked": false,
     "points": 24,
     "schema_version": 3,
     "solution": true,
     "task": false
    }
   },
   "source": [
    "YOUR ANSWER HERE\n",
    "\n",
    "a) countably infinite, because we can list negative integer numbers in an orderly fashion.\n",
    "\n",
    "Let the given set be S. Considering the correspondence: $f: \\mathbb{N} \\rightarrow S, f(n) = -(2n-1)$ which maps every natural number to an odd nagative number.\n",
    "\n",
    "---\n",
    "b) countably infinite, because we can list the integers greater than 10 in an orderly manner.\n",
    "\n",
    "Let the given set be S. Considering the correspondence: $f: \\mathbb{N} \\rightarrow S, f(n) = n + 10 $ which is injective.\n",
    "\n",
    "---\n",
    "\n",
    "c) uncountable, because you cannot find a real number between 0 and 2 that is a little larger than the minimum value.\n",
    "\n",
    "$\\text{Such as}: 0.000001 > 0.000000000001$\n",
    "\n",
    "---\n",
    "\n",
    "d) finite, there are a finite number of numbers with absolute values less than 1,000,000, and they are all sortable.\n",
    "\n",
    "---\n",
    "\n",
    "e) countably infinite, because we can sort multiples of 10\n",
    "\n",
    "Let the given set be S. Considering the correspondence: $f: \\mathbb{N} \\rightarrow S, f(0) = 0, f(2k) = 10k, f(2k-1)=-10k$ which is injective. \n",
    "\n",
    "---\n",
    "\n",
    "f) countably infinite, because we can sort this collection.\n",
    "\n",
    "Let the given set be S. Considering the correspondence: $f: \\mathbb{N} \\rightarrow S, f(0) = (2, 0), f(m) = (2, k), f(n) = (3, n)$, where $m \\in \\mathbb{Z^-}, n \\in \\mathbb{Z^+}$, which is injective. \n"
   ]
  },
  {
   "cell_type": "markdown",
   "id": "a75386b6",
   "metadata": {
    "deletable": false,
    "editable": false,
    "nbgrader": {
     "cell_type": "markdown",
     "checksum": "a8fc77a0cb5a7c3c27c65bc91a70990a",
     "grade": false,
     "grade_id": "cell-c3f5df6e54a8fdfd",
     "locked": true,
     "schema_version": 3,
     "solution": false,
     "task": false
    }
   },
   "source": [
    "## Question 2 [18 marks]\n",
    "Give an example of two uncountable sets A and B such that A − B is \\\n",
    "a) finite \\\n",
    "b) countably infinite \\\n",
    "c) uncountable\n",
    "Provide an explanation in the same format as question 1 regarding why the difference of your two sets are an example of that particular property.\n"
   ]
  },
  {
   "cell_type": "markdown",
   "id": "c1de7f40",
   "metadata": {
    "deletable": false,
    "nbgrader": {
     "cell_type": "markdown",
     "checksum": "27c3eaf366af9a4a76476557f578e398",
     "grade": true,
     "grade_id": "cell-c682d52135d7fe64",
     "locked": false,
     "points": 18,
     "schema_version": 3,
     "solution": true,
     "task": false
    }
   },
   "source": [
    "YOUR ANSWER HERE\n",
    "\n",
    "a) Let A and B both be the set of all real numbers in the interval $[1,2]$ ， $ A - B = \\emptyset$  which an is an empty set that is always finite.\n",
    "\n",
    "b) We have two sets $A = \\{x \\in \\mathbb{R} | 1 < x < 2\\} \\cup \\mathbb{Z}^- $ and $B = \\{x \\in \\mathbb{R} | 1 < x < 2\\}$，where A and B are uncountable and  $ A - B = \\mathbb{Z}^-$, so it is countably infinite.\n",
    "\n",
    "c) Let $A = \\{x \\in \\mathbb{R} | 1 < x < 4\\}$ and $B = \\{x \\in \\mathbb{R} | 2 < x < 4\\}$, then $ A - B = \\{x \\in \\mathbb{R} | 1 < x \\leq 2\\}$ which is uncountable.\n"
   ]
  },
  {
   "cell_type": "markdown",
   "id": "921fe5d2",
   "metadata": {
    "deletable": false,
    "editable": false,
    "nbgrader": {
     "cell_type": "markdown",
     "checksum": "3025d4240d8596f68ef665368a820c2a",
     "grade": false,
     "grade_id": "cell-27304913251d53e2",
     "locked": true,
     "schema_version": 3,
     "solution": false,
     "task": false
    }
   },
   "source": [
    "## Question 3 [12 marks] \n",
    "For the set $\\mathbb{Z}^+ \\times \\mathbb{Z}^+$, show that it is countable."
   ]
  },
  {
   "cell_type": "markdown",
   "id": "239a10ea",
   "metadata": {
    "deletable": false,
    "nbgrader": {
     "cell_type": "markdown",
     "checksum": "ffaf4b4dd23ca83797d113d6452918c7",
     "grade": true,
     "grade_id": "cell-f92c4b886de1f429",
     "locked": false,
     "points": 12,
     "schema_version": 3,
     "solution": true,
     "task": false
    }
   },
   "source": [
    "YOUR ANSWER HERE\n",
    "\n",
    "#### *proof*\n",
    "\n",
    "We must show that there exists a bijection between $\\mathbb{Z^+} \\times \\mathbb{Z^+}$ and $\\mathbb{N}$. Let $f: \\mathbb{Z^+} \\times \\mathbb{Z^+} \\rightarrow \\mathbb{N}$ where $f(m, n) = 2^{m-1}(2n-1)$. \n",
    "\n",
    "*Injective*: Fix $(m_1, \\, n_1), \\, (m_2, \\, n_2) \\in \\mathbb{Z^+} \\times \\mathbb{Z^+}$ arbitrary. Assume that $f(m_1, n_1) = f(m_2, n_2)$. Then, we have \n",
    "\n",
    "\\begin{align}\n",
    "2^{m_1-1}(2n_1-1) = 2^{m_2-1}(2n_2-1)\n",
    "\\end{align}\n",
    "\n",
    ". Since $2n_1-1$ and $2n_2-1$ are odd, it follows by the Fundamental Theorem of Arithmetic that $m_1 = m_2$. Since $2^{m_1-1} = 2^{m_2-1}$, it follows by Cancellation that $2n_1-1 = 2n_2-1$. Adding both sides by 1 and then multplying both sides by $1/2$ gives us that $n_1 = n_2$. Since we have shown that $m_1 = m_2$ and $n_1 = n_2$, we have proven that $f$ is Injective. \n",
    "\n",
    "*Surjective*: Fix $k \\in \\mathbb{N}$ arbitrary. We want to show that there exists $(m, n) \\in \\mathbb{Z^+ \\times Z^+}$ such that $f(m, n) = k$. \n",
    "\n",
    "Case I $(k = 1)$: In this case, we observe that $f(1, 1) = 2^{1-1}(2 - 1) = 1$.\n",
    "\n",
    "Case II $(k > 1)$: By the Fundamental Theorem of Arithmetic, there exists positive integers $s$, primes numbers $p_1, \\dots, p_s$ and postive integers $b_1, \\dots, b_s$ such that \n",
    "\n",
    "$$ k = p_1^{b_1}p_2^{b_2} \\dots p_s^{b_s} $$\n",
    "\n",
    "There are two sub-cases. \n",
    "\n",
    "Sub_Case I $(k \\text{ is even})$: We have that $p_1 = 2$. Let $m = b_1 + 1$. Since $2 < p_2 < \\dots < p_s$, $p_2^{b_2} \\dots p_s^{b_s}$ is odd. Thus, \n",
    "\n",
    "$$ n = \\frac{p_2^{b_2} \\dots p_s^{b_s} + 1}{2} $$\n",
    "\n",
    "is and integer. Thus, we have that \n",
    "\n",
    "$$ f(m, n) = 2^{b_1 + 1 - 1}(2 \\frac{p_2^{b_2} \\dots p_s^{b_s} + 1}{2} - 1) = 2^{b_1}p_2^{b_2} \\dots p_s^{b_s} = k $$\n",
    "\n",
    "Sub_Case II $(k \\text{ is odd})$: Let $m = 1$ and $n = \\frac{k + 1}{2}$. Then, \n",
    "\n",
    "$$ f(m, n) = 2^{1-1}(2 \\frac{k + 1}{2} - 1) = k$$\n",
    "\n",
    "Thus, we have shown that we are able to find $(m, n) \\in \\mathbb{Z^+ \\times Z^+}$ such that $f(m, n) = k$. Thus, $f$ is surjective. \n",
    "\n",
    "Since we have shown that $f$ is injective and surjective, it follows that there exists a bijection between $\\mathbb{Z^+ \\times Z^+}$ and $\\mathbb{N}$. Hence, we have shown that $\\mathbb{Z^+ \\times Z^+}$ is countable.\n",
    "\n",
    "Q.E.D.\n"
   ]
  },
  {
   "cell_type": "markdown",
   "id": "910b5a1f",
   "metadata": {
    "deletable": false,
    "editable": false,
    "nbgrader": {
     "cell_type": "markdown",
     "checksum": "d41faf5a54a2df0dfabc71a71eb80780",
     "grade": false,
     "grade_id": "cell-914f0cfdd968c44b",
     "locked": true,
     "schema_version": 3,
     "solution": false,
     "task": false
    }
   },
   "source": [
    "## Question 4 [12 marks]\n",
    "For each of the integers below, determine whether these integers are congruent to 3 modulo 7. \\\n",
    "a) 29 \\\n",
    "b) 70 \\\n",
    "c) -99 \\\n",
    "d) -25\n"
   ]
  },
  {
   "cell_type": "markdown",
   "id": "78ce4cbb",
   "metadata": {
    "deletable": false,
    "nbgrader": {
     "cell_type": "markdown",
     "checksum": "ffc1469e230f1473e348775715a3cf02",
     "grade": true,
     "grade_id": "cell-65da04f3f1ab6418",
     "locked": false,
     "points": 12,
     "schema_version": 3,
     "solution": true,
     "task": false
    }
   },
   "source": [
    "YOUR ANSWER HERE\n",
    "\n",
    "a) Not congruent to 3 modulo 7\n",
    "\n",
    "$(29 - 3) / 7 = \\frac{26}{7} = 3.7$\n",
    "\n",
    "3.7 is not an integer and the remainder or this division is not zero.\n",
    "\n",
    "---\n",
    "\n",
    "b) Not congruent to 3 modulo 7\n",
    "\n",
    "$(70 - 3) / 7 = \\frac{67}{7} = 9.5$\n",
    "\n",
    "9.5 is not an integer and the remainder or this division is not zero.\n",
    "\n",
    "---\n",
    "\n",
    "c) Not congruent to 3 modulo 7\n",
    "\n",
    "$(-99 - 3) / 7 = \\frac{-102}{7} = -14.5$\n",
    "\n",
    "-14.5 is not an integer and the remainder or this division is not zero.\n",
    "\n",
    "---\n",
    "\n",
    "d) Is congruent to 3 modulo 7\n",
    "\n",
    "$(-25 - 3) / 7 = \\frac{-28}{7} = -4$\n",
    "\n",
    "-4 is an integer\n"
   ]
  },
  {
   "cell_type": "markdown",
   "id": "461a538b",
   "metadata": {
    "deletable": false,
    "editable": false,
    "nbgrader": {
     "cell_type": "markdown",
     "checksum": "c77bb6e60a87fbd773dab4369d410ab8",
     "grade": false,
     "grade_id": "cell-0126379e313ce99a",
     "locked": true,
     "schema_version": 3,
     "solution": false,
     "task": false
    }
   },
   "source": [
    "## Question 5 [8 marks]\n",
    "Calculate and show your steps. \\\n",
    "a) (219 mod 25 + 240 mod 43) mod 33 \\\n",
    "b) (219 mod 25 · 240 mod 43) mod 33 "
   ]
  },
  {
   "cell_type": "markdown",
   "id": "3ab5cac3",
   "metadata": {
    "deletable": false,
    "nbgrader": {
     "cell_type": "markdown",
     "checksum": "b84c2d7f0f99f34c61d11a3d8d445dd6",
     "grade": true,
     "grade_id": "cell-81be0dbc5f347e4c",
     "locked": false,
     "points": 8,
     "schema_version": 3,
     "solution": true,
     "task": false
    }
   },
   "source": [
    "YOUR ANSWER HERE\n",
    "\n",
    "a) $(219 \\text{ mod } 25 + 240 \\text{ mod } 43) \\text{ mod } 33$\n",
    "\n",
    "$= (19 + 25) \\text{ mod } 33 $\n",
    "\n",
    "$= 44 \\text{ mod } 33 $\n",
    "\n",
    "$= 11$\n",
    "\n",
    "b) $(219 \\text{ mod } 25 · 240 \\text{ mod } 43) \\text{ mod } 33 $\n",
    "\n",
    "$= (19 \\times 25) \\text{ mod } 33 $\n",
    "\n",
    "$= 475 \\text{ mod } 33 $\n",
    "\n",
    "$= 13$\n"
   ]
  },
  {
   "cell_type": "markdown",
   "id": "419e71f0",
   "metadata": {
    "deletable": false,
    "editable": false,
    "nbgrader": {
     "cell_type": "markdown",
     "checksum": "7ab1c66c0fd1494a68880f075015a311",
     "grade": false,
     "grade_id": "cell-bba13271e7a7c9a5",
     "locked": true,
     "schema_version": 3,
     "solution": false,
     "task": false
    }
   },
   "source": [
    "## Question 6 [6 marks]\n",
    "Show that if a, b, c, and m are integers such that m ≥ 2, c > 0, and a ≡ b (mod m), then ac ≡ bc (mod mc)."
   ]
  },
  {
   "cell_type": "markdown",
   "id": "c05cd17a",
   "metadata": {
    "deletable": false,
    "nbgrader": {
     "cell_type": "markdown",
     "checksum": "3d1bf7a4bfee58b12038475ee8f60d33",
     "grade": true,
     "grade_id": "cell-9dd30da3d6cdd588",
     "locked": false,
     "points": 6,
     "schema_version": 3,
     "solution": true,
     "task": false
    }
   },
   "source": [
    "YOUR ANSWER HERE\n",
    "\n",
    "#### *proof*\n",
    "\n",
    "Given $a, b, c, m \\in \\mathbb{Z}, \\, m \\geq 2, \\, c > 0, \\text{ and } a \\equiv b (\\text{mod } m)$. We want to show that there exists $q \\in \\mathbb{Z}$ such that $ac = mcq + bc$. Since $a \\equiv b \\, (\\text{mod } m)$, we have that there exists $k \\in \\mathbb{Z}$ such that $a = mk + b$. Let $k = q$. Since\n",
    "\n",
    "\\begin{align}\n",
    "a  &= mk + b \\\\\n",
    "ac &= mck + bc \\\\\n",
    "   &= mcq + bc \\\\\n",
    "\\end{align}\n",
    "\n",
    ", we have shown that $ac \\equiv bc \\, (\\text{mod } mc)$. \n"
   ]
  },
  {
   "cell_type": "markdown",
   "id": "d2b9161a",
   "metadata": {
    "deletable": false,
    "editable": false,
    "nbgrader": {
     "cell_type": "markdown",
     "checksum": "83ab01dbe530ebd247d6e743ffc2f43e",
     "grade": false,
     "grade_id": "cell-2a724690ed05bc4b",
     "locked": true,
     "schema_version": 3,
     "solution": false,
     "task": false
    }
   },
   "source": [
    "## Question 7 [12 marks]\n",
    "Let P(n) be the statement that $1^3 + 2^3 ... + n^3 = (n(n+1)/2)^2$ for the positive integer n. \\\n",
    "a) What is the statement P(1), and show that P(1) is true. [2 marks] \\\n",
    "b) What is the inductive hypothesis? [2 marks] \\\n",
    "c) What do you need to prove in the inductive step? [3 marks] \\\n",
    "d) Complete the inductive step, identifying where you use the inductive hypothesis [4 marks] \\\n",
    "e) Explain why these steps show that this formula is true whenever n is a positive integer. [1 marks]"
   ]
  },
  {
   "cell_type": "markdown",
   "id": "681022c7",
   "metadata": {
    "deletable": false,
    "nbgrader": {
     "cell_type": "markdown",
     "checksum": "f5616a046506b345a9e3f3d6253dedba",
     "grade": true,
     "grade_id": "cell-889ac2f3e29605cc",
     "locked": false,
     "points": 12,
     "schema_version": 3,
     "solution": true,
     "task": false
    }
   },
   "source": [
    "YOUR ANSWER HERE\n",
    "\n",
    "a) let $n = 1, (1(1+1)/2)^2) = 1$, since $1^3 = (1(1+1)/2)^2) = 1$. So P(1) is true\n",
    "\n",
    "b) The inductive hypothesis is P(k) which is $1^3 + 2^3 + ... + k^3 = (k(k+1)/2)^2$.\n",
    "\n",
    "c) We need to prove P(k + 1) is true, i.e. $1^3 + 2^3 + ...+ k^3 + (k+1)^3 = ((k+1)((k+1)+1)/2)^2$.\n",
    "\n",
    "d) $1^3 + 2^3 + ...+ k^3 + (k+1)^3$\n",
    "\n",
    "$=(k(k+1)/2)^2 + (k+1)^3$\n",
    "\n",
    "$=(k^2(k+1)^2)/4 + (4+(k+1)^3)/4$\n",
    "\n",
    "$=(k^2(k+1)^2+4(k+1)^3)/4$\n",
    "\n",
    "$=(k+1)^2(k^2+4*(k+1))/4 $\n",
    "\n",
    "\n",
    "$=((k+1)^2 (k+2)^2)/4$\n",
    "\n",
    "$=((k+1)((k+2)/2)) ^2$ \n",
    "\n",
    "So P(k + 1)is true, i.e. $1^3 + 2^3 + ...+ k^3 + (k+1)^3$ $=((k+1)*((k+2)/2)) ^2$ is true.\n",
    "\n",
    "e) We know P(1) is True, and whenever P(k) is True it leads to P(k+1) is True. Hence it is true for all positive integers k. Keep applying the inductive step for every positive integer n, we can reach all of them.\n",
    "\n",
    "e) From above, we know P(k+1) follows from P(k). Thus $P(n) : 1^3 + 2^3 ... + n^3 = (n(n+1)/2)^2$ is true whenever n is a positive integer.\n"
   ]
  },
  {
   "cell_type": "markdown",
   "id": "4271e31c",
   "metadata": {
    "deletable": false,
    "editable": false,
    "nbgrader": {
     "cell_type": "markdown",
     "checksum": "b7fc33188e3b59d6538b1a9d3397d0dd",
     "grade": false,
     "grade_id": "cell-4aca22a340f85a4d",
     "locked": true,
     "schema_version": 3,
     "solution": false,
     "task": false
    }
   },
   "source": [
    "## Question 8 [8 marks]\n",
    "Prove that 3 divides $n^3 + 2n$ whenever n is a positive\n",
    "integer using a base case and inductive hypothesis."
   ]
  },
  {
   "cell_type": "markdown",
   "id": "6929c175",
   "metadata": {
    "deletable": false,
    "nbgrader": {
     "cell_type": "markdown",
     "checksum": "65187bf15d92d9bfdc9912a099fb8ed9",
     "grade": true,
     "grade_id": "cell-68a37edfe3ebc2e2",
     "locked": false,
     "points": 8,
     "schema_version": 3,
     "solution": true,
     "task": false
    }
   },
   "source": [
    "YOUR ANSWER HERE\n",
    "\n",
    "Fix $m \\in \\mathbb{N}$ arbitrary. Let $P(m)$ denote the statement that $3 | m^3+2m$. We give a proof by induction on m. \n",
    "\n",
    "Base Case: We show that $P(1)$ is true. Since $3 | 1 + 2 \\equiv 3 | 3$ which is true, we have shown that $P(1)$ is true.\n",
    "\n",
    "Indective Step: Assume that $P(k)$ is true; i.e., $3 | k^3 + 2k$ where $k \\in \\mathbb{N}$. We must show that $P(k + 1)$ is true. \n",
    "\n",
    "Since $(k + 1)^3 + 2(k + 1) = (k + 1)[(k + 1)^2 + 2] = (k + 1)(k^2 + 2k + 3) = k^3 + 2k + 3k^2 + 3k + 3$ where $3 | k^3 + 2k$ by our assumption and $3 | 3k^2 + 3k + 3$, we have shwon that $P(k + 1)$ is true. \n",
    "\n",
    "Hence, by the Principle of Mathematical Induction, we have proven that $(\\forall n \\in \\mathbb{N})[ \\, 3 | \\, (n^3 + 2n) \\, ]$. \n"
   ]
  },
  {
   "cell_type": "markdown",
   "id": "6decb72f",
   "metadata": {
    "deletable": false,
    "editable": false,
    "nbgrader": {
     "cell_type": "markdown",
     "checksum": "471c43a5bb01e4321f875bee0a174364",
     "grade": false,
     "grade_id": "cell-4dca82b7d23a93ed",
     "locked": true,
     "schema_version": 3,
     "solution": false,
     "task": false
    }
   },
   "source": [
    "## BONUS Question 9 [10 marks] \n",
    "Show that $\\mathbb{Z}_m$ with addition modulo m, where m ≥ 2 is an integer, satisfies the closure, associative, and commutative properties, 0 is an additive identity, and for every nonzero a ∈ $\\mathbb{Z}_m$, m − a is an inverse of a modulo m."
   ]
  },
  {
   "cell_type": "markdown",
   "id": "107ea122",
   "metadata": {
    "deletable": false,
    "nbgrader": {
     "cell_type": "markdown",
     "checksum": "cf2c0664a6e6ba38d04c87be5a711622",
     "grade": true,
     "grade_id": "cell-b31c37cd3f207cb0",
     "locked": false,
     "points": 0,
     "schema_version": 3,
     "solution": true,
     "task": false
    }
   },
   "source": [
    "YOUR ANSWER HERE\n",
    "\n",
    "#### *Closure*\n",
    "\n",
    "Fix $a, b \\in \\mathbb{Z_m}$ arbitrary. We want to show that $a +_m b \\in \\mathbb{Z_m}$. By definition of mod, $a +_m b = (a + b) mod m \\geq m - 1$; i.e. it is in the set $\\mathbb{Z_m}$. Thus, it satidiies closure. \n",
    "\n",
    "#### *Associativity*\n",
    "\n",
    "Fix $a, b, c \\in \\mathbb{Z_m}$ arbitrary. We must show that $(a +_m b) +_m c = a +_m (b +_m c)$. We start with the left hand side, \n",
    "\n",
    "\\begin{align}\n",
    "(a +_m b) +_m c &= ((a + b) \\text{ mod } m) +_m c \\\\\n",
    "                &= (((a + b) \\text{ mod } m) + c) \\text{ mod } m \\\\\n",
    "                &= (((a + b) + c) \\text{ mod } m \\\\\n",
    "                &= (a + (b + c)) \\text{ mod } m \\\\\n",
    "                &= (a + (b + c) \\text{ mod } m) \\text{ mod } m \\\\\n",
    "                &= (a + (b +_m c)) \\text{ mod } \\\\\n",
    "                &= a +_m (b +_m c)\n",
    "\\end{align}\n",
    "\n",
    "as desired. Thus, we have shown that associativity is valid for modulo addition. \n",
    "\n",
    "#### *Commutativity*\n",
    "\n",
    "Fix $a, b \\in \\mathbb{Z_m}$ arbitrary. Since\n",
    "\n",
    "\\begin{align}\n",
    "a +_m b &= (a + b) \\text{ mod } m \\\\\n",
    "        &= (b + a) \\text{ mod } m \\\\\n",
    "        &= b +_m a \\\\\n",
    "\\end{align}\n",
    "\n",
    ", we have shown that commutative law hols for modulo addition. \n",
    "\n",
    "#### *Indentity*\n",
    "\n",
    "Fix $a \\in \\mathbb{Z_m}$ arbitrary. Since\n",
    "\n",
    "\\begin{align}\n",
    "a +_m 0 &= (a + 0) \\text{ mod } m \\\\\n",
    "        &= (0 + a) \\text{ mod } m = a \\text{ mod } m = a\\\\\n",
    "        &= 0 +_m a \\\\\n",
    "\\end{align}\n",
    "\n",
    ", 0 is the addition identity of modulo arithemic. \n",
    "\n",
    "#### *Additive Inverse*\n",
    "\n",
    "\\begin{align}\n",
    "a +_m (m - a) &= (a + m - a) \\text{ mod } m \\\\\n",
    "              &= m \\text{ mod } m \\\\\n",
    "              &= 0\\\\\n",
    "\\end{align}\n",
    "\n",
    "Thus, m − a is an inverse of a modulo m. \n"
   ]
  },
  {
   "cell_type": "markdown",
   "id": "9e2c4bce-34d1-455c-a98f-e1404f062331",
   "metadata": {},
   "source": []
  }
 ],
 "metadata": {
  "kernelspec": {
   "display_name": "Python 3 (ipykernel)",
   "language": "python",
   "name": "python3"
  },
  "language_info": {
   "codemirror_mode": {
    "name": "ipython",
    "version": 3
   },
   "file_extension": ".py",
   "mimetype": "text/x-python",
   "name": "python",
   "nbconvert_exporter": "python",
   "pygments_lexer": "ipython3",
   "version": "3.10.0"
  }
 },
 "nbformat": 4,
 "nbformat_minor": 5
}
