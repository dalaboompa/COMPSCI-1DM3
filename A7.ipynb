{
 "cells": [
  {
   "cell_type": "markdown",
   "id": "b67c431b",
   "metadata": {
    "deletable": false,
    "editable": false,
    "nbgrader": {
     "cell_type": "markdown",
     "checksum": "33ed55ce2a55e18b7a3b7e3512fb58c5",
     "grade": false,
     "grade_id": "cell-3df11de44db243e2",
     "locked": true,
     "schema_version": 3,
     "solution": false,
     "task": false
    }
   },
   "source": [
    "# 2022 WINTER 1DM3: Assignment 7\n",
    "## This assignment cover sections 5.1, 6.1, 6.2 and 6.3. \n",
    "\n",
    "* Instructor: Bin Guo\n",
    "* Marking: Adam Mak, Hamrish Saravanakumar, Simone Ocvirk (maka9, saravah, ocvirks)"
   ]
  },
  {
   "cell_type": "markdown",
   "id": "58ef1c7c",
   "metadata": {
    "deletable": false,
    "editable": false,
    "nbgrader": {
     "cell_type": "markdown",
     "checksum": "df1670faa51efa8c6a174bb96d59df78",
     "grade": false,
     "grade_id": "cell-bbe7401647deb3e8",
     "locked": true,
     "schema_version": 3,
     "solution": false,
     "task": false
    }
   },
   "source": [
    "* You will be working on this assignment within your assigned group. Ensure that all students work on the assignment questions together. __ONLY ONE STUDENT WILL BE SUBMITTING YOUR ASSIGNMENT ON BEHALF OF THE GROUP__. All students will recieve the same mark on the group, unless you feel as though a student/students have not contributed to the assignment. If this is the case please reach out to one of the marking TAs so we can work out a solution. __You must write the names of which students contributed to each question at the top of each answer cell__.\n",
    "\n",
    "* The assignment is __due on Sunday March 13th at 11:59pm__. \n",
    "\n",
    "* __Your answer should give full detailed explainations__.\n",
    "\n",
    "* The practice questions are explained in tutorials and not counted as marks. The full marks is __100__. Question 11 is a __bonus__ question which has __15__ marks as bonus. \n",
    "\n",
    "* The total marks up to the maximum 100 marks.\n",
    "\n",
    "* NOTE: Many of these questions deal with proofs. You will __NOT__ achieve full marks on a question if you simply provide an example."
   ]
  },
  {
   "cell_type": "markdown",
   "id": "8d6d3d13",
   "metadata": {
    "deletable": false,
    "editable": false,
    "nbgrader": {
     "cell_type": "markdown",
     "checksum": "99ab15b3a43d19858ccbeeb2d594a671",
     "grade": false,
     "grade_id": "cell-9ff9623a7de3e19e",
     "locked": true,
     "schema_version": 3,
     "solution": false,
     "task": false
    }
   },
   "source": [
    "## IMPORTANT REMINDERS!\n",
    "\n",
    "\n",
    "- __ONLY THE GROUP LEADER WILL BE SUBMIT ON BEHALF OF THE GROUP__\n",
    "\n",
    "\n",
    "- __YOU MUST WRITE THE NAMES OF WHICH STUDENTS CONTRIBUTED TO EACH QUESTION, THIS IS NOT OPTIONAL__\n",
    "\n",
    "\n",
    "- __ALL ANSWERS MUST GIVE DETAILED EXPLANATIONS, IN THIS ASSIGNMENT MORE THAN 50% OF EACH QUESTION'S MARKS ARE ALLOCATED TO THE EXPLANATIONS, SO JUST GIVING THE ANSWERS WILL NOT LET YOU ACHIEVE 50%__"
   ]
  },
  {
   "cell_type": "markdown",
   "id": "4349b3a9",
   "metadata": {
    "deletable": false,
    "editable": false,
    "nbgrader": {
     "cell_type": "markdown",
     "checksum": "b8bb813445a29a48efe02036e97a18a7",
     "grade": false,
     "grade_id": "cell-354f3f433dd81255",
     "locked": true,
     "schema_version": 3,
     "solution": false,
     "task": false
    }
   },
   "source": [
    "$p \\rightarrow q, p \\leftrightarrow q, \\neg q, p \\land q, p \\lor q, p\\oplus q$, $\\bar{B}$, $\\{\\emptyset\\} \\in A$, $B \\notin A$, $A \\subseteq B$, $A \\subset B$, $A \\cup B$, $A \\cap B$, $\\bigcap\\limits_{i=1}^{n} A_i$, $\\bigcup\\limits_{i=1}^{n} A_i$, $\\exists x \\forall y (x = y)$, $\\epsilon$,\n",
    "$\\mathbb{Z}$"
   ]
  },
  {
   "cell_type": "markdown",
   "id": "9f82e843",
   "metadata": {
    "deletable": false,
    "editable": false,
    "nbgrader": {
     "cell_type": "markdown",
     "checksum": "98656ae39ca8025aa44fcd792f3f5353",
     "grade": false,
     "grade_id": "cell-778c600891d5ff1c",
     "locked": true,
     "schema_version": 3,
     "solution": false,
     "task": false
    }
   },
   "source": [
    "## Practice Question 1 (Section 5.1, Exercise 41), not marked\n",
    "Prove that if $A_1,A_2, …,A_n$ and $B$ are sets, then\n",
    "\n",
    "$(A_1 \\cup A_2 \\cup ... \\cup A_n) \\cap B = (A_1 \\cap B) \\cup (A_2 \\cap B) \\cup ... \\cup (A_n \\cap B).$\n",
    "\n"
   ]
  },
  {
   "cell_type": "markdown",
   "id": "071d6693",
   "metadata": {
    "deletable": false,
    "nbgrader": {
     "cell_type": "markdown",
     "checksum": "0f86d54d0334763a0445a6de57d3e3da",
     "grade": true,
     "grade_id": "cell-cbb2f5d44cfcb0ed",
     "locked": false,
     "points": 0,
     "schema_version": 3,
     "solution": true,
     "task": false
    }
   },
   "source": [
    "YOUR ANSWER HERE"
   ]
  },
  {
   "cell_type": "markdown",
   "id": "500ef6a7",
   "metadata": {},
   "source": [
    "## Practice Question 2 (Section 5.1, Exercise 43), not marked\n",
    "\n",
    "Prove that if $A_1,A_2, … ,A_n$ are subsets of a universal set $U$, then\n",
    "\n",
    "$\\overline{\\cup_{k=1}^nA_k }= \\cap_{k=1}^n \\overline{A_k}.$\n",
    "\n"
   ]
  },
  {
   "cell_type": "markdown",
   "id": "a59ccc05",
   "metadata": {
    "deletable": false,
    "nbgrader": {
     "cell_type": "markdown",
     "checksum": "99239de07d0656421d7ae38fd1b477c0",
     "grade": true,
     "grade_id": "cell-0e79cbc3d04c7b77",
     "locked": false,
     "points": 0,
     "schema_version": 3,
     "solution": true,
     "task": false
    }
   },
   "source": [
    "YOUR ANSWER HERE"
   ]
  },
  {
   "cell_type": "markdown",
   "id": "89bb5935",
   "metadata": {},
   "source": [
    "## Practice Question 3 (Section 6.1, Exercise 3), Not marked\n",
    "\n",
    "\n",
    "A multiple-choice test contains 10 questions. There are four possible answers for each question.\n",
    "\n",
    "1. In how many ways can a student answer the questions on the test if the student answers every question?\n",
    "\n",
    "\n",
    "2. In how many ways can a student answer the questions on the test if the student can leave answers blank?\n"
   ]
  },
  {
   "cell_type": "markdown",
   "id": "57b7c06b",
   "metadata": {
    "deletable": false,
    "nbgrader": {
     "cell_type": "markdown",
     "checksum": "c7fa68200b1974784b7dd3ebaf223b97",
     "grade": true,
     "grade_id": "cell-363088be257cd123",
     "locked": false,
     "points": 0,
     "schema_version": 3,
     "solution": true,
     "task": false
    }
   },
   "source": [
    "YOUR ANSWER HERE"
   ]
  },
  {
   "cell_type": "markdown",
   "id": "9ed30cc9",
   "metadata": {
    "deletable": false,
    "editable": false,
    "nbgrader": {
     "cell_type": "markdown",
     "checksum": "3bb3bf6b59b5234dd35836575664ce2c",
     "grade": false,
     "grade_id": "cell-ba28fe9fa8cd3589",
     "locked": true,
     "schema_version": 3,
     "solution": false,
     "task": false
    }
   },
   "source": [
    "## Practice Question 4 (Section 6.1, Exercise 17), Not marked\n",
    "\n",
    "\n",
    "How many strings of five ASCII characters contain the character @ (“at” sign) at least once? [Note: There are 128 different ASCII characters.]\n",
    "\n"
   ]
  },
  {
   "cell_type": "markdown",
   "id": "8104de89",
   "metadata": {
    "deletable": false,
    "nbgrader": {
     "cell_type": "markdown",
     "checksum": "8570fd60c99242dfc05560dd33dcedeb",
     "grade": true,
     "grade_id": "cell-16c9c6b7174f0702",
     "locked": false,
     "points": 0,
     "schema_version": 3,
     "solution": true,
     "task": false
    }
   },
   "source": [
    "YOUR ANSWER HERE"
   ]
  },
  {
   "cell_type": "markdown",
   "id": "29adfb8d",
   "metadata": {
    "deletable": false,
    "editable": false,
    "nbgrader": {
     "cell_type": "markdown",
     "checksum": "b982bdc0fe247180e194d366d41f15d0",
     "grade": false,
     "grade_id": "cell-2f9eafeb97094539",
     "locked": true,
     "schema_version": 3,
     "solution": false,
     "task": false
    }
   },
   "source": [
    "## Practice Question 5 (Section 6.1, Exercise 63), Not marked\n",
    "\n",
    "A wired equivalent privacy (WEP) key for a wireless fidelity (WiFi) network is a string of either 10, 26, or 58 hexadecimal digits. How many different WEP keys are there?\n"
   ]
  },
  {
   "cell_type": "markdown",
   "id": "2f31ff31",
   "metadata": {
    "deletable": false,
    "nbgrader": {
     "cell_type": "markdown",
     "checksum": "01698b0740512f77dc77d8e03a396c0c",
     "grade": true,
     "grade_id": "cell-0f63a341f2483444",
     "locked": false,
     "points": 0,
     "schema_version": 3,
     "solution": true,
     "task": false
    }
   },
   "source": [
    "YOUR ANSWER HERE"
   ]
  },
  {
   "cell_type": "markdown",
   "id": "b5075abe",
   "metadata": {},
   "source": [
    "-----------------------"
   ]
  },
  {
   "cell_type": "markdown",
   "id": "52050fd3",
   "metadata": {
    "deletable": false,
    "editable": false,
    "nbgrader": {
     "cell_type": "markdown",
     "checksum": "768db4022a1c6d45aebdefae115c2ca1",
     "grade": false,
     "grade_id": "cell-32480fd5de71891e",
     "locked": true,
     "schema_version": 3,
     "solution": false,
     "task": false
    }
   },
   "source": [
    "## Question 1 [16 marks]\n",
    "\n",
    "Prove that if $A_1, A_2, ..., A_n$ and $B$ are sets, then\n",
    "\n",
    "$(A_1 \\cup B) \\cap (A_2 \\cup B) \\cap ··· \\cap (A_n \\cup B)$\\\n",
    "$= (A_1 \\cap A_2 \\cap ··· \\cap A_n) \\cup B$."
   ]
  },
  {
   "cell_type": "markdown",
   "id": "7509d34b",
   "metadata": {
    "deletable": false,
    "nbgrader": {
     "cell_type": "markdown",
     "checksum": "f166e73ee1b738bf4fb8010bda07d69e",
     "grade": true,
     "grade_id": "cell-4229a9a4b867e958",
     "locked": false,
     "points": 16,
     "schema_version": 3,
     "solution": true,
     "task": false
    }
   },
   "source": [
    "YOUR ANSWER HERE\n",
    "\n",
    "#### *proof*\n",
    "\n",
    "Given $A_1, A_2, \\dots, A_n$ and $B$ are sets where $n \\in \\mathbb{Z^+}$. Let $P(n)$ denote the statement that $\\bigcap\\limits_{i = 1}^{n} (A_i \\cup B) = (\\bigcap\\limits_{i = 1}^{n} A_i) \\cup B$. We want to show that $P(n)$ is true for all positive integer n. We give a proof by induction on n.\n",
    "\n",
    "Base Case: We show that $P(1)$ is true. Since\n",
    "\n",
    "\\begin{align}\n",
    "\\bigcap\\limits_{i = 1}^{1} (A_i \\cup B) &= A_1 \\cup B \\\\\n",
    "                                        &= (\\bigcap\\limits_{i = 1}^{1} A_i) \\cup B \\\\\n",
    "\\end{align}\n",
    "\n",
    ", we have shown that $P(1)$ is true. \n",
    "\n",
    "Inducive Step: Assume that $P(n)$ is true, i.e. $\\bigcap\\limits_{i = 1}^{n} (A_i \\cup B) = (\\bigcap\\limits_{i = 1}^{n} A_i) \\cup B$. We must show that $P(n+1)$ is true. \n",
    "\n",
    "\\begin{align}\n",
    "(\\bigcap\\limits_{i = 1}^{n+1} A_i) \\cup B &= ((\\bigcap\\limits_{i = 1}^{n} A_i) \\cap A_{n+1}) \\cup B & \\text{[Recursive Definition]} \\\\\n",
    "                                          &= ((\\bigcap\\limits_{i = 1}^{n} A_i) \\cup B) \\cap (A_{n+1} \\cup B) & \\text{[Distribution]} \\\\\n",
    "                                          &= \\bigcap\\limits_{i = 1}^{n} (A_i \\cup B) \\cap (A_{n+1} \\cup B) & \\text{[Assumption]} \\\\\n",
    "                                          &= \\bigcap\\limits_{i = 1}^{n+1} (A_i \\cup B) & \\text{[Recursive Definition]} \\\\\n",
    "\\end{align}\n",
    "\n",
    "as desired. Thus, we have shown that $P(n+1)$ is true. \n",
    "\n",
    "Hence, by the Principle of Mathematical Induction, it follows that $P(n)$ is true for all positive integer n. \n",
    "\n",
    "##### *by Zitong Gu*"
   ]
  },
  {
   "cell_type": "markdown",
   "id": "b61440f9",
   "metadata": {
    "deletable": false,
    "editable": false,
    "nbgrader": {
     "cell_type": "markdown",
     "checksum": "75782b2b87fa775e1db9e583e074b839",
     "grade": false,
     "grade_id": "cell-ff990589756b9e1f",
     "locked": true,
     "schema_version": 3,
     "solution": false,
     "task": false
    }
   },
   "source": [
    "## Question 2 [6 marks]\n",
    "\n",
    "A particular brand of shirt comes in $12$ colors, the shirt comes in a unisex version and a women's version, and comes in $3$ sizes for each. How many different types of this shirt are made?"
   ]
  },
  {
   "cell_type": "markdown",
   "id": "473a26bb",
   "metadata": {
    "deletable": false,
    "nbgrader": {
     "cell_type": "markdown",
     "checksum": "5000e7f78c070f47feb59088bb484a4d",
     "grade": true,
     "grade_id": "cell-6b75e3c5ac859e24",
     "locked": false,
     "points": 6,
     "schema_version": 3,
     "solution": true,
     "task": false
    }
   },
   "source": [
    "YOUR ANSWER HERE\n",
    "\n",
    "we know that 12 colors, and 2 versions and 3 sizes.\n",
    "\n",
    "We only need to multiply the three variables to find the total type:\n",
    "\n",
    "$12\\times2\\times3 = 72$\n",
    "\n",
    "Thus, we have 72 different types of this shrit are made.\n",
    "\n",
    "##### *by Xin Huang*"
   ]
  },
  {
   "cell_type": "markdown",
   "id": "da8e7538",
   "metadata": {
    "deletable": false,
    "editable": false,
    "nbgrader": {
     "cell_type": "markdown",
     "checksum": "4723a7c124f67c284df1076379f7cbd2",
     "grade": false,
     "grade_id": "cell-8ceeb6048ffe0cf3",
     "locked": true,
     "schema_version": 3,
     "solution": false,
     "task": false
    }
   },
   "source": [
    "## Question 3 [6 marks]\n",
    "\n",
    "How many strings are there of $6$ lowercase letters that have the letter $k$ in them?"
   ]
  },
  {
   "cell_type": "markdown",
   "id": "b0a26f8e",
   "metadata": {
    "deletable": false,
    "nbgrader": {
     "cell_type": "markdown",
     "checksum": "3dc31049391d924e1d4cce0a2e873ba8",
     "grade": true,
     "grade_id": "cell-c4ff4b5a26b5dc04",
     "locked": false,
     "points": 6,
     "schema_version": 3,
     "solution": true,
     "task": false
    }
   },
   "source": [
    "YOUR ANSWER HERE\n",
    "\n",
    "We know that the number of possible ways for $6$ lowercase letters is:\n",
    "\n",
    "$26 * 26 * 26 * 26 * 26 * 26 = 26^6$\n",
    "\n",
    "We also can know without $k$ we can have:\n",
    "\n",
    "$25 * 25 * 25 * 25 * 25 * 25 = 25^6$\n",
    "\n",
    "We just need to use the number of possible ways for $6$ lowercase letters minus the number of possible ways without $k$:\n",
    "\n",
    "$26^6 -25^6 = 308915776 - 244140625 = 64775151$\n",
    "\n",
    "##### *by Xin Huang*"
   ]
  },
  {
   "cell_type": "markdown",
   "id": "7c045e8a",
   "metadata": {
    "deletable": false,
    "editable": false,
    "nbgrader": {
     "cell_type": "markdown",
     "checksum": "07be5d803db670bcdc1b13c81352e428",
     "grade": false,
     "grade_id": "cell-54751ab62676c359",
     "locked": true,
     "schema_version": 3,
     "solution": false,
     "task": false
    }
   },
   "source": [
    "## Question 4 [8 marks]\n",
    "\n",
    "A key in the Vigenère cryptosystem is a string of English letters, where the case of the letters does not matter. How many different keys for this cryptosystem are there with all of $3$, $4$, and $5$ letters allowed?"
   ]
  },
  {
   "cell_type": "markdown",
   "id": "887b70f7",
   "metadata": {
    "deletable": false,
    "nbgrader": {
     "cell_type": "markdown",
     "checksum": "dbd5bb6a81f54984d41cfd570a9298e5",
     "grade": true,
     "grade_id": "cell-a2f6281c00e70710",
     "locked": false,
     "points": 8,
     "schema_version": 3,
     "solution": true,
     "task": false
    }
   },
   "source": [
    "YOUR ANSWER HERE\n",
    "\n",
    "We know that the case of letters does not matter.\n",
    "\n",
    "For cryptosystem with $3$ letters, we have:\n",
    "\n",
    "$26 * 26 * 26 = 26^3 = 17576$\n",
    "\n",
    "For cryptosystem with $4$ letters, we have:\n",
    "\n",
    "$26 * 26 * 26 * 26 = 26^4 = 456976$\n",
    "\n",
    "For cryptosystem with $5$ letters, we have:\n",
    "\n",
    "$26 * 26 * 26 * 26 * 26 = 26^5 = 11881376$\n",
    "\n",
    "Thus, we have a total number of keys:\n",
    "\n",
    "$26^3 + 26^4 + 26^5 = 17576 + 456976 + 11881376 = 12355928$\n",
    "\n",
    "##### *by Xin Huang*"
   ]
  },
  {
   "cell_type": "markdown",
   "id": "49d9cb61",
   "metadata": {
    "deletable": false,
    "editable": false,
    "nbgrader": {
     "cell_type": "markdown",
     "checksum": "1d9e046b8286a5493c06a1bf00f101c7",
     "grade": false,
     "grade_id": "cell-1f3968ea242344a9",
     "locked": true,
     "schema_version": 3,
     "solution": false,
     "task": false
    }
   },
   "source": [
    "## Question 5 [10 marks]\n",
    "\n",
    "Let $x$ be a positive integer. Show that among any group of $x + 1$ (not necessarily consecutive) integers there are at least $2$ integers within the group with exactly the same remainder when they are divided by $x$."
   ]
  },
  {
   "cell_type": "markdown",
   "id": "eeb2dd9a",
   "metadata": {
    "deletable": false,
    "nbgrader": {
     "cell_type": "markdown",
     "checksum": "3b2be06698dee4d9fa27f8d36d2d8118",
     "grade": true,
     "grade_id": "cell-33010b20716a8f63",
     "locked": false,
     "points": 10,
     "schema_version": 3,
     "solution": true,
     "task": false
    }
   },
   "source": [
    "YOUR ANSWER HERE\n",
    "\n",
    "The set of all possible remainders is {0, 1, 2, ..., x - 1}. The cardinality of the set is x. By the Pigeonhole Principle, since we have x + 1 integers (the pigeons) but only x possible remainders (the holes), there must exists two integers, say m and n, such that m and n are in the same hole; i.e., m mod x = n mod x. Hence, we have shown that among any group of x + 1 integers, there are at least 2 integers within the group with exaclty the same remainder when they are divided by x. \n",
    "\n",
    "##### *by Zitong Gu*"
   ]
  },
  {
   "cell_type": "markdown",
   "id": "2de4ec8e",
   "metadata": {
    "deletable": false,
    "editable": false,
    "nbgrader": {
     "cell_type": "markdown",
     "checksum": "6a11ff9de607b9b7a9fee79ccf47c23f",
     "grade": false,
     "grade_id": "cell-11b91221a5034900",
     "locked": true,
     "schema_version": 3,
     "solution": false,
     "task": false
    }
   },
   "source": [
    "## Question 6 [16 marks]\n",
    "\n",
    "Suppose that there are $9$ students in a discrete mathematics class at a small college, none of which are male.\n",
    "\n",
    "a) Show that the class must have at least five female students or at least five nonbinary students.\\\n",
    "b) Show that the class must have at least three female students or at least seven nonbinary students."
   ]
  },
  {
   "cell_type": "markdown",
   "id": "e421e415",
   "metadata": {
    "deletable": false,
    "nbgrader": {
     "cell_type": "markdown",
     "checksum": "b0fad0b0f6d90d5c9794d24d96208ef4",
     "grade": true,
     "grade_id": "cell-f0f24c689e667b93",
     "locked": false,
     "points": 16,
     "schema_version": 3,
     "solution": true,
     "task": false
    }
   },
   "source": [
    "YOUR ANSWER HERE\n",
    "\n",
    "We give a proof by contradiction. Given that there are 9 students in this class. \n",
    "\n",
    "$a)$ Assume that the classroom has less than five girls and five nonbinary students, which is the negation of the given statement. \n",
    "   \n",
    "So the maximum number of students in the classroom is now $4 + 4 = 8 < 9$, a contradiction, since there are nine students. \n",
    "\n",
    "Thus, $a$ is true.\n",
    "\n",
    "---\n",
    "\n",
    "$b)$ Assume that the classroom is less than three girls and seven nonbinary students, which is the negation of the given statement.\n",
    "\n",
    "So the maximum number of students in the classroom is now $2 + 6 = 8 < 9$, a contradiction, since there are nine students. \n",
    "\n",
    "Thus, $b$ is true.\n",
    "\n",
    "##### *by Bozhi Zhang*"
   ]
  },
  {
   "cell_type": "markdown",
   "id": "5b53dc20",
   "metadata": {
    "deletable": false,
    "editable": false,
    "nbgrader": {
     "cell_type": "markdown",
     "checksum": "53ce9b3d77f4e552fd58725d87ddea5d",
     "grade": false,
     "grade_id": "cell-9005798c471772ec",
     "locked": true,
     "schema_version": 3,
     "solution": false,
     "task": false
    }
   },
   "source": [
    "## Question 7 [12 marks]\n",
    "\n",
    "Assuming that no one has more than $100,000$ hairs on the head of any person and that the population of Hamilton is $579,200$, show there has to be at least $6$ people in Hamilton with the same number of hairs on their heads."
   ]
  },
  {
   "attachments": {},
   "cell_type": "markdown",
   "id": "06adefe7",
   "metadata": {
    "deletable": false,
    "nbgrader": {
     "cell_type": "markdown",
     "checksum": "a472d77d4f708529671df505a9b09a75",
     "grade": true,
     "grade_id": "cell-e17c097a947d26bf",
     "locked": false,
     "points": 6,
     "schema_version": 3,
     "solution": true,
     "task": false
    }
   },
   "source": [
    "YOUR ANSWER HERE\n",
    "\n",
    "We may use the Pigeonhole Principle, let the \"numbers of hair\" be the \"holes\", that is, we have 0 hair as a hole, 1 hair as a hole, 2 hair as a hole, etc... Thus, we have 100001 holes in total. If we fill in every hole with people that match the number of hairs, there will be at least $\\lceil \\frac{\\text{population}}{\\text{max. number of hairs}} \\rceil = 6$ people that are assigned to the same hole, that is, at least six people have the same number of hairs one their heads. Hence, we have shown that there has to be at least 6 peopel in Hamilton with the same number of haris on their heads. \n",
    "\n",
    "##### *by Zitong Gu*"
   ]
  },
  {
   "cell_type": "markdown",
   "id": "be41e6b2",
   "metadata": {
    "deletable": false,
    "editable": false,
    "nbgrader": {
     "cell_type": "markdown",
     "checksum": "17d38485b7c42266e615661b1ea82ea0",
     "grade": false,
     "grade_id": "cell-14b2801a1f540888",
     "locked": true,
     "schema_version": 3,
     "solution": false,
     "task": false
    }
   },
   "source": [
    "## Question 8 [8 marks]\n",
    "\n",
    "Show how to get the value for each of these combinatorics.\n",
    "\n",
    "a) $C(8, 0)$\\\n",
    "b) $C(12, 6)$"
   ]
  },
  {
   "cell_type": "markdown",
   "id": "332b8dce",
   "metadata": {
    "deletable": false,
    "nbgrader": {
     "cell_type": "markdown",
     "checksum": "09cee4100cf44b2d5f68ab66381fe352",
     "grade": true,
     "grade_id": "cell-72736c0e86e4180a",
     "locked": false,
     "points": 8,
     "schema_version": 3,
     "solution": true,
     "task": false
    }
   },
   "source": [
    "YOUR ANSWER HERE\n",
    "\n",
    "$a)$ $C(n,r) = \\frac{n!}{(r!(n-r)!)}$\n",
    "\n",
    "$C(8,0) = \\frac{8!}{(0!(8-0)!)} = 1$\n",
    "\n",
    "---\n",
    "\n",
    "$b)$ $C(n,r) = \\frac{n!}{(r!(n-r)!)}$\n",
    "\n",
    "$C(12,6) = \\frac{12!}{(6!(12-6)!)} = 924$\n",
    "\n",
    "##### *by Bozhi Zhang*"
   ]
  },
  {
   "cell_type": "markdown",
   "id": "39139d2c",
   "metadata": {
    "deletable": false,
    "editable": false,
    "nbgrader": {
     "cell_type": "markdown",
     "checksum": "aa30311d61cbc960041defa7d27f187e",
     "grade": false,
     "grade_id": "cell-7f9b74d4936e0a87",
     "locked": true,
     "schema_version": 3,
     "solution": false,
     "task": false
    }
   },
   "source": [
    "## Question 9 [12 marks]\n",
    "\n",
    "If a coin is flipped $8$ times where each flip comes up as either heads or tails. How many possible outcomes...\n",
    "\n",
    "a) ...are there in total?\\\n",
    "b) ...contain at least $3$ heads?\\\n",
    "c) ...contain exactly $3$ heads?\\\n",
    "d) ...contain the same number of heads and tails?"
   ]
  },
  {
   "cell_type": "markdown",
   "id": "066efddd",
   "metadata": {
    "deletable": false,
    "nbgrader": {
     "cell_type": "markdown",
     "checksum": "5db41f273431993fa23ae737e1085b12",
     "grade": true,
     "grade_id": "cell-a7436c6c25f5993e",
     "locked": false,
     "points": 12,
     "schema_version": 3,
     "solution": true,
     "task": false
    }
   },
   "source": [
    "YOUR ANSWER HERE\n",
    "\n",
    "$a)$ We know that the coin has only two sides.\n",
    "\n",
    "Using the product rule we can know the total is:\n",
    "\n",
    "$2 * 2 * 2 * 2 * 2 * 2 * 2 * 2 = 2^8 = 256$\n",
    "\n",
    "Thus, we have 256 in total.\n",
    "\n",
    "---\n",
    "\n",
    "$b)$ We can calculate a conin flipped $8$ times that contain at least $3$ heads is:\n",
    "\n",
    "$C(8,3) + C(8,4) + C(8,5) + C(8,6) + C(8,7) + C(8,8)$\n",
    "\n",
    "$= 56 + 70 + 56 + 28 + 8 + 1 = 219$\n",
    "\n",
    "Thus, we have 219 possible outcomes.\n",
    "\n",
    "---\n",
    "\n",
    "$c)$ We can calculate a conin flipped $8$ times that contain exactly $3$ heads is:\n",
    "\n",
    "$C(8,3) = 56$\n",
    "\n",
    "Thus, we have 56 possible outcomes.\n",
    "\n",
    "---\n",
    "\n",
    "$d)$ We can calculate a conin flipped $8$ times that contain the same number of heads and tails is:\n",
    "\n",
    "$C(8,4) = 70$\n",
    "\n",
    "Thus, we have 70 possible outcomes.\n",
    "\n",
    "##### *by Bozhi Zhang*"
   ]
  },
  {
   "cell_type": "markdown",
   "id": "8e436be1",
   "metadata": {
    "deletable": false,
    "editable": false,
    "nbgrader": {
     "cell_type": "markdown",
     "checksum": "d89e987a59bc5fe79e7f3f6a1812d263",
     "grade": false,
     "grade_id": "cell-6dbc8cb0358fa1cb",
     "locked": true,
     "schema_version": 3,
     "solution": false,
     "task": false
    }
   },
   "source": [
    "## Question 10 [12 marks]\n",
    "\n",
    "How many strings of $8$ lowercase letters from the English alphabet contain the letters $e$ and $d$ in consecutive positions with $e$ preceding $d$, with all the letters being distinct?"
   ]
  },
  {
   "cell_type": "markdown",
   "id": "82d72f2e",
   "metadata": {
    "deletable": false,
    "nbgrader": {
     "cell_type": "markdown",
     "checksum": "59fc2bbbc7a1ac909bade02cdc1361e7",
     "grade": true,
     "grade_id": "cell-8810ffb004df51b7",
     "locked": false,
     "points": 12,
     "schema_version": 3,
     "solution": true,
     "task": false
    }
   },
   "source": [
    "YOUR ANSWER HERE\n",
    "\n",
    "We can know that the total number of letters is $26$.\n",
    "\n",
    "Out of the two letters $e$ and $d$ there are $24$ letters left, since: $26 - 2 = 24$\n",
    "\n",
    "Then we can select $6$ letter.\n",
    "\n",
    "By using permutations we can get:\n",
    "\n",
    "$P(24,6) = \\frac{24!}{(24-6)!} = 96909120$\n",
    "\n",
    "$8$ lowercase letters with $e$ and $d$, we can get $7$ locations.\n",
    "\n",
    "Just like:\n",
    "\n",
    "| 1 | 2 | 3 | 4 | 5 | 6 | 7 | 8 |\n",
    "|---|---|---|---|---|---|---|---|\n",
    "| e | d |   |   |   |   |   |   |\n",
    "|   | e | d |   |   |   |   |   |\n",
    "|   |   | e | d |   |   |   |   |\n",
    "|   |   |   | e | d |   |   |   |\n",
    "|   |   |   |   | e | d |   |   |\n",
    "|   |   |   |   |   | e | d |   |\n",
    "|   |   |   |   |   |   | e | d |\n",
    "\n",
    "So, the all possible ways is: $7 * 96909120 = 678363840$\n",
    "\n",
    "Thus, there are $678363840$ strings of $8$ lowercase letters from the English alphabet contain the letters $e$ and $d$ in consecutive positions with $e$ preceding $d$ , with all the letters being distinct.\n",
    "\n",
    "##### *by Bozhi Zhang*"
   ]
  },
  {
   "cell_type": "markdown",
   "id": "0cf1e0cf",
   "metadata": {
    "deletable": false,
    "editable": false,
    "nbgrader": {
     "cell_type": "markdown",
     "checksum": "24d66679340ee43a7fdf1ec0c65fee91",
     "grade": false,
     "grade_id": "cell-1ca8c97ef2ea478b",
     "locked": true,
     "schema_version": 3,
     "solution": false,
     "task": false
    }
   },
   "source": [
    "## Bonus Question 11 [10 bonus marks]\n",
    "\n",
    "How many strings of $5$ lowercase letters from the English alphabet contain the letters $r$ and $e$, where $r$ is somewhere to the left of $e$ in the string, with all the letters being distinct?"
   ]
  },
  {
   "cell_type": "markdown",
   "id": "f775dab5",
   "metadata": {
    "deletable": false,
    "nbgrader": {
     "cell_type": "markdown",
     "checksum": "fc9061d7e9fc208537f47eeda2d58a5a",
     "grade": true,
     "grade_id": "cell-994c63dde3acf3f0",
     "locked": false,
     "points": 10,
     "schema_version": 3,
     "solution": true,
     "task": false
    }
   },
   "source": [
    "YOUR ANSWER HERE\n",
    "\n",
    "We give four possible cases: \n",
    "\n",
    "| 1 | 2 | 3 | 4 | 5 |\n",
    "|---|---|---|---|---|\n",
    "|   | e |   |   |   |\n",
    "|   |   | e |   |   |\n",
    "|   |   |   | e |   |\n",
    "|   |   |   |   | e |\n",
    "\n",
    "The First case: r can only be at the location of \"1\", the rest of locations contributes 24 * 23 * 22 = 12144 possibilities. \\\n",
    "The Second case: r is either in the location of \"1\" or \"2\", thus there are 2 * 24 * 23 * 22 = 24288 possibilities in total. \\\n",
    "The Third case: r has 3 possible locations, thus there are 3 * 24 * 23 * 22 = 36432 possibilities in total. \\\n",
    "The Forth case: r has 4 possibile locations, thus there are 4 * 24 * 23 * 22 = 48576 possibilities in total. \n",
    "\n",
    "Therefore, there are 12144 + 24288 + 36342 + 48576 = 121440 such strings. \n",
    "\n",
    "##### *by Zitong Gu*"
   ]
  }
 ],
 "metadata": {
  "kernelspec": {
   "display_name": "Python 3 (ipykernel)",
   "language": "python",
   "name": "python3"
  },
  "language_info": {
   "codemirror_mode": {
    "name": "ipython",
    "version": 3
   },
   "file_extension": ".py",
   "mimetype": "text/x-python",
   "name": "python",
   "nbconvert_exporter": "python",
   "pygments_lexer": "ipython3",
   "version": "3.10.0"
  }
 },
 "nbformat": 4,
 "nbformat_minor": 5
}
