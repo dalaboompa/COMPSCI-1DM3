{
 "cells": [
  {
   "cell_type": "markdown",
   "id": "c955443d",
   "metadata": {
    "deletable": false,
    "editable": false,
    "nbgrader": {
     "cell_type": "markdown",
     "checksum": "d8cbfcc7dc648258f76d6a6c257e83ed",
     "grade": false,
     "grade_id": "cell-0c6401aa3082cff3",
     "locked": true,
     "schema_version": 3,
     "solution": false,
     "task": false
    }
   },
   "source": [
    "# 2022 WINTER 1DM3: Midterm 1\n",
    "\n",
    "* Instructor: Bin Guo\n",
    "* Marking: Adam Mak, Hamrish Saravanakumar, Simone Ocvirk (maka9,\n",
    "saravah, ocvirks)"
   ]
  },
  {
   "cell_type": "markdown",
   "id": "c834a80a",
   "metadata": {
    "deletable": false,
    "editable": false,
    "nbgrader": {
     "cell_type": "markdown",
     "checksum": "014c7827623ff90912cfb1682d0dc85e",
     "grade": false,
     "grade_id": "cell-b6e9135f0d32077d",
     "locked": true,
     "schema_version": 3,
     "solution": false,
     "task": false
    }
   },
   "source": [
    "* This is openbook midterm. You will be working on this midterm within your assigned group. You cannot search the solution on internet.  \n",
    "\n",
    "* You must submit your solution individually for grading. \n",
    "\n",
    "* The midterm is on Monday February 28th at 10:30 - 11:20 am. \n",
    "\n",
    "* __Your answer should give full detailed explainations__.\n",
    "\n",
    "* The full marks is __100__. Question 8 is a __bonus__ question which has __20__ marks as bonus. \n",
    "\n",
    "* The total marks up to the maximum __100__ marks.\n",
    "\n",
    "* NOTE: Many of these questions deal with proofs. You will __NOT__ achieve full marks on a question if you simply provide an example."
   ]
  },
  {
   "cell_type": "markdown",
   "id": "f4eb5bc9",
   "metadata": {},
   "source": [
    "$p \\rightarrow q, p \\leftrightarrow q, \\neg q, p \\land q, p \\lor q, p\\oplus q$, $\\bar{B}$, $\\{\\emptyset\\} \\in A$, $B \\notin A$, $A \\subseteq B$, $A \\subset B$, $A \\cup B$, $A \\cap B$, $\\bigcap\\limits_{i=1}^{n} A_i$, $\\bigcup\\limits_{i=1}^{n} A_i$, $\\exists x \\forall y (x = y)$, $\\epsilon$,\n",
    "$\\mathbb{Z}$ $\\mathbb{N}$"
   ]
  },
  {
   "cell_type": "markdown",
   "id": "b2a71f97",
   "metadata": {
    "deletable": false,
    "editable": false,
    "nbgrader": {
     "cell_type": "markdown",
     "checksum": "6d1435f5b6ddd5263136abfa7126d44f",
     "grade": false,
     "grade_id": "cell-003b0a1869de6f8d",
     "locked": true,
     "schema_version": 3,
     "solution": false,
     "task": false
    }
   },
   "source": [
    "## Question 1 [10 marks]\n",
    "When taking the question, it would appear as:\n",
    "Let p, q, and r be the propositions:   \n",
    "p: You have the flu.   \n",
    "q: You miss the final examination.   \n",
    "r: You pass the course.   \n",
    "\n",
    "Express this propositions as an English sentence:  \n",
    "$(p \\land q)  \\lor (\\neg q \\land r)$"
   ]
  },
  {
   "cell_type": "markdown",
   "id": "3fba2853",
   "metadata": {
    "deletable": false,
    "nbgrader": {
     "cell_type": "markdown",
     "checksum": "70289e4f6b4f76305ebd9ea60c0a8c12",
     "grade": true,
     "grade_id": "cell-8d96767ce3227450",
     "locked": false,
     "points": 10,
     "schema_version": 3,
     "solution": true,
     "task": false
    }
   },
   "source": [
    "YOUR ANSWER HERE\n",
    "\n",
    "You have the flu and you miss the final examination, or you didn't miss the final examination and you passed the course."
   ]
  },
  {
   "cell_type": "markdown",
   "id": "a454d424",
   "metadata": {
    "deletable": false,
    "editable": false,
    "nbgrader": {
     "cell_type": "markdown",
     "checksum": "a5d3eef74b6c3d3b0a667ea6ca3b6bee",
     "grade": false,
     "grade_id": "cell-760806ad5e51f08a",
     "locked": true,
     "schema_version": 3,
     "solution": false,
     "task": false
    }
   },
   "source": [
    "## Question 2 [10 marks]\n",
    "Determine whether this conditional statement is true or false: \n",
    "\n",
    "If $1+1=3$, then unicorns exist."
   ]
  },
  {
   "cell_type": "markdown",
   "id": "4db541c6",
   "metadata": {
    "deletable": false,
    "nbgrader": {
     "cell_type": "markdown",
     "checksum": "d0ad38290d61551f1ef482b0426c57a7",
     "grade": true,
     "grade_id": "cell-46e56f6922fb181e",
     "locked": false,
     "points": 10,
     "schema_version": 3,
     "solution": true,
     "task": false
    }
   },
   "source": [
    "YOUR ANSWER HERE\n",
    "\n",
    "This conditional statement is True because the assumption, $1+1=3$ is False, thus, the implication that \"If $1+1=3$, then unicorns exist\" is True. "
   ]
  },
  {
   "cell_type": "markdown",
   "id": "9af07259",
   "metadata": {
    "deletable": false,
    "editable": false,
    "nbgrader": {
     "cell_type": "markdown",
     "checksum": "b67d05827f8f73791b29b05e025a871c",
     "grade": false,
     "grade_id": "cell-e66e3f98c0635524",
     "locked": true,
     "schema_version": 3,
     "solution": false,
     "task": false
    }
   },
   "source": [
    "## Question 3 [20 marks]\n",
    "Construct a truth table for this compound proposition: $(p\\lor \\neg q)\\rightarrow q$  "
   ]
  },
  {
   "cell_type": "markdown",
   "id": "1b40632e",
   "metadata": {
    "deletable": false,
    "nbgrader": {
     "cell_type": "markdown",
     "checksum": "c913764a77f0bcde4a8e607e3b9acfb9",
     "grade": true,
     "grade_id": "cell-e377842318dcea78",
     "locked": false,
     "points": 20,
     "schema_version": 3,
     "solution": true,
     "task": false
    }
   },
   "source": [
    "YOUR ANSWER HERE\n",
    "\n",
    "|$$p$$|$$q$$|$$\\neg q$$| $$p \\vee \\neg q$$ |$$(p\\lor \\neg q)\\rightarrow q$$|\n",
    "|:---:|:--------:|:-----------------:|:-----------------:|:-----------------:|\n",
    "|  F  |     F    |          T        |       T      |       F      |\n",
    "|  F  |     T    |          F        |       F      |       T      |\n",
    "|  T  |     F    |          T        |       T      |       F      |\n",
    "|  T  |     T    |          F        |       T      |       T      |"
   ]
  },
  {
   "cell_type": "markdown",
   "id": "62d1eb02",
   "metadata": {
    "deletable": false,
    "editable": false,
    "nbgrader": {
     "cell_type": "markdown",
     "checksum": "e2176dea45ced0560a232ab18c39c184",
     "grade": false,
     "grade_id": "cell-f844ee1dde4c1d59",
     "locked": true,
     "schema_version": 3,
     "solution": false,
     "task": false
    }
   },
   "source": [
    "## Question 4  [10 marks]\n",
    "Rewrite $\\neg \\exists y ( Q(y) \\land \\forall x \\neg R(x,y) )$ so that all negations appear only left before predicates rather than left before quantifier."
   ]
  },
  {
   "cell_type": "markdown",
   "id": "3d7e3327",
   "metadata": {
    "deletable": false,
    "nbgrader": {
     "cell_type": "markdown",
     "checksum": "84613414d648bcecda02875475501be7",
     "grade": true,
     "grade_id": "cell-588a88baacc25360",
     "locked": false,
     "points": 10,
     "schema_version": 3,
     "solution": true,
     "task": false
    }
   },
   "source": [
    "YOUR ANSWER HERE\n",
    "\n",
    "¬∃𝑦(𝑄(𝑦)∧∀𝑥¬𝑅(𝑥,𝑦)) \\\n",
    "≡∀𝑦¬(𝑄(𝑦)∧∀𝑥¬𝑅(𝑥,𝑦)) \\\n",
    "≡∀𝑦(¬𝑄(𝑦)∨¬∀𝑥¬𝑅(𝑥,𝑦)) \\\n",
    "≡∀𝑦(¬𝑄(𝑦)∨∃𝑥¬¬𝑅(𝑥,𝑦)) \\\n",
    "≡∀𝑦(¬𝑄(𝑦)∨∃𝑥𝑅(𝑥,𝑦))"
   ]
  },
  {
   "cell_type": "markdown",
   "id": "29eae283",
   "metadata": {
    "deletable": false,
    "editable": false,
    "nbgrader": {
     "cell_type": "markdown",
     "checksum": "51a455a490bad113defa96ba651d9817",
     "grade": false,
     "grade_id": "cell-0c47113fb57a9189",
     "locked": true,
     "schema_version": 3,
     "solution": false,
     "task": false
    }
   },
   "source": [
    "## Question 5 [10 marks]\n",
    "\n",
    "Determine whether ths statement is true or false:\n",
    "\n",
    "1. $\\{\\{\\emptyset\\}\\} \\subset \\{\\{\\emptyset \\}, \\{\\emptyset \\}\\}$\n",
    "1. $\\emptyset \\in \\{\\emptyset , \\{\\emptyset \\}\\}$"
   ]
  },
  {
   "cell_type": "markdown",
   "id": "720a7baf",
   "metadata": {
    "deletable": false,
    "nbgrader": {
     "cell_type": "markdown",
     "checksum": "15e44680db3c48f0699577f31e7b0412",
     "grade": true,
     "grade_id": "cell-fb37da533db99ccb",
     "locked": false,
     "points": 10,
     "schema_version": 3,
     "solution": true,
     "task": false
    }
   },
   "source": [
    "YOUR ANSWER HERE\n",
    "\n",
    "1) True since the element in the first set IS also in the second set.\n",
    "\n",
    "2) True since the element IS in the set. "
   ]
  },
  {
   "cell_type": "markdown",
   "id": "3deb826f",
   "metadata": {
    "deletable": false,
    "editable": false,
    "nbgrader": {
     "cell_type": "markdown",
     "checksum": "ea83fc7dd4dff3134cd8a73ff7d6737a",
     "grade": false,
     "grade_id": "cell-fcfdcf165ef5b142",
     "locked": true,
     "schema_version": 3,
     "solution": false,
     "task": false
    }
   },
   "source": [
    "## Question 6 [20 marks]\n",
    "Prove that if $n$ is an integer and $3n+2$ is even, then $n$ is even using a proof by __contraposition__."
   ]
  },
  {
   "cell_type": "markdown",
   "id": "5f0e3590",
   "metadata": {
    "deletable": false,
    "nbgrader": {
     "cell_type": "markdown",
     "checksum": "a106374fbd59d6a75eca79af829fae94",
     "grade": true,
     "grade_id": "cell-2cf10b578a51c9e0",
     "locked": false,
     "points": 20,
     "schema_version": 3,
     "solution": true,
     "task": false
    }
   },
   "source": [
    "YOUR ANSWER HERE\n",
    "\n",
    "#### *proof*\n",
    "\n",
    "Fix $n \\in \\mathbb{Z}$ arbitrary. Let $p$ denote the statement that $n$ is an integer and $3n + 2$ is even and $q$ denote the statement that $n$ is even. We want to prove that $p \\Rightarrow q$. We give a proof by contrapositive. Assume that $n$ is odd, we want to show that $n$ is not an integer or $3n + 2$ is odd. Since $n$ is an integer by the Definition of odd numbers, we must show that $3n + 2$ is odd instead. By the Def. of odd numbers, we may fix $i \\in \\mathbb{N}$ such that $n = 2i + 1$. Thus, multiplying the equation by $3$ and adding both sides by $2$ give us that\n",
    "\n",
    "\\begin{align} 3n + 2 & = 3(2i + 1) + 2 \\\\ & = 6i + 3 + 2 \\\\ & = 6i + 4 + 1 \\\\ & = 2(3i + 2) + 1 \\end{align}\n",
    "Thus, we have shown that $3n + 2$ is odd since there exists an interger $k = 3i + 2$ such that $3n + 2 = 2k + 1$ by the Def. of odd numbers. Hence, we have proven that if $n$ is an integer and $3n + 2$ is even, then $n$ is even."
   ]
  },
  {
   "cell_type": "markdown",
   "id": "f666ffb8",
   "metadata": {
    "deletable": false,
    "editable": false,
    "nbgrader": {
     "cell_type": "markdown",
     "checksum": "135df4f074e5c22cbec43458329f6820",
     "grade": false,
     "grade_id": "cell-31ab5b655a408e52",
     "locked": true,
     "schema_version": 3,
     "solution": false,
     "task": false
    }
   },
   "source": [
    "## Question 7 [20 marks]\n",
    "\n",
    "Let $A$, $B$, and $C$ be sets. Show that:\n",
    "$(A\\cup B)\\subseteq (A\\cup B \\cup C)$\n"
   ]
  },
  {
   "cell_type": "markdown",
   "id": "c430916d",
   "metadata": {
    "deletable": false,
    "nbgrader": {
     "cell_type": "markdown",
     "checksum": "31a38ac32324f8fc6323ffec9f823d7e",
     "grade": true,
     "grade_id": "cell-2716d79fb0f57d75",
     "locked": false,
     "points": 20,
     "schema_version": 3,
     "solution": true,
     "task": false
    }
   },
   "source": [
    "YOUR ANSWER HERE\n",
    "\n",
    "#### *proof*\n",
    "\n",
    "Fix $x \\in (A \\cup B)$ arbitrary. We want to show that for all $x \\in (A \\cup B)$, $x \\in (A \\cup B \\cup C)$. For the sake of a contradiction, we assume that $x \\notin (A \\cup B \\cup C)$. Thus, by the definition of set unions, we have that $x \\notin A, \\, x \\notin B \\text{ and } x \\notin C$. A contraction since we have that $x \\in (A \\cup B)$ as our assumption which implies that $x \\in A \\, \\text{or} \\, x \\in B$. Hence, we have shown that $(A\\cup B)\\subseteq (A\\cup B \\cup C)$ by the definition of subsets. "
   ]
  },
  {
   "cell_type": "markdown",
   "id": "f2bf3ce7",
   "metadata": {
    "deletable": false,
    "editable": false,
    "nbgrader": {
     "cell_type": "markdown",
     "checksum": "eda5be5577bea30c9af280a97af40aad",
     "grade": false,
     "grade_id": "cell-39dcbcdf7fc6054d",
     "locked": true,
     "schema_version": 3,
     "solution": false,
     "task": false
    }
   },
   "source": [
    "\n",
    "## Bonus Question 8 [20 marks]\n",
    "Determine whether $f: \\mathbb Z \\times \\mathbb Z \\rightarrow \\mathbb Z$ is onto if $ f(m,n) = |m|−|n|$. \n",
    "\n",
    "\n",
    "hint: Let A and B be sets. The Cartesian product of A and B, denoted by A × B, is the set of all\n",
    "ordered pairs (a, b), where a ∈ A and b ∈ B. Hence, $A \\times B = \\{(a, b) | a \\in A \\land b \\in B\\}$. "
   ]
  },
  {
   "cell_type": "markdown",
   "id": "a97cd1f8",
   "metadata": {
    "deletable": false,
    "nbgrader": {
     "cell_type": "markdown",
     "checksum": "4d7554bae3f461ef14432183c4c1ac99",
     "grade": true,
     "grade_id": "cell-56710eb849cacecd",
     "locked": false,
     "points": 20,
     "schema_version": 3,
     "solution": true,
     "task": false
    }
   },
   "source": [
    "YOUR ANSWER HERE\n",
    "\n",
    "Fix $k \\in \\mathbb{Z}$ arbitrary. We want to show that for all $k \\in \\mathbb{Z}$, there exists $m, \\, n \\in \\mathbb{Z}$ such that $f(m, n) = k$. \n",
    "\n",
    "Case I: $k = 0$. We know that there exists $m = n = 0$ such that $f(0, 0) = 0 = k$.\n",
    "\n",
    "Case II: $k > 0$. Let $m - n = k \\in \\mathbb{Z} \\text{ and } m, n \\in \\mathbb{Z+}$. Then, $f(m, n) = |m| - |n| = m - n = k$. \n",
    "\n",
    "Case II: $k < 0$. Let $m = 0 \\text{ and } n \\in \\mathbb{Z+} $. Then, we have that $f(m, n) = 0 - |n| = -n$. Thus, we have found $k = -n$. \n",
    "\n",
    "Hence, the function $f: \\mathbb Z \\times \\mathbb Z \\rightarrow \\mathbb Z$ is onto where $ f(m,n) = |m|−|n|$."
   ]
  },
  {
   "cell_type": "code",
   "execution_count": null,
   "id": "b55a7158-c5b6-4c51-b5fb-f055fa1dc9a9",
   "metadata": {},
   "outputs": [],
   "source": []
  }
 ],
 "metadata": {
  "kernelspec": {
   "display_name": "Python 3 (ipykernel)",
   "language": "python",
   "name": "python3"
  },
  "language_info": {
   "codemirror_mode": {
    "name": "ipython",
    "version": 3
   },
   "file_extension": ".py",
   "mimetype": "text/x-python",
   "name": "python",
   "nbconvert_exporter": "python",
   "pygments_lexer": "ipython3",
   "version": "3.10.0"
  }
 },
 "nbformat": 4,
 "nbformat_minor": 5
}
